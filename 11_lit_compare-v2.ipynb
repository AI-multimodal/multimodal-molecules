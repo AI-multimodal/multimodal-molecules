{
 "cells": [
  {
   "cell_type": "code",
   "execution_count": null,
   "id": "a7b96014-930e-4554-9f36-d01286ce6523",
   "metadata": {
    "tags": []
   },
   "outputs": [],
   "source": [
    "%load_ext autoreload\n",
    "%autoreload 2\n",
    "%config Completer.use_jedi = False"
   ]
  },
  {
   "cell_type": "code",
   "execution_count": null,
   "id": "23beb6fd-ed4e-412a-9138-c82e265ad71b",
   "metadata": {
    "tags": []
   },
   "outputs": [],
   "source": [
    "from collections import Counter\n",
    "import json\n",
    "from pathlib import Path\n",
    "import string\n",
    "import sys\n",
    "\n",
    "from rdkit import Chem\n",
    "from rdkit import DataStructs\n",
    "from rdkit.Chem.Fingerprints import FingerprintMols\n",
    "from IPython.display import clear_output\n",
    "import matplotlib.pyplot as plt\n",
    "import matplotlib as mpl\n",
    "import numpy as np\n",
    "import pandas as pd\n",
    "from scipy.spatial import distance_matrix\n",
    "from sklearn.decomposition import PCA\n",
    "from sklearn.preprocessing import StandardScaler\n",
    "import tqdm\n",
    "import torch\n",
    "from sklearn.metrics import balanced_accuracy_score, accuracy_score, f1_score, recall_score\n",
    "\n",
    "from multimodal_molecules.core import Ensemble, Estimator, get_data\n",
    "from multimodal_molecules.plotting import set_defaults, set_grids, density_scatter, remove_axis_spines"
   ]
  },
  {
   "cell_type": "code",
   "execution_count": null,
   "id": "0f2e431e-4f1e-4f1f-ae6f-b96b4ba2fa29",
   "metadata": {},
   "outputs": [],
   "source": [
    "class NumpyEncoder(json.JSONEncoder):\n",
    "    def default(self, obj):\n",
    "        if isinstance(obj, np.ndarray):\n",
    "            return obj.tolist()\n",
    "        return json.JSONEncoder.default(self, obj)"
   ]
  },
  {
   "cell_type": "code",
   "execution_count": null,
   "id": "b07109d2-21b1-4e29-b097-b7ff61d636ea",
   "metadata": {},
   "outputs": [],
   "source": [
    "set_defaults()"
   ]
  },
  {
   "cell_type": "code",
   "execution_count": null,
   "id": "48523cdf-4fb9-4485-bb37-fdd7cb8b6e72",
   "metadata": {},
   "outputs": [],
   "source": [
    "C_grid = np.loadtxt(\"data/c_grid.txt\")\n",
    "N_grid = np.loadtxt(\"data/n_grid.txt\")\n",
    "O_grid = np.loadtxt(\"data/o_grid.txt\")"
   ]
  },
  {
   "cell_type": "markdown",
   "id": "eea7eb69-9a50-4539-b449-527dece29795",
   "metadata": {},
   "source": [
    "# Name-to-smiles maps"
   ]
  },
  {
   "cell_type": "code",
   "execution_count": null,
   "id": "3c71f039-9771-43e0-a17e-3dd91e9d251d",
   "metadata": {},
   "outputs": [],
   "source": [
    "C_smiles_map = {\n",
    "    \"tyrosine\"      : \"N[C@@H](Cc1ccc(O)cc1)C(O)=O\",\n",
    "    \"phenylalanine\" : \"c1ccc(cc1)C[C@@H](C(=O)O)N\",\n",
    "    \"histidine\"     : \"O=C([C@H](CC1=CNC=N1)N)O\",\n",
    "    \"alanine\"       : \"C[C@@H](C(=O)O)N\",\n",
    "    \"lysine\"        : \"C(CCN)C[C@@H](C(=O)O)N\"\n",
    "}\n",
    "C_name_to_data_map = {}\n",
    "for file in Path(\"data/24-01-02_experiment/ripped/Carbon\").glob(\"*.csv\"):\n",
    "    name = file.stem.split(\"carbon_\")[1]\n",
    "    data = np.loadtxt(file, delimiter=\",\")\n",
    "    data = data[data[:, 0].argsort()]\n",
    "    C_name_to_data_map[name] = data\n",
    "\n",
    "assert len(C_name_to_data_map) == len(C_smiles_map)\n",
    "assert C_name_to_data_map.keys() == C_smiles_map.keys()"
   ]
  },
  {
   "cell_type": "code",
   "execution_count": null,
   "id": "3ec59e6a-2b09-479c-8788-39f7e6607f91",
   "metadata": {},
   "outputs": [],
   "source": [
    "N_smiles_map = {\n",
    "    \"l-arginine\": \"C(C[C@@H](C(=O)O)N)CNC(=N)N\",\n",
    "    \"dl-aspartic-acid\": \"C(C(C(=O)O)N)C(=O)O\",\n",
    "    \"l-lysine\": \"C(CCN)C[C@@H](C(=O)O)N\",\n",
    "    \"l-alanine\": \"C[C@@H](C(=O)O)N\",\n",
    "    \"l-glutamic-acid\": \"C(CC(=O)O)[C@@H](C(=O)O)N\",\n",
    "    \"l-threonine\": \"C[C@H]([C@@H](C(=O)O)N)O\",\n",
    "    \"l-valine\": \"CC(C)[C@@H](C(=O)O)N\",\n",
    "    \"l-leucine\": \"CC(C)C[C@@H](C(=O)O)N\",\n",
    "    \"l-glutamine\": \"O=C(N)CCC(N)C(=O)O\",\n",
    "    \"l-serine\": \"C([C@@H](C(=O)O)N)O\",\n",
    "    \"l-histidine\": \"O=C([C@H](CC1=CNC=N1)N)O\",\n",
    "    \"l-proline\": \"C1C[C@H](NC1)C(=O)O\",\n",
    "    \"3-indoleacetonitrile\": \"C1=CC=C2C(=C1)C(=CN2)CC#N\",\n",
    "    \"4-hydroxy-2-pyridone\": \"C1=CC(O)=CC(=O)N1\",\n",
    "    \"carbazole\": \"c1ccc2c(c1)c3ccccc3[nH]2\",\n",
    "    \"pyrrole-2-carboxylic-acid\": \"C1=CNC(=C1)C(=O)O\",\n",
    "    \"pyrazinecarboxylic-acid\": \"C1=CN=C(C=N1)C(=O)O\",\n",
    "    \"pyrazinecarboxamide\": \"C1=CN=C(C=N1)C(=O)N\",\n",
    "    \"pyrimidinecarbonitrile\": \"N#Cc1ncccn1\",\n",
    "    \"cytosine\": \"O=C1Nccc(N)n1\",\n",
    "    \"uracil\": \"O=C1C=CNC(=O)N1\",\n",
    "    \"thymine\": \"O=C1NC(=O)NC=C1C\",\n",
    "}\n",
    "N_name_to_data_map = {}\n",
    "for file in Path(\"data/24-01-02_experiment/ripped/Nitrogen\").glob(\"*.csv\"):\n",
    "    name = file.stem.split(\"nitrogen_\")[1]\n",
    "    data = np.loadtxt(file, delimiter=\",\")\n",
    "    N_name_to_data_map[name] = data\n",
    "assert len(N_name_to_data_map) == len(N_smiles_map)\n",
    "assert N_name_to_data_map.keys() == N_smiles_map.keys()"
   ]
  },
  {
   "cell_type": "code",
   "execution_count": null,
   "id": "8cbcf94e-8803-4034-ac18-7694f33bacbb",
   "metadata": {},
   "outputs": [],
   "source": [
    "O_smiles_map = {\n",
    "    \"naphthoic-acid\": \"C1=CC=C2C(=C1)C=CC=C2C(=O)O\",\n",
    "    \"phthalic-anhydride\": \"O=C1OC(=O)c2ccccc12\",\n",
    "    \"anthraldehyde\": \"C1=CC=C2C(=C1)C=C3C=CC=CC3=C2C=O\",\n",
    "    \"methylcellulose\": \"COCC1C(C(C(C(O1)OC2C(OC(C(C2OC)OC)OC)COC)OC)OC)OC\",\n",
    "    \"uracil\": \"O=C1C=CNC(=O)N1\",\n",
    "    \"thymine\": \"O=C1NC(=O)NC=C1C\",\n",
    "    \"cytosine\": \"O=C1Nccc(N)n1\",\n",
    "    \"valine\": \"CC(C)[C@@H](C(=O)O)N\",\n",
    "}\n",
    "O_name_to_data_map = {}\n",
    "for file in Path(\"data/24-01-02_experiment/ripped/Oxygen\").glob(\"*.csv\"):\n",
    "    name = file.stem.split(\"oxygen_\")[1]\n",
    "    data = np.loadtxt(file, delimiter=\",\")\n",
    "    O_name_to_data_map[name] = data\n",
    "assert len(O_name_to_data_map) == len(O_smiles_map)\n",
    "assert O_name_to_data_map.keys() == O_smiles_map.keys()"
   ]
  },
  {
   "cell_type": "markdown",
   "id": "6eed846a-efec-4bed-b250-9281e0f89d81",
   "metadata": {},
   "source": [
    "# Index all smiles"
   ]
  },
  {
   "cell_type": "code",
   "execution_count": null,
   "id": "3868cd38-3f06-463d-acfc-cc52bbbd84fc",
   "metadata": {},
   "outputs": [],
   "source": [
    "def fp_from_smiles(smile):\n",
    "    return FingerprintMols.FingerprintMol(\n",
    "        Chem.MolFromSmiles(smile),\n",
    "        minPath=1,\n",
    "        maxPath=7,\n",
    "        fpSize=2048,\n",
    "        bitsPerHash=2,\n",
    "        useHs=True,\n",
    "        tgtDensity=0.0,\n",
    "        minSize=128\n",
    "    )"
   ]
  },
  {
   "cell_type": "code",
   "execution_count": null,
   "id": "65b5c24e-df25-4491-a604-7f895ea682e0",
   "metadata": {},
   "outputs": [],
   "source": [
    "def get_fp_and_spectra(element):\n",
    "    d = get_data(elements=element)\n",
    "    X = np.concatenate([d[\"X_train\"], d[\"X_val\"], d[\"X_test\"]], axis=0)\n",
    "    all_smiles = d[\"smiles_train\"] + d[\"smiles_val\"] + d[\"smiles_test\"]\n",
    "    all_fingerprints = [fp_from_smiles(x) for x in all_smiles]\n",
    "    return all_fingerprints, X, all_smiles"
   ]
  },
  {
   "cell_type": "code",
   "execution_count": null,
   "id": "2687820c-fe6f-4b0c-86d6-7f34733164e3",
   "metadata": {},
   "outputs": [],
   "source": [
    "def bulk_similarity(smiles, all_fingerprints):\n",
    "    return DataStructs.BulkTanimotoSimilarity(fp_from_smiles(smiles), all_fingerprints)"
   ]
  },
  {
   "cell_type": "code",
   "execution_count": null,
   "id": "15763457-6d7f-42b3-83c8-391955b4e7ec",
   "metadata": {},
   "outputs": [],
   "source": [
    "C_FEFF_fps, C_FEFF_X, C_FEFF_smiles = get_fp_and_spectra(\"C\")\n",
    "N_FEFF_fps, N_FEFF_X, N_FEFF_smiles = get_fp_and_spectra(\"N\")\n",
    "O_FEFF_fps, O_FEFF_X, O_FEFF_smiles = get_fp_and_spectra(\"O\")"
   ]
  },
  {
   "cell_type": "markdown",
   "id": "c7f88390-13ef-4c5b-a48f-5ee59d580430",
   "metadata": {},
   "source": [
    "# Get the FEFF maps\n",
    "Maybe we choose the top 5 or so FEFF matches by TCC similarity and go from there"
   ]
  },
  {
   "cell_type": "code",
   "execution_count": null,
   "id": "7167ff8c-3d84-4ed5-b6e1-2afb1e5c7c07",
   "metadata": {},
   "outputs": [],
   "source": [
    "C_FEFF_matches = {}\n",
    "\n",
    "_map = C_smiles_map\n",
    "_fps = C_FEFF_fps\n",
    "_smiles = C_FEFF_smiles\n",
    "_spectra = C_FEFF_X\n",
    "\n",
    "for name, smiles in _map.items():\n",
    "    sim = bulk_similarity(smiles, _fps)\n",
    "    argsorted = np.argsort(sim)[::-1]\n",
    "    top = argsorted[:5]\n",
    "    top_smiles = [_smiles[ii] for ii in top]\n",
    "    top_spectra = [_spectra[ii] for ii in top]\n",
    "    top_sim = [sim[ii] for ii in top]\n",
    "    C_FEFF_matches[name] = {}\n",
    "    C_FEFF_matches[name][\"top_smiles\"] = top_smiles\n",
    "    C_FEFF_matches[name][\"top_spectra\"] = top_spectra\n",
    "    C_FEFF_matches[name][\"tcc\"] = top_sim"
   ]
  },
  {
   "cell_type": "code",
   "execution_count": null,
   "id": "b034497f-1d21-4469-a746-e49d24f11419",
   "metadata": {},
   "outputs": [],
   "source": [
    "N_FEFF_matches = {}\n",
    "\n",
    "_map = N_smiles_map\n",
    "_fps = N_FEFF_fps\n",
    "_smiles = N_FEFF_smiles\n",
    "_spectra = N_FEFF_X\n",
    "\n",
    "for name, smiles in _map.items():\n",
    "    sim = bulk_similarity(smiles, _fps)\n",
    "    argsorted = np.argsort(sim)[::-1]\n",
    "    top = argsorted[:5]\n",
    "    top_smiles = [_smiles[ii] for ii in top]\n",
    "    top_spectra = [_spectra[ii] for ii in top]\n",
    "    top_sim = [sim[ii] for ii in top]\n",
    "    N_FEFF_matches[name] = {}\n",
    "    N_FEFF_matches[name][\"top_smiles\"] = top_smiles\n",
    "    N_FEFF_matches[name][\"top_spectra\"] = top_spectra\n",
    "    N_FEFF_matches[name][\"tcc\"] = top_sim"
   ]
  },
  {
   "cell_type": "code",
   "execution_count": null,
   "id": "e327a94d-d665-47e8-a94d-227db3484aa6",
   "metadata": {},
   "outputs": [],
   "source": [
    "O_FEFF_matches = {}\n",
    "\n",
    "_map = O_smiles_map\n",
    "_fps = O_FEFF_fps\n",
    "_smiles = O_FEFF_smiles\n",
    "_spectra = O_FEFF_X\n",
    "\n",
    "for name, smiles in _map.items():\n",
    "    sim = bulk_similarity(smiles, _fps)\n",
    "    argsorted = np.argsort(sim)[::-1]\n",
    "    top = argsorted[:5]\n",
    "    top_smiles = [_smiles[ii] for ii in top]\n",
    "    top_spectra = [_spectra[ii] for ii in top]\n",
    "    top_sim = [sim[ii] for ii in top]\n",
    "    O_FEFF_matches[name] = {}\n",
    "    O_FEFF_matches[name][\"top_smiles\"] = top_smiles\n",
    "    O_FEFF_matches[name][\"top_spectra\"] = top_spectra\n",
    "    O_FEFF_matches[name][\"tcc\"] = top_sim"
   ]
  },
  {
   "cell_type": "markdown",
   "id": "9b6d1c4b-fa0a-4fe0-a041-effd05beca22",
   "metadata": {},
   "source": [
    "# Plot the data"
   ]
  },
  {
   "cell_type": "code",
   "execution_count": null,
   "id": "3c3cc3c6-47ad-4774-95ee-8594fb44684e",
   "metadata": {},
   "outputs": [],
   "source": [
    "def setup_intensity(y):\n",
    "    # return y\n",
    "    y = y.copy()\n",
    "    y -= y[0]\n",
    "    y /= y[-1]\n",
    "    return y"
   ]
  },
  {
   "cell_type": "markdown",
   "id": "75fa9263-2252-4cbe-9414-d423fbe41a41",
   "metadata": {
    "jp-MarkdownHeadingCollapsed": true
   },
   "source": [
    "## Carbon"
   ]
  },
  {
   "cell_type": "code",
   "execution_count": null,
   "id": "c8f72daa-9387-4391-85be-7ae524b5bb5d",
   "metadata": {},
   "outputs": [],
   "source": [
    "_smiles_map =      C_smiles_map\n",
    "_exp_spectra_map = C_name_to_data_map\n",
    "_matches =         C_FEFF_matches\n",
    "_feff_grid =       C_grid\n",
    "_keep =            sorted(C_smiles_map.keys())\n",
    "_keep =            [\"alanine\", \"histidine\", \"lysine\"]\n",
    "_shift =           11\n",
    "_element =         \"Carbon\""
   ]
  },
  {
   "cell_type": "code",
   "execution_count": null,
   "id": "ea3da208-237a-49ea-8889-d78993e5b250",
   "metadata": {},
   "outputs": [],
   "source": [
    "smiles = []\n",
    "feff_smiles_matches = []\n",
    "\n",
    "for name in _keep:\n",
    "    smile = _smiles_map[name]\n",
    "    smiles.append(Chem.MolFromSmiles(smile))\n",
    "    feff_smile = _matches[name][\"top_smiles\"][0]\n",
    "    feff_smiles_matches.append(Chem.MolFromSmiles(feff_smile))\n",
    "\n",
    "svg = Chem.Draw.MolsToGridImage(smiles, useSVG=True)\n",
    "with open(f\"figures/fig_experiment/{_element}/exp_molecules.svg\", \"w\") as f:\n",
    "    f.write(svg.data)\n",
    "    \n",
    "svg = Chem.Draw.MolsToGridImage(feff_smiles_matches, useSVG=True)\n",
    "with open(f\"figures/fig_experiment/{_element}/feff_molecules.svg\", \"w\") as f:\n",
    "    f.write(svg.data)"
   ]
  },
  {
   "cell_type": "code",
   "execution_count": null,
   "id": "6be4fd8f-d969-499f-ad69-61e78012ad1e",
   "metadata": {},
   "outputs": [],
   "source": [
    "fig, axs = plt.subplots(len(_keep), 1, figsize=(2, len(_keep)), sharey=True, sharex=True)\n",
    "\n",
    "cc = 0\n",
    "for ii, name in enumerate(_keep):\n",
    "\n",
    "    spectrum = _exp_spectra_map[name]\n",
    "\n",
    "    ax = axs[cc]\n",
    "    set_grids(ax)\n",
    "\n",
    "    feff_spectrum = _matches[name][\"top_spectra\"]\n",
    "\n",
    "    tcc = _matches[name][\"tcc\"][0]\n",
    "\n",
    "    ax.text(0.95, 0.8, f\"{name}\", ha=\"right\", transform=ax.transAxes, fontsize=8)\n",
    "    ax.text(0.95, 0.65, f\"TCC={tcc:.02f}\", ha=\"right\", transform=ax.transAxes)\n",
    "\n",
    "    feff = feff_spectrum[0]\n",
    "    exp = setup_intensity(spectrum[:, 1])\n",
    "\n",
    "    ax.plot(_feff_grid + _shift, feff, \"r-\", label=\"FEFF\")\n",
    "    ax.plot(spectrum[:, 0], exp, \"k-\", label=\"exp\")\n",
    "    \n",
    "\n",
    "    ax.set_xlim(284, 295)\n",
    "    # ax.set_xticks([285, 292, 299])\n",
    "    ax.set_yticks([])\n",
    "    \n",
    "\n",
    "    if ii == 0:\n",
    "        ax.legend(frameon=False, loc=\"upper left\", fontsize=8)\n",
    "    \n",
    "    cc += 1\n",
    "\n",
    "ax.set_xlabel(\"$E$~(eV)\")\n",
    "axs[1].set_ylabel(\"$\\mu(E)$~(a.u.)\")\n",
    "# plt.savefig(f\"figures/fig_experiment/{_element}/tmp_{_element}.svg\", dpi=300, bbox_inches=\"tight\")\n",
    "plt.show()"
   ]
  },
  {
   "cell_type": "markdown",
   "id": "b745c72c-f84b-4bba-991d-7a2012f08f0e",
   "metadata": {
    "jp-MarkdownHeadingCollapsed": true
   },
   "source": [
    "## Nitrogen"
   ]
  },
  {
   "cell_type": "code",
   "execution_count": null,
   "id": "63936770-ba42-4024-9d64-eac07ab075ac",
   "metadata": {},
   "outputs": [],
   "source": [
    "_smiles_map =      N_smiles_map\n",
    "_exp_spectra_map = N_name_to_data_map\n",
    "_matches =         N_FEFF_matches\n",
    "_feff_grid =       N_grid\n",
    "# _keep =            sorted([key for key in N_keep if N_FEFF_matches[key][\"tcc\"][0] > 0.95])\n",
    "_keep =            [\"l-alanine\", \"l-proline\", \"pyrimidinecarbonitrile\"]\n",
    "_element =         \"Nitrogen\""
   ]
  },
  {
   "cell_type": "code",
   "execution_count": null,
   "id": "ccef9f68-af2c-4484-938d-b0630e4a80f8",
   "metadata": {},
   "outputs": [],
   "source": [
    "smiles = []\n",
    "feff_smiles_matches = []\n",
    "\n",
    "for name in _keep:\n",
    "    smile = _smiles_map[name]\n",
    "    smiles.append(Chem.MolFromSmiles(smile))\n",
    "    feff_smile = _matches[name][\"top_smiles\"][0]\n",
    "    feff_smiles_matches.append(Chem.MolFromSmiles(feff_smile))\n",
    "\n",
    "svg = Chem.Draw.MolsToGridImage(smiles, useSVG=True)\n",
    "with open(f\"figures/fig_experiment/{_element}/exp_molecules.svg\", \"w\") as f:\n",
    "    f.write(svg.data)\n",
    "    \n",
    "svg = Chem.Draw.MolsToGridImage(feff_smiles_matches, useSVG=True)\n",
    "with open(f\"figures/fig_experiment/{_element}/feff_molecules.svg\", \"w\") as f:\n",
    "    f.write(svg.data)"
   ]
  },
  {
   "cell_type": "code",
   "execution_count": null,
   "id": "b5c37ecb-e7eb-4b71-97e8-394aa0509881",
   "metadata": {},
   "outputs": [],
   "source": [
    "fig, axs = plt.subplots(len(_keep), 1, figsize=(2, len(_keep)), sharey=True, sharex=True)\n",
    "\n",
    "cc = 0\n",
    "for ii, name in enumerate(_keep):\n",
    "\n",
    "    spectrum = _exp_spectra_map[name]\n",
    "\n",
    "    ax = axs[cc]\n",
    "    set_grids(ax)\n",
    "\n",
    "    feff_spectrum = _matches[name][\"top_spectra\"]\n",
    "\n",
    "    tcc = _matches[name][\"tcc\"][0]\n",
    "\n",
    "    name = name.replace(\"l-\", \"\")\n",
    "    \n",
    "    ax.text(0.95, 0.8, f\"{name}\", ha=\"right\", transform=ax.transAxes, fontsize=8)\n",
    "    # ax.text(0.95, 0.8, f\"TCC={tcc:.02f}\", ha=\"right\", transform=ax.transAxes)\n",
    "    \n",
    "    feff = feff_spectrum[0]\n",
    "    exp = setup_intensity(spectrum[:, 1])\n",
    "\n",
    "    if name == \"alanine\":\n",
    "        shift = 0.5\n",
    "        xshift = 0\n",
    "    elif name == \"proline\":\n",
    "        shift = 0.5\n",
    "        xshift = 0\n",
    "    elif name == \"pyrimidinecarbonitrile\":\n",
    "        shift = 0.5\n",
    "        xshift = 1.5\n",
    "    \n",
    "    ax.plot(spectrum[:, 0] + xshift, exp / exp.max(), \"k-\", label=\"exp\")\n",
    "    ax.plot(_feff_grid, feff / feff.max() + shift, \"r-\", label=\"FEFF\")\n",
    "    \n",
    "    \n",
    "\n",
    "    ax.set_xlim(395, 420)\n",
    "    ax.set_yticks([])\n",
    "    ax.set_xticks([400, 408, 416])\n",
    "\n",
    "    if ii == 0:\n",
    "        ax.legend(frameon=False, loc=\"upper left\", fontsize=8)\n",
    "    \n",
    "    cc += 1\n",
    "\n",
    "ax.set_xlabel(\"$E$~(eV)\")\n",
    "axs[1].set_ylabel(\"$\\mu(E)$~(a.u.)\")\n",
    "plt.savefig(f\"figures/fig_experiment/{_element}/tmp_{_element}.svg\", dpi=300, bbox_inches=\"tight\")\n",
    "# plt.show()"
   ]
  },
  {
   "cell_type": "markdown",
   "id": "2c961516-1ff5-42e3-b1fd-0a77394f3fd2",
   "metadata": {},
   "source": [
    "### Alternate"
   ]
  },
  {
   "cell_type": "code",
   "execution_count": null,
   "id": "90044ef3-85cf-462a-aa86-db8ee2356871",
   "metadata": {},
   "outputs": [],
   "source": [
    "fig, ax = plt.subplots(1, 1, figsize=(2, 0.5*len(_keep)), sharey=True, sharex=True)\n",
    "\n",
    "set_grids(ax)\n",
    "for ii, name in enumerate(_keep):\n",
    "\n",
    "    spectrum = _exp_spectra_map[name]\n",
    "\n",
    "    feff_spectrum = _matches[name][\"top_spectra\"]\n",
    "\n",
    "    tcc = _matches[name][\"tcc\"][0]\n",
    "\n",
    "    # ax.text(0.95, 0.8, f\"{name}\", ha=\"right\", transform=ax.transAxes, fontsize=8)\n",
    "    # ax.text(0.95, 0.8, f\"TCC={tcc:.02f}\", ha=\"right\", transform=ax.transAxes)\n",
    "    \n",
    "    offset = ii \n",
    "    ax.plot(_feff_grid + _shift, feff_spectrum[0] / np.max(feff_spectrum[0]) - offset, \"r-\", label=\"FEFF\")\n",
    "    exp = setup_intensity(spectrum[:, 1])\n",
    "    ax.plot(spectrum[:, 0], exp / exp.max() - offset, \"k-\", label=\"exp\")\n",
    "    \n",
    "\n",
    "    ax.set_xlim(395, 420)\n",
    "    ax.set_yticks([])\n",
    "    ax.set_xticks([400, 408, 416])\n",
    "\n",
    "    # if ii == 0:\n",
    "    #     ax.legend(frameon=False, loc=\"upper left\", fontsize=8)\n",
    "\n",
    "\n",
    "ax.set_xlabel(\"$E$~(eV)\")\n",
    "axs[1].set_ylabel(\"$\\mu(E)$~(a.u.)\")\n",
    "# plt.savefig(f\"figures/fig_experiment/{_element}/tmp_{_element}.svg\", dpi=300, bbox_inches=\"tight\")\n",
    "plt.show()"
   ]
  },
  {
   "cell_type": "markdown",
   "id": "b562a825-5ba9-465d-a79c-512b3fbad9fe",
   "metadata": {},
   "source": [
    "# Oxygen"
   ]
  },
  {
   "cell_type": "code",
   "execution_count": null,
   "id": "f9b01028-512a-447b-bc4d-73bc50e46a65",
   "metadata": {},
   "outputs": [],
   "source": [
    "_smiles_map =      O_smiles_map\n",
    "_exp_spectra_map = O_name_to_data_map\n",
    "_matches =         O_FEFF_matches\n",
    "_feff_grid =       O_grid\n",
    "# _keep =            sorted([key for key in O_keep if O_FEFF_matches[key][\"tcc\"][0] > 0.95])\n",
    "_keep =            [\"uracil\", \"valine\", \"cytosine\"]\n",
    "_element =         \"Oxygen\""
   ]
  },
  {
   "cell_type": "code",
   "execution_count": null,
   "id": "fe7afb54-9659-435e-8775-9e84a7d7d59c",
   "metadata": {},
   "outputs": [],
   "source": [
    "smiles = []\n",
    "feff_smiles_matches = []\n",
    "\n",
    "for name in _keep:\n",
    "    smile = _smiles_map[name]\n",
    "    smiles.append(Chem.MolFromSmiles(smile))\n",
    "    feff_smile = _matches[name][\"top_smiles\"][0]\n",
    "    feff_smiles_matches.append(Chem.MolFromSmiles(feff_smile))\n",
    "\n",
    "svg = Chem.Draw.MolsToGridImage(smiles, useSVG=True)\n",
    "with open(f\"figures/fig_experiment/{_element}/exp_molecules.svg\", \"w\") as f:\n",
    "    f.write(svg.data)\n",
    "    \n",
    "svg = Chem.Draw.MolsToGridImage(feff_smiles_matches, useSVG=True)\n",
    "with open(f\"figures/fig_experiment/{_element}/feff_molecules.svg\", \"w\") as f:\n",
    "    f.write(svg.data)"
   ]
  },
  {
   "cell_type": "code",
   "execution_count": null,
   "id": "5ee78c67-8263-4c34-9d68-c2fd672254fb",
   "metadata": {},
   "outputs": [],
   "source": [
    "fig, axs = plt.subplots(len(_keep), 1, figsize=(2, len(_keep)), sharey=True, sharex=True)\n",
    "\n",
    "cc = 0\n",
    "for ii, name in enumerate(_keep):\n",
    "\n",
    "    spectrum = _exp_spectra_map[name]\n",
    "\n",
    "    ax = axs[cc]\n",
    "    set_grids(ax)\n",
    "\n",
    "    feff_spectrum = _matches[name][\"top_spectra\"]\n",
    "\n",
    "    tcc = _matches[name][\"tcc\"][0]\n",
    "\n",
    "    ax.text(0.95, 0.8, f\"{name}\", ha=\"right\", transform=ax.transAxes, fontsize=8)\n",
    "    # ax.text(0.95, 0.8, f\"TCC={tcc:.02f}\", ha=\"right\", transform=ax.transAxes)\n",
    "    \n",
    "    feff = feff_spectrum[0]\n",
    "    exp = setup_intensity(spectrum[:, 1])\n",
    "\n",
    "    if name == \"uracil\":\n",
    "        shift = 0.5\n",
    "    elif name == \"valine\":\n",
    "        shift = 0.4\n",
    "    elif name == \"cytosine\":\n",
    "        shift = 0.5\n",
    "\n",
    "    ax.plot(spectrum[:, 0], exp / exp.max(), \"k-\", label=\"exp\")\n",
    "    ax.plot(_feff_grid, feff / feff.max() + shift, \"r-\", label=\"FEFF\")\n",
    "    \n",
    "    \n",
    "\n",
    "    ax.set_xlim(525, 555)\n",
    "    ax.set_yticks([])\n",
    "    # ax.set_xticks([400, 408, 416])\n",
    "\n",
    "    if ii == 0:\n",
    "        ax.legend(frameon=False, loc=\"upper left\", fontsize=8)\n",
    "    \n",
    "    cc += 1\n",
    "\n",
    "ax.set_xlabel(\"$E$~(eV)\")\n",
    "axs[1].set_ylabel(\"$\\mu(E)$~(a.u.)\")\n",
    "plt.savefig(f\"figures/fig_experiment/{_element}/tmp_{_element}.svg\", dpi=300, bbox_inches=\"tight\")\n",
    "# plt.show()"
   ]
  },
  {
   "cell_type": "code",
   "execution_count": null,
   "id": "08913d35-d171-4eec-930d-aed0e55509dc",
   "metadata": {},
   "outputs": [],
   "source": []
  }
 ],
 "metadata": {
  "kernelspec": {
   "display_name": "Python 3 (ipykernel)",
   "language": "python",
   "name": "python3"
  },
  "language_info": {
   "codemirror_mode": {
    "name": "ipython",
    "version": 3
   },
   "file_extension": ".py",
   "mimetype": "text/x-python",
   "name": "python",
   "nbconvert_exporter": "python",
   "pygments_lexer": "ipython3",
   "version": "3.11.6"
  }
 },
 "nbformat": 4,
 "nbformat_minor": 5
}
