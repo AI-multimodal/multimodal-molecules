{
 "cells": [
  {
   "cell_type": "code",
   "execution_count": null,
   "id": "8e26ca90-97b6-4c51-854d-b4c6a025d6fd",
   "metadata": {},
   "outputs": [],
   "source": [
    "%load_ext autoreload\n",
    "%autoreload 2\n",
    "%config Completer.use_jedi = False"
   ]
  },
  {
   "cell_type": "markdown",
   "id": "977d0c5b-878c-4862-8495-5c3b7c53fcd0",
   "metadata": {},
   "source": [
    "Helper functions and imports"
   ]
  },
  {
   "cell_type": "code",
   "execution_count": null,
   "id": "ea1f4d99-52e1-41ec-9c02-0285ea7ebe87",
   "metadata": {},
   "outputs": [],
   "source": [
    "from copy import deepcopy\n",
    "from datetime import datetime\n",
    "import json\n",
    "from pathlib import Path\n",
    "from shutil import copy as shutil_copy\n",
    "\n",
    "import numpy as np"
   ]
  },
  {
   "cell_type": "code",
   "execution_count": null,
   "id": "ec6de280-aaec-4b61-b7db-9521e87cdcb5",
   "metadata": {
    "tags": []
   },
   "outputs": [],
   "source": [
    "from multimodal_molecules.models import Results, validate"
   ]
  },
  {
   "cell_type": "code",
   "execution_count": null,
   "id": "91693c90-9b17-4c3d-9f03-4c269fd398d0",
   "metadata": {
    "tags": []
   },
   "outputs": [],
   "source": [
    "def write_jobs(jobs):\n",
    "    now = datetimeResultsw().strftime(\"%y_%m_%d_%H_%M_%S_jobs\")\n",
    "    target_directory = Path(\"jobs\") / now\n",
    "    print(f\"Writing jobs to {target_directory}\")\n",
    "    target_directory.mkdir(exist_ok=False, parents=True)\n",
    "    for ii, job in enumerate(jobs):\n",
    "        path = target_directory / f\"{ii:03}\"\n",
    "        path.mkdir(exist_ok=False, parents=False)\n",
    "        with open(path / \"config.json\", 'w') as f:\n",
    "            json.dump(job, f, indent=4, sort_keys=True)\n",
    "        shutil_copy(\"run.py\", path / \"run.py\")\n",
    "        shutil_copy(\"submit.sbatch\", path / \"submit.sbatch\")"
   ]
  },
  {
   "cell_type": "markdown",
   "id": "d95c544c-4d4e-410d-9757-769dd98b6c64",
   "metadata": {},
   "source": [
    "# Pass 1"
   ]
  },
  {
   "cell_type": "markdown",
   "id": "5a5fc5e7-59a5-447d-8767-c13562bfb391",
   "metadata": {},
   "source": [
    "We'll just mess around with `Secondary_alcohol` for a bit to start."
   ]
  },
  {
   "cell_type": "markdown",
   "id": "8714d5ba-4b34-413c-b1bf-5046f275c6ea",
   "metadata": {},
   "source": [
    "`Results` keyword args"
   ]
  },
  {
   "cell_type": "code",
   "execution_count": null,
   "id": "7b5c1de5-d0c2-4fa9-a1d5-e1f0e317969d",
   "metadata": {
    "tags": []
   },
   "outputs": [],
   "source": [
    "# These go in `rf_kwargs` ###################\n",
    "ccp_alpha_values = [1e-3, 1e-4, 1e-5, 1e-6, 1e-7]\n",
    "max_features_values = [0.3, 0.4, 0.5, 0.6, 0.7]\n",
    "#############################################\n",
    "\n",
    "d = {\n",
    "    \"module_path\": \"/sdcc/u/mcarbone/Github/multimodal-molecules\",\n",
    "    # \"module_path\": \"/Users/mc/GitHub/AIMM/multimodal-molecules\",\n",
    "    \"results_kwargs\": {\n",
    "        \"conditions\": \"C-XANES,O-XANES\",\n",
    "        \"xanes_data_name\": \"221205_xanes.pkl\",\n",
    "        \"index_data_name\": \"221205_index.csv\",\n",
    "        # \"xanes_data_name\": \"/Users/mc/GitHub/AIMM/multimodal-molecules/data/221205/221205_xanes.pkl\",\n",
    "        # \"index_data_name\": \"/Users/mc/GitHub/AIMM/multimodal-molecules/data/221205/221205_index.csv\",\n",
    "        \"specific_functional_groups\": [\"Secondary_alcohol\"],\n",
    "        \"val_size\": 0.1,\n",
    "        \"test_size\": 0.1,\n",
    "        \"rf_kwargs\": {\"max_samples\": 0.9},\n",
    "        \"random_state\": 1234,\n",
    "    }\n",
    "}\n"
   ]
  },
  {
   "cell_type": "markdown",
   "id": "ae89f3df-9156-43a1-b280-a66352c9a5d4",
   "metadata": {},
   "source": [
    "`Results.run_experiment` keyword args"
   ]
  },
  {
   "cell_type": "code",
   "execution_count": null,
   "id": "f1375fe7-e098-4cc6-9986-b4e6bb58d8ce",
   "metadata": {
    "tags": []
   },
   "outputs": [],
   "source": [
    "# Output data directory is relative to the location where the script is run,\n",
    "# which will be unique\n",
    "d[\"run_experiments_kwargs\"] = {\n",
    "    \"input_data_directory\": \"/hpcgpfs01/work/cfn/mcarbone/multimodal_molecules_data/data/221205\",\n",
    "    \"output_data_directory\": \"results\",\n",
    "    \"n_jobs\": 12,\n",
    "    \"compute_feature_importance\": False,\n",
    "}"
   ]
  },
  {
   "cell_type": "code",
   "execution_count": null,
   "id": "da979030-f7bf-4299-a2f6-491db19fcd65",
   "metadata": {
    "tags": []
   },
   "outputs": [],
   "source": [
    "jobs = []\n",
    "for ccp_alpha in ccp_alpha_values:\n",
    "    for max_features in max_features_values:\n",
    "        d2 = deepcopy(d)\n",
    "        d2[\"results_kwargs\"][\"rf_kwargs\"][\"ccp_alpha\"] = ccp_alpha\n",
    "        d2[\"results_kwargs\"][\"rf_kwargs\"][\"max_features\"] = max_features\n",
    "        jobs.append(d2)"
   ]
  },
  {
   "cell_type": "code",
   "execution_count": null,
   "id": "37434b75-fc49-4dce-ae10-dfefe17d4e19",
   "metadata": {
    "tags": []
   },
   "outputs": [],
   "source": [
    "write_jobs(jobs)"
   ]
  },
  {
   "cell_type": "markdown",
   "id": "671b3ab9-694a-4797-a2ab-6634eb73b8a7",
   "metadata": {},
   "source": [
    "## Analysis"
   ]
  },
  {
   "cell_type": "markdown",
   "id": "5f56735d-8993-422c-a9c4-637ba97e66b3",
   "metadata": {},
   "source": [
    "Results are in `results/231412-hp-tuning-Secondary_alcohol`."
   ]
  },
  {
   "cell_type": "code",
   "execution_count": null,
   "id": "13f98df9-4d3a-48b2-9f83-65e244831eba",
   "metadata": {},
   "outputs": [],
   "source": [
    "results = []\n",
    "for d in Path(\"results/231412-hp-tuning-Secondary_alcohol\").iterdir():\n",
    "    results.append(Results.from_file(d / \"results\" / \"C-XANES_O-XANES.json\"))"
   ]
  },
  {
   "cell_type": "code",
   "execution_count": null,
   "id": "a374223c-d1e7-446e-9b46-2d842046135c",
   "metadata": {
    "tags": []
   },
   "outputs": [],
   "source": [
    "ccp_alpha_dict = {val: ii for ii, val in enumerate(ccp_alpha_values)}\n",
    "max_features_dict = {val: ii for ii, val in enumerate(max_features_values)}"
   ]
  },
  {
   "cell_type": "code",
   "execution_count": null,
   "id": "ee189885-905f-4b56-9397-487357fc8468",
   "metadata": {
    "tags": []
   },
   "outputs": [],
   "source": [
    "validation_losses_C_only = np.zeros(shape=(len(ccp_alpha_values), len(max_features_values)))\n",
    "validation_losses_O_only = np.zeros(shape=(len(ccp_alpha_values), len(max_features_values)))\n",
    "validation_losses_CO = np.zeros(shape=(len(ccp_alpha_values), len(max_features_values)))"
   ]
  },
  {
   "cell_type": "code",
   "execution_count": null,
   "id": "ff1e6f72-60d1-4a0a-86a8-705f86d0bb70",
   "metadata": {
    "tags": []
   },
   "outputs": [],
   "source": [
    "for result in results:\n",
    "    ccp_alpha = result._rf_kwargs[\"ccp_alpha\"]\n",
    "    max_features = result._rf_kwargs[\"max_features\"]\n",
    "    ii = ccp_alpha_dict[ccp_alpha]\n",
    "    jj = max_features_dict[max_features]\n",
    "    \n",
    "    validation_losses_C_only[ii, jj] = result.report['C-XANES-Secondary_alcohol'][\"val_accuracy\"]\n",
    "    validation_losses_O_only[ii, jj] = result.report['O-XANES-Secondary_alcohol'][\"val_accuracy\"]\n",
    "    validation_losses_CO[ii, jj] = result.report['C-XANES_O-XANES-Secondary_alcohol'][\"val_accuracy\"]"
   ]
  },
  {
   "cell_type": "code",
   "execution_count": null,
   "id": "430528d7-54af-4df2-9285-7f44b94a470c",
   "metadata": {
    "tags": []
   },
   "outputs": [],
   "source": [
    "validation_losses_CO"
   ]
  },
  {
   "cell_type": "code",
   "execution_count": null,
   "id": "29f4fc2c-e56a-44aa-a9bc-ac02390e1bb3",
   "metadata": {
    "tags": []
   },
   "outputs": [],
   "source": [
    "validation_losses_O_only"
   ]
  },
  {
   "cell_type": "code",
   "execution_count": null,
   "id": "b4043f51-d1b2-43e4-b17a-34dbc96c9f9f",
   "metadata": {
    "tags": []
   },
   "outputs": [],
   "source": [
    "validation_losses_C_only"
   ]
  },
  {
   "cell_type": "markdown",
   "id": "abdcab01-98d6-42a9-be11-4b87f37568af",
   "metadata": {},
   "source": [
    "It looks like setting `ccp_alpha==0` is the way to go, and that setting `max_features==0.3` seems to be just fine."
   ]
  },
  {
   "cell_type": "markdown",
   "id": "5060de7f-6f5d-437b-9431-4d99d5c595b8",
   "metadata": {},
   "source": [
    "# Pass 2"
   ]
  },
  {
   "cell_type": "markdown",
   "id": "ee5bfde2-694b-4030-9e4f-1dfd74f82aa0",
   "metadata": {},
   "source": [
    "Let's also quickly check the number of estimators against the number of estimators and criterion"
   ]
  },
  {
   "cell_type": "code",
   "execution_count": null,
   "id": "7ff0d6dc-6ec1-4ab6-adcc-cbf2b6c83ecb",
   "metadata": {
    "tags": []
   },
   "outputs": [],
   "source": [
    "# These go in `rf_kwargs` ###################\n",
    "criterion_values = [\"gini\", \"entropy\", \"log_loss\"]\n",
    "n_estimators_values = [50, 100, 200, 300]\n",
    "#############################################\n",
    "\n",
    "d = {\n",
    "    \"module_path\": \"/sdcc/u/mcarbone/Github/multimodal-molecules\",\n",
    "    # \"module_path\": \"/Users/mc/GitHub/AIMM/multimodal-molecules\",\n",
    "    \"results_kwargs\": {\n",
    "        \"conditions\": \"C-XANES,O-XANES\",\n",
    "        \"xanes_data_name\": \"221205_xanes.pkl\",\n",
    "        \"index_data_name\": \"221205_index.csv\",\n",
    "        # \"xanes_data_name\": \"/Users/mc/GitHub/AIMM/multimodal-molecules/data/221205/221205_xanes.pkl\",\n",
    "        # \"index_data_name\": \"/Users/mc/GitHub/AIMM/multimodal-molecules/data/221205/221205_index.csv\",\n",
    "        \"specific_functional_groups\": [\"Secondary_alcohol\"],\n",
    "        \"val_size\": 0.1,\n",
    "        \"test_size\": 0.1,\n",
    "        \"rf_kwargs\": {\"max_samples\": 0.9},\n",
    "        \"random_state\": 1234,\n",
    "    }\n",
    "}\n"
   ]
  },
  {
   "cell_type": "markdown",
   "id": "6380e13f-aa9d-4e24-ac7a-80b815e4cce8",
   "metadata": {},
   "source": [
    "`Results.run_experiment` keyword args"
   ]
  },
  {
   "cell_type": "code",
   "execution_count": null,
   "id": "77cd13a5-10be-4a9d-b4d9-d3e199e929e5",
   "metadata": {
    "tags": []
   },
   "outputs": [],
   "source": [
    "# Output data directory is relative to the location where the script is run,\n",
    "# which will be unique\n",
    "d[\"run_experiments_kwargs\"] = {\n",
    "    \"input_data_directory\": \"/hpcgpfs01/work/cfn/mcarbone/multimodal_molecules_data/data/221205\",\n",
    "    \"output_data_directory\": \"results\",\n",
    "    \"n_jobs\": 12,\n",
    "    \"compute_feature_importance\": False,\n",
    "}"
   ]
  },
  {
   "cell_type": "code",
   "execution_count": null,
   "id": "9355b343-89c1-4ef1-ac00-5dbcfe77d88b",
   "metadata": {
    "tags": []
   },
   "outputs": [],
   "source": [
    "jobs = []\n",
    "for criterion in criterion_values:\n",
    "    for n_estimators in n_estimators_values:\n",
    "        d2 = deepcopy(d)\n",
    "        d2[\"results_kwargs\"][\"rf_kwargs\"][\"criterion\"] = criterion\n",
    "        d2[\"results_kwargs\"][\"rf_kwargs\"][\"n_estimators\"] = n_estimators\n",
    "        jobs.append(d2)"
   ]
  },
  {
   "cell_type": "code",
   "execution_count": null,
   "id": "8af16eeb-848f-45e8-b323-835b910a9d76",
   "metadata": {
    "tags": []
   },
   "outputs": [],
   "source": [
    "write_jobs(jobs)"
   ]
  },
  {
   "cell_type": "markdown",
   "id": "1a815919-02cf-42a8-9efe-ccb7051ee4fb",
   "metadata": {},
   "source": [
    "## Analysis"
   ]
  },
  {
   "cell_type": "markdown",
   "id": "3f3b5696-55a5-471a-883a-7d7df63f897f",
   "metadata": {},
   "source": [
    "Results are in `results/231413-hp-tuning-Secondary_alcohol`."
   ]
  },
  {
   "cell_type": "code",
   "execution_count": null,
   "id": "169182a6-9a71-4c35-a3bc-69a0292300fb",
   "metadata": {},
   "outputs": [],
   "source": [
    "results = []\n",
    "for d in Path(\"results/231413-hp-tuning-Secondary_alcohol\").iterdir():\n",
    "    results.append(Results.from_file(d / \"results\" / \"C-XANES_O-XANES.json\"))"
   ]
  },
  {
   "cell_type": "code",
   "execution_count": null,
   "id": "08187ee2-8b7e-4f5a-b8c4-11bca7d9ef36",
   "metadata": {
    "tags": []
   },
   "outputs": [],
   "source": [
    "criterion_dict = {val: ii for ii, val in enumerate(criterion_values)}\n",
    "n_estimators_dict = {val: ii for ii, val in enumerate(n_estimators_values)}"
   ]
  },
  {
   "cell_type": "code",
   "execution_count": null,
   "id": "f44f7b7b-c76d-439a-86fb-6ec9598eca87",
   "metadata": {
    "tags": []
   },
   "outputs": [],
   "source": [
    "validation_losses_C_only = np.zeros(shape=(len(criterion_values), len(n_estimators_values)))\n",
    "validation_losses_O_only = np.zeros(shape=(len(criterion_values), len(n_estimators_values)))\n",
    "validation_losses_CO = np.zeros(shape=(len(criterion_values), len(n_estimators_values)))"
   ]
  },
  {
   "cell_type": "code",
   "execution_count": null,
   "id": "23eac1f1-24ce-4c86-bfe5-aabbbc74ebcd",
   "metadata": {
    "tags": []
   },
   "outputs": [],
   "source": [
    "for result in results:\n",
    "    criterion = result._rf_kwargs[\"criterion\"]\n",
    "    n_estimators = result._rf_kwargs[\"n_estimators\"]\n",
    "    ii = criterion_dict[criterion]\n",
    "    jj = n_estimators_dict[n_estimators]\n",
    "    \n",
    "    validation_losses_C_only[ii, jj] = result.report['C-XANES-Secondary_alcohol'][\"val_balanced_accuracy\"]\n",
    "    validation_losses_O_only[ii, jj] = result.report['O-XANES-Secondary_alcohol'][\"val_balanced_accuracy\"]\n",
    "    validation_losses_CO[ii, jj] = result.report['C-XANES_O-XANES-Secondary_alcohol'][\"val_balanced_accuracy\"]"
   ]
  },
  {
   "cell_type": "code",
   "execution_count": null,
   "id": "87c51886-a208-4f9f-9cd0-05ff60f4807c",
   "metadata": {
    "tags": []
   },
   "outputs": [],
   "source": [
    "validation_losses_CO"
   ]
  },
  {
   "cell_type": "code",
   "execution_count": null,
   "id": "d9584107-6d39-41f9-aec2-df5fe9f09d01",
   "metadata": {
    "tags": []
   },
   "outputs": [],
   "source": [
    "validation_losses_O_only"
   ]
  },
  {
   "cell_type": "code",
   "execution_count": null,
   "id": "1f2f1bde-cfc2-45e5-9003-b515cbd5a5f2",
   "metadata": {
    "tags": []
   },
   "outputs": [],
   "source": [
    "validation_losses_C_only"
   ]
  },
  {
   "cell_type": "markdown",
   "id": "20507152-43ec-431c-a863-47312d7ccda8",
   "metadata": {},
   "source": [
    "Looks like the more estimators we have, the better overall. We can try a few more."
   ]
  },
  {
   "cell_type": "markdown",
   "id": "15c38f14-7284-4248-a921-190aa888ec70",
   "metadata": {},
   "source": [
    "# Pass 3"
   ]
  },
  {
   "cell_type": "markdown",
   "id": "f4ad7042-f667-4d2b-ade8-e3109055bc3b",
   "metadata": {},
   "source": [
    "Let's also quickly check the number of estimators against the number of estimators and criterion"
   ]
  },
  {
   "cell_type": "code",
   "execution_count": null,
   "id": "ddb5ab07-06f9-455d-b624-9d2fe80f2c58",
   "metadata": {
    "tags": []
   },
   "outputs": [],
   "source": [
    "# These go in `rf_kwargs` ###################\n",
    "criterion_values = [\"gini\"]\n",
    "n_estimators_values = [200, 300, 400, 500, 600, 700, 800, 900, 1000]\n",
    "#############################################\n",
    "\n",
    "d = {\n",
    "    \"module_path\": \"/sdcc/u/mcarbone/Github/multimodal-molecules\",\n",
    "    # \"module_path\": \"/Users/mc/GitHub/AIMM/multimodal-molecules\",\n",
    "    \"results_kwargs\": {\n",
    "        \"conditions\": \"C-XANES,O-XANES\",\n",
    "        \"xanes_data_name\": \"221205_xanes.pkl\",\n",
    "        \"index_data_name\": \"221205_index.csv\",\n",
    "        # \"xanes_data_name\": \"/Users/mc/GitHub/AIMM/multimodal-molecules/data/221205/221205_xanes.pkl\",\n",
    "        # \"index_data_name\": \"/Users/mc/GitHub/AIMM/multimodal-molecules/data/221205/221205_index.csv\",\n",
    "        \"specific_functional_groups\": [\"Secondary_alcohol\"],\n",
    "        \"val_size\": 0.1,\n",
    "        \"test_size\": 0.1,\n",
    "        \"rf_kwargs\": {\"max_samples\": 0.9},\n",
    "        \"random_state\": 1234,\n",
    "    }\n",
    "}\n"
   ]
  },
  {
   "cell_type": "markdown",
   "id": "f2657d27-9c5d-477f-ad5a-fddbdc3003fb",
   "metadata": {},
   "source": [
    "`Results.run_experiment` keyword args"
   ]
  },
  {
   "cell_type": "code",
   "execution_count": null,
   "id": "c8181451-323b-438e-adb6-26edcd315f75",
   "metadata": {
    "tags": []
   },
   "outputs": [],
   "source": [
    "# Output data directory is relative to the location where the script is run,\n",
    "# which will be unique\n",
    "d[\"run_experiments_kwargs\"] = {\n",
    "    \"input_data_directory\": \"/hpcgpfs01/work/cfn/mcarbone/multimodal_molecules_data/data/221205\",\n",
    "    \"output_data_directory\": \"results\",\n",
    "    \"n_jobs\": 12,\n",
    "    \"compute_feature_importance\": False,\n",
    "}"
   ]
  },
  {
   "cell_type": "code",
   "execution_count": null,
   "id": "1feb1c35-1a69-47da-8e67-f54faacf75cd",
   "metadata": {
    "tags": []
   },
   "outputs": [],
   "source": [
    "jobs = []\n",
    "for criterion in criterion_values:\n",
    "    for n_estimators in n_estimators_values:\n",
    "        d2 = deepcopy(d)\n",
    "        d2[\"results_kwargs\"][\"rf_kwargs\"][\"criterion\"] = criterion\n",
    "        d2[\"results_kwargs\"][\"rf_kwargs\"][\"n_estimators\"] = n_estimators\n",
    "        jobs.append(d2)"
   ]
  },
  {
   "cell_type": "code",
   "execution_count": null,
   "id": "b5b08c6e-df19-4547-91ad-8bd9b44c83e2",
   "metadata": {
    "tags": []
   },
   "outputs": [],
   "source": [
    "write_jobs(jobs)"
   ]
  },
  {
   "cell_type": "markdown",
   "id": "4e2119da-fb77-4075-bbee-c51fa77d65cc",
   "metadata": {},
   "source": [
    "## Analysis"
   ]
  },
  {
   "cell_type": "markdown",
   "id": "ec58b933-b272-4677-8974-f1cd6b3bfd90",
   "metadata": {},
   "source": [
    "Results are in `results/231413-hp-tuning-Secondary_alcohol`."
   ]
  },
  {
   "cell_type": "code",
   "execution_count": null,
   "id": "784e1f5e-1807-45da-89b8-5abe9e2d2b77",
   "metadata": {},
   "outputs": [],
   "source": [
    "results = []\n",
    "for d in sorted(Path(\"results/231413-hp-tuning-Secondary_alcohol-2\").iterdir()):\n",
    "    results.append(Results.from_file(d / \"results\" / \"C-XANES_O-XANES.json\"))"
   ]
  },
  {
   "cell_type": "code",
   "execution_count": null,
   "id": "de2bdc74-1dee-4753-adce-e9dac558d00c",
   "metadata": {
    "tags": []
   },
   "outputs": [],
   "source": [
    "validation_losses_C_only = []\n",
    "validation_losses_O_only = []\n",
    "validation_losses_CO = []"
   ]
  },
  {
   "cell_type": "code",
   "execution_count": null,
   "id": "ed0bab1f-bab2-46dc-b937-d4a24e47aace",
   "metadata": {
    "tags": []
   },
   "outputs": [],
   "source": [
    "for result in results:\n",
    "    validation_losses_C_only.append(result.report['C-XANES-Secondary_alcohol'][\"val_balanced_accuracy\"])\n",
    "    validation_losses_O_only.append(result.report['O-XANES-Secondary_alcohol'][\"val_balanced_accuracy\"])\n",
    "    validation_losses_CO.append(result.report['C-XANES_O-XANES-Secondary_alcohol'][\"val_balanced_accuracy\"])"
   ]
  },
  {
   "cell_type": "code",
   "execution_count": null,
   "id": "3213cf78-3950-440e-b13a-6e1602f2d0b8",
   "metadata": {
    "tags": []
   },
   "outputs": [],
   "source": [
    "validation_losses_CO"
   ]
  },
  {
   "cell_type": "code",
   "execution_count": null,
   "id": "25332d24-b10a-429f-ab74-a0dfa646a021",
   "metadata": {
    "tags": []
   },
   "outputs": [],
   "source": [
    "validation_losses_O_only"
   ]
  },
  {
   "cell_type": "code",
   "execution_count": null,
   "id": "b51a09f9-4c74-4678-b8be-0252bda10066",
   "metadata": {
    "tags": []
   },
   "outputs": [],
   "source": [
    "validation_losses_C_only"
   ]
  },
  {
   "cell_type": "markdown",
   "id": "7431d3a6-e734-4986-97aa-2fe525cf2e0e",
   "metadata": {},
   "source": [
    "Sticking with 300 estimators seems to be reasonable here."
   ]
  },
  {
   "cell_type": "markdown",
   "id": "f5e23e7e-a748-4263-896a-266683f7af62",
   "metadata": {},
   "source": [
    "## Tree-weighted"
   ]
  },
  {
   "cell_type": "code",
   "execution_count": null,
   "id": "bc50f8fc-4590-4dd8-b727-af9abee79fec",
   "metadata": {
    "tags": []
   },
   "outputs": [],
   "source": [
    "result = results[0]"
   ]
  },
  {
   "cell_type": "code",
   "execution_count": null,
   "id": "64cb9b90-0217-4cec-8e59-04d5547b361b",
   "metadata": {
    "tags": []
   },
   "outputs": [],
   "source": [
    "rf = result.models[\"C-XANES-Secondary_alcohol\"]"
   ]
  },
  {
   "cell_type": "code",
   "execution_count": null,
   "id": "69e93f58-5aaa-4998-a49b-ad7c87516ce3",
   "metadata": {
    "tags": []
   },
   "outputs": [],
   "source": [
    "data = result.get_data(\"data/221205/\")"
   ]
  },
  {
   "cell_type": "code",
   "execution_count": null,
   "id": "d44f5522-30d3-4e51-b65a-e89b2525f074",
   "metadata": {
    "tags": []
   },
   "outputs": [],
   "source": [
    "result.models"
   ]
  },
  {
   "cell_type": "code",
   "execution_count": null,
   "id": "b33904a5-0025-4c80-aa2c-93682c187d61",
   "metadata": {
    "tags": []
   },
   "outputs": [],
   "source": [
    "train_idx, valid_idx, test_idx = result.train_val_test_indexes"
   ]
  },
  {
   "cell_type": "code",
   "execution_count": null,
   "id": "0e6b8fac-8b93-4f8a-b450-7fbdb7c1cc41",
   "metadata": {
    "tags": []
   },
   "outputs": [],
   "source": [
    "X_val = data[\"C-XANES\"][valid_idx, :]"
   ]
  },
  {
   "cell_type": "code",
   "execution_count": null,
   "id": "32934e79-75cb-4783-8db0-cb47334fc750",
   "metadata": {
    "tags": []
   },
   "outputs": [],
   "source": [
    "y_val = data[\"FG\"][\"Secondary_alcohol\"][valid_idx]"
   ]
  },
  {
   "cell_type": "code",
   "execution_count": null,
   "id": "bcbb639f-3b07-455a-bfe8-f7e156b42c4e",
   "metadata": {
    "tags": []
   },
   "outputs": [],
   "source": [
    "from sklearn.metrics import balanced_accuracy_score"
   ]
  },
  {
   "cell_type": "code",
   "execution_count": null,
   "id": "61fa616e-ca7c-4f02-80ec-b1a5c7d45d07",
   "metadata": {
    "tags": []
   },
   "outputs": [],
   "source": [
    "balanced_accuracy_score(y_val, rf.predict(X_val))"
   ]
  },
  {
   "cell_type": "code",
   "execution_count": null,
   "id": "adcf9b05-1827-4f95-9ce9-edd686460410",
   "metadata": {
    "tags": []
   },
   "outputs": [],
   "source": [
    "def class_balanced_weighted_accuracy(rf, X_val, y_val):\n",
    "    \n",
    "    preds = np.array([est.predict(X_val) for est in rf.estimators_])\n",
    "    accs = np.array([\n",
    "        balanced_accuracy_score(y_val, pred)\n",
    "        for pred in preds\n",
    "    ]).reshape(-1, 1)\n",
    "    total_acc = np.sum(accs)\n",
    "    \n",
    "    # Weight by the accuracy... simple\n",
    "    return ((preds * accs) / total_acc).sum(axis=0)"
   ]
  },
  {
   "cell_type": "code",
   "execution_count": null,
   "id": "a4991494-2eff-47a3-89e8-5c6c664ea83b",
   "metadata": {
    "tags": []
   },
   "outputs": [],
   "source": [
    "preds = class_balanced_weighted_accuracy(rf, X_val, y_val)"
   ]
  },
  {
   "cell_type": "code",
   "execution_count": null,
   "id": "0dede4a8-f168-4377-8920-5de454665575",
   "metadata": {
    "tags": []
   },
   "outputs": [],
   "source": [
    "balanced_accuracy_score(y_val, np.round(preds))"
   ]
  },
  {
   "cell_type": "code",
   "execution_count": null,
   "id": "34d2aa86-dfa8-4b7c-8ce3-37a788080e70",
   "metadata": {
    "tags": []
   },
   "outputs": [],
   "source": [
    "import matplotlib.pyplot as plt"
   ]
  },
  {
   "cell_type": "code",
   "execution_count": null,
   "id": "e003ae54-f2e3-46ac-9d43-819b5801547e",
   "metadata": {
    "tags": []
   },
   "outputs": [],
   "source": [
    "plt.hist(scores)"
   ]
  },
  {
   "cell_type": "code",
   "execution_count": null,
   "id": "cf9d3202-a6ab-40bb-b83c-e176f1e6f706",
   "metadata": {},
   "outputs": [],
   "source": []
  }
 ],
 "metadata": {
  "kernelspec": {
   "display_name": "Python 3 (ipykernel)",
   "language": "python",
   "name": "python3"
  },
  "language_info": {
   "codemirror_mode": {
    "name": "ipython",
    "version": 3
   },
   "file_extension": ".py",
   "mimetype": "text/x-python",
   "name": "python",
   "nbconvert_exporter": "python",
   "pygments_lexer": "ipython3",
   "version": "3.9.16"
  }
 },
 "nbformat": 4,
 "nbformat_minor": 5
}
