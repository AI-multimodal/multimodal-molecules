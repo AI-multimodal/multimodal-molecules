{
 "cells": [
  {
   "cell_type": "code",
   "execution_count": null,
   "id": "8e26ca90-97b6-4c51-854d-b4c6a025d6fd",
   "metadata": {},
   "outputs": [],
   "source": [
    "%load_ext autoreload\n",
    "%autoreload 2\n",
    "%config Completer.use_jedi = False"
   ]
  },
  {
   "cell_type": "markdown",
   "id": "977d0c5b-878c-4862-8495-5c3b7c53fcd0",
   "metadata": {},
   "source": [
    "Helper functions and imports"
   ]
  },
  {
   "cell_type": "code",
   "execution_count": null,
   "id": "ea1f4d99-52e1-41ec-9c02-0285ea7ebe87",
   "metadata": {},
   "outputs": [],
   "source": [
    "from collections import Counter\n",
    "\n",
    "import json\n",
    "import matplotlib.pyplot as plt\n",
    "import matplotlib as mpl\n",
    "import numpy as np\n",
    "import pandas as pd\n",
    "import pickle\n",
    "from tqdm import tqdm"
   ]
  },
  {
   "cell_type": "code",
   "execution_count": null,
   "id": "52afd7dc-e1ab-4770-8a65-dd295c50cac7",
   "metadata": {},
   "outputs": [],
   "source": [
    "from multimodal_molecules.models import Results, validate\n",
    "from multimodal_molecules.data import XANESData\n",
    "from multimodal_molecules.plotting import set_defaults, set_grids\n",
    "set_defaults()"
   ]
  },
  {
   "cell_type": "code",
   "execution_count": null,
   "id": "3f974184-9d10-47b1-8b97-e60ad755fb4f",
   "metadata": {
    "tags": []
   },
   "outputs": [],
   "source": [
    "data = XANESData(\n",
    "    data_directory=\"data/221205/\",\n",
    "    conditions=\"C-XANES\",\n",
    "    valid_size=0.88,\n",
    "    test_size=0.1,\n",
    "    random_state=1234,\n",
    ")"
   ]
  },
  {
   "cell_type": "code",
   "execution_count": null,
   "id": "3bf2115c-ffa5-4ce4-b5db-93a510ce1674",
   "metadata": {
    "tags": []
   },
   "outputs": [],
   "source": [
    "fg_data = data.get_FG_data()"
   ]
  },
  {
   "cell_type": "code",
   "execution_count": null,
   "id": "0b4a66c5-6859-45fd-84e3-8bd678a43478",
   "metadata": {
    "tags": []
   },
   "outputs": [],
   "source": [
    "revised_fg_data = {\n",
    "    key: value for key, value in fg_data.items()\n",
    "    if 0.1 < value.mean() < 0.9\n",
    "}"
   ]
  },
  {
   "cell_type": "code",
   "execution_count": null,
   "id": "54e6f346-77b5-4e95-bba7-c1ff2f4c9f1d",
   "metadata": {
    "tags": []
   },
   "outputs": [],
   "source": [
    "revised_fg_data"
   ]
  },
  {
   "cell_type": "code",
   "execution_count": null,
   "id": "bdaa193d-9f55-46f6-a0ad-9cab30664659",
   "metadata": {},
   "outputs": [],
   "source": [
    "results = Results(\n",
    "    functional_groups_subset=[\"Secondary_alcohol\", \"Primary_alcohol\"],\n",
    "    other_rf_kwargs={\"max_samples\": 0.8, \"max_features\": 0.2},\n",
    "    random_state=1234,\n",
    "    n_estimators_per_modality=200\n",
    ")"
   ]
  },
  {
   "cell_type": "code",
   "execution_count": null,
   "id": "6595f94d-e354-42f2-95e2-5e525d454cbf",
   "metadata": {
    "tags": []
   },
   "outputs": [],
   "source": [
    "results.run_experiments(\n",
    "    data,\n",
    "    output_data_directory=\"results/debug\",\n",
    "    n_jobs=8,\n",
    "    compute_feature_importance=False\n",
    ")"
   ]
  },
  {
   "cell_type": "code",
   "execution_count": null,
   "id": "116b20b7-97cc-4b87-81fe-05b127fa03e5",
   "metadata": {},
   "outputs": [],
   "source": [
    "loaded_results = Results.from_file(\"results/debug/Report.json\")\n",
    "loaded_data = XANESData.from_file(\"results/debug/Data.json\")"
   ]
  },
  {
   "cell_type": "code",
   "execution_count": null,
   "id": "077cd845-37cf-462b-92ef-29979b54ffac",
   "metadata": {
    "tags": []
   },
   "outputs": [],
   "source": [
    "X = loaded_data.get_XANES_data()"
   ]
  },
  {
   "cell_type": "code",
   "execution_count": null,
   "id": "cc4b5adc-f2ab-418e-9ec2-690378922bb2",
   "metadata": {
    "tags": []
   },
   "outputs": [],
   "source": [
    "X.shape"
   ]
  },
  {
   "cell_type": "code",
   "execution_count": null,
   "id": "c0c5d5a2-be96-4ca4-b501-6546f8a141db",
   "metadata": {},
   "outputs": [],
   "source": [
    "validate(loaded_results, loaded_data)"
   ]
  },
  {
   "cell_type": "code",
   "execution_count": null,
   "id": "a0c27cec-e26a-42f2-97e2-2ff7447fa37f",
   "metadata": {},
   "outputs": [],
   "source": []
  }
 ],
 "metadata": {
  "kernelspec": {
   "display_name": "Python 3 (ipykernel)",
   "language": "python",
   "name": "python3"
  },
  "language_info": {
   "codemirror_mode": {
    "name": "ipython",
    "version": 3
   },
   "file_extension": ".py",
   "mimetype": "text/x-python",
   "name": "python",
   "nbconvert_exporter": "python",
   "pygments_lexer": "ipython3",
   "version": "3.9.16"
  }
 },
 "nbformat": 4,
 "nbformat_minor": 5
}
