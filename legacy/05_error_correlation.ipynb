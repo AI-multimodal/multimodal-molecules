{
 "cells": [
  {
   "cell_type": "code",
   "execution_count": null,
   "id": "8e26ca90-97b6-4c51-854d-b4c6a025d6fd",
   "metadata": {},
   "outputs": [],
   "source": [
    "%load_ext autoreload\n",
    "%autoreload 2\n",
    "%config Completer.use_jedi = False"
   ]
  },
  {
   "cell_type": "markdown",
   "id": "977d0c5b-878c-4862-8495-5c3b7c53fcd0",
   "metadata": {},
   "source": [
    "Helper functions and imports"
   ]
  },
  {
   "cell_type": "code",
   "execution_count": null,
   "id": "3114880e-5a4d-459f-8ea7-e4ec34758e80",
   "metadata": {},
   "outputs": [],
   "source": [
    "from itertools import product\n",
    "import json\n",
    "from pathlib import Path\n",
    "\n",
    "import matplotlib.pyplot as plt\n",
    "import matplotlib as mpl\n",
    "from matplotlib.backends.backend_pdf import PdfPages\n",
    "import numpy as np\n",
    "import pandas as pd\n",
    "import pickle\n",
    "from scipy.stats import sem\n",
    "import seaborn as sns"
   ]
  },
  {
   "cell_type": "code",
   "execution_count": null,
   "id": "f2e6abd1-5248-4abf-8d18-f9d97b25218b",
   "metadata": {},
   "outputs": [],
   "source": [
    "pd.set_option('styler.format.precision', 3)"
   ]
  },
  {
   "cell_type": "code",
   "execution_count": null,
   "id": "be0d304e-55fc-4240-917e-6198c59aba3d",
   "metadata": {},
   "outputs": [],
   "source": [
    "def read_json(path):\n",
    "    with open(path, \"r\") as infile:\n",
    "        dat = json.load(infile)\n",
    "    return dat"
   ]
  },
  {
   "cell_type": "code",
   "execution_count": null,
   "id": "8e9b2487-0303-456a-bbdd-99783867e681",
   "metadata": {},
   "outputs": [],
   "source": [
    "from multimodal_molecules.plotting import set_defaults, set_grids"
   ]
  },
  {
   "cell_type": "code",
   "execution_count": null,
   "id": "8c21e0b5-ae95-4c18-b769-84d4569ba76a",
   "metadata": {},
   "outputs": [],
   "source": [
    "fig, ax = plt.subplots(1, 1, figsize=(3, 2))\n",
    "plt.clf()\n",
    "set_defaults()"
   ]
  },
  {
   "cell_type": "code",
   "execution_count": null,
   "id": "e5f5951e-93fa-4aaf-9d4f-2a8f6564aa42",
   "metadata": {},
   "outputs": [],
   "source": [
    "from multimodal_molecules.models import Results, get_all_combinations, predict_rf\n",
    "from multimodal_molecules.data import get_dataset"
   ]
  },
  {
   "cell_type": "markdown",
   "id": "57b6002d-8e81-4cfd-a53d-0a4771aaabbf",
   "metadata": {},
   "source": [
    "Set relevant paths."
   ]
  },
  {
   "cell_type": "code",
   "execution_count": null,
   "id": "f8b16f89-453b-4970-8160-9c9492fe9be2",
   "metadata": {},
   "outputs": [],
   "source": [
    "json_file = Path(\"results/221226/C-XANES_N-XANES_O-XANES.json\")\n",
    "functional_group_json_file = \"data/221205/functional_groups.json\"\n",
    "data_directory = Path(\"data/221205\")"
   ]
  },
  {
   "cell_type": "markdown",
   "id": "7ce87277-38fa-4957-bdc6-c14127f13c64",
   "metadata": {},
   "source": [
    "Load the relevant data."
   ]
  },
  {
   "cell_type": "code",
   "execution_count": null,
   "id": "9dfb2e45-fc09-4830-9449-671e1a827f3a",
   "metadata": {},
   "outputs": [],
   "source": [
    "single_modalities = [xx.split(\"-\")[0] for xx in json_file.parts[-1].split(\"_\")]\n",
    "combos = get_all_combinations(len(single_modalities))\n",
    "multi_modalities = [cc for cc in combos if len(cc) > 1]\n",
    "multi_modalities = [\",\".join([single_modalities[ii] for ii in cc]) for cc in multi_modalities]\n",
    "print(single_modalities)\n",
    "print(multi_modalities)"
   ]
  },
  {
   "cell_type": "code",
   "execution_count": null,
   "id": "7eec85fa-210b-4bef-9b1c-e5db38dfc5a8",
   "metadata": {},
   "outputs": [],
   "source": [
    "functional_group_data = read_json(functional_group_json_file)\n",
    "all_functional_groups_enumerated = [g for groups in functional_group_data.values() for g in groups]\n",
    "all_unique_functional_groups = sorted(list(set(all_functional_groups_enumerated)))"
   ]
  },
  {
   "cell_type": "code",
   "execution_count": null,
   "id": "bfe591e7-a67c-400b-a432-74694f16b198",
   "metadata": {},
   "outputs": [],
   "source": [
    "results = Results.from_file(json_file)"
   ]
  },
  {
   "cell_type": "code",
   "execution_count": null,
   "id": "6f053998-d824-44db-88f1-734135d46b0a",
   "metadata": {},
   "outputs": [],
   "source": [
    "data = get_dataset(data_directory / \"221205_xanes.pkl\", data_directory / \"221205_index.csv\", conditions=results._conditions)"
   ]
  },
  {
   "cell_type": "code",
   "execution_count": null,
   "id": "bfbd6fd7-7a79-45db-9762-3309dbb9b9ea",
   "metadata": {},
   "outputs": [],
   "source": [
    "conditions=\"C,N,O\"\n",
    "\n",
    "conditions_list = [f\"{cc}-XANES\" for cc in conditions.split(\",\")]\n",
    "tt_data = results.get_train_test_split(data, xanes=conditions)\n",
    "x_test = tt_data[\"x_test\"]\n",
    "\n",
    "for fg in data[\"FG\"].keys():\n",
    "    y_test = tt_data[\"y_test\"][fg]\n",
    "    conditions_list_joined = \"_\".join(conditions_list)\n",
    "    model = results.models[f\"{conditions_list_joined}-{fg}\"]\n",
    "    \n",
    "    # Get the predictions\n",
    "    y_test_preds = predict_rf(model, x_test)\n",
    "    mu_pred = y_test_preds.mean(axis=1)\n",
    "    mu_std = y_test_preds.std(axis=1)\n",
    "    mu_std_rounded = np.round(mu_std, 5)\n",
    "    unique_std = np.unique(mu_std_rounded)"
   ]
  },
  {
   "cell_type": "markdown",
   "id": "01e78d70-64b4-4c2e-98c0-8f00345dab5a",
   "metadata": {},
   "source": [
    "- If error is 1, that means 1 was predicted but `y_test` is 0; a false positive\n",
    "- If error is -1, that means 0 was predicted but `y_test` is 1; a false negative"
   ]
  },
  {
   "cell_type": "code",
   "execution_count": null,
   "id": "c732195a-ee18-49d0-90de-cb25312fc5b8",
   "metadata": {},
   "outputs": [],
   "source": [
    "errors = mu_pred.round(0) - y_test"
   ]
  },
  {
   "cell_type": "markdown",
   "id": "f876e21a-6cce-450e-a8e3-b09c72a35f74",
   "metadata": {},
   "source": [
    "Get an error plot for this functional group"
   ]
  },
  {
   "cell_type": "code",
   "execution_count": null,
   "id": "8ab1195a-36ea-444d-a405-e7873beb7525",
   "metadata": {},
   "outputs": [],
   "source": [
    "mu_errors = []\n",
    "sd_errors = []  # standard errors\n",
    "\n",
    "for unique_sd in unique_std:\n",
    "    where = np.where(mu_std_rounded == unique_sd)[0]\n",
    "    e = np.abs(errors[where])\n",
    "    mu_errors.append(e.mean())\n",
    "    sd_errors.append(sem(e))\n",
    "\n",
    "mu_errors = np.array(mu_errors)\n",
    "sd_errors = np.array(sd_errors)"
   ]
  },
  {
   "cell_type": "code",
   "execution_count": null,
   "id": "b4afa7a3-171b-4944-98f5-645759bc37ad",
   "metadata": {},
   "outputs": [],
   "source": [
    "plot_kwargs = {\n",
    "    'linewidth': 0.0,\n",
    "    'marker': 's',\n",
    "    'ms': 1.0,\n",
    "    'capthick': 0.3,\n",
    "    'capsize': 2.0,\n",
    "    'elinewidth': 0.3\n",
    "}\n",
    "\n",
    "fig, ax = plt.subplots(1, 1, figsize=(3, 2))\n",
    "\n",
    "ax.errorbar(unique_std**2, mu_errors, yerr=sd_errors, **plot_kwargs)\n",
    "# ax.plot(unique_std**2, mu_errors, linewidth=0.2)\n",
    "# ax.scatter(unique_std**2, mu_errors)\n",
    "\n",
    "ax.set_yscale(\"log\")\n",
    "ax.set_ylim(10**-4.5, 10**0.5)\n",
    "\n",
    "plt.show()"
   ]
  },
  {
   "cell_type": "code",
   "execution_count": null,
   "id": "fdd0301e-1f65-4679-bb7c-4161e9aee159",
   "metadata": {},
   "outputs": [],
   "source": []
  },
  {
   "cell_type": "code",
   "execution_count": null,
   "id": "929fe374-e13e-4e1f-acac-6e1ee9218b19",
   "metadata": {},
   "outputs": [],
   "source": []
  },
  {
   "cell_type": "code",
   "execution_count": null,
   "id": "3ed9aed8-ccbe-4045-a051-4de7a56b2e59",
   "metadata": {},
   "outputs": [],
   "source": []
  },
  {
   "cell_type": "code",
   "execution_count": null,
   "id": "1ae2518d-7987-477d-af94-bcb48c808910",
   "metadata": {},
   "outputs": [],
   "source": []
  },
  {
   "cell_type": "code",
   "execution_count": null,
   "id": "a400d331-9e24-4db8-bd4e-9dac43e4afd8",
   "metadata": {},
   "outputs": [],
   "source": []
  },
  {
   "cell_type": "code",
   "execution_count": null,
   "id": "043554a6-ebf0-4a4c-9e1a-bc9bda5f2e4c",
   "metadata": {},
   "outputs": [],
   "source": []
  },
  {
   "cell_type": "code",
   "execution_count": null,
   "id": "74a72dff-0d1f-4881-894b-651b25694fb5",
   "metadata": {},
   "outputs": [],
   "source": [
    "false_positive_rate = len(np.where(error == 1)[0]) / len(error) * 100.0\n",
    "print(false_positive_rate)\n",
    "\n",
    "false_negative_rate = len(np.where(error == -1)[0]) / len(error) * 100.0\n",
    "print(false_negative_rate)"
   ]
  },
  {
   "cell_type": "code",
   "execution_count": null,
   "id": "2af175ec-84d8-49a6-a766-14fb2024f821",
   "metadata": {},
   "outputs": [],
   "source": []
  },
  {
   "cell_type": "code",
   "execution_count": null,
   "id": "f00e46fa-8666-4ea1-8237-3b0699cacf9e",
   "metadata": {},
   "outputs": [],
   "source": [
    "argsorted_mu_std = mu_std[indexes]\n",
    "argsorted_error = error[indexes]\n",
    "argsorted_error_false_positives = argsorted_error == 1\n",
    "argsorted_error_false_negatives = argsorted_error == -1"
   ]
  },
  {
   "cell_type": "code",
   "execution_count": null,
   "id": "514ec74f-6c01-4f91-b81e-dc2cf25a5490",
   "metadata": {},
   "outputs": [],
   "source": [
    "bins = 80\n",
    "duration = len(argsorted_error)\n",
    "bin_width = int(round(duration / bins))\n",
    "binned_argsorted_error_false_positives = np.array([argsorted_error_false_positives[i:i+bin_width].sum() for i in range(0, duration, bin_width)])\n",
    "binned_argsorted_error_false_negatives = np.array([argsorted_error_false_negatives[i:i+bin_width].sum() for i in range(0, duration, bin_width)])\n",
    "binned_grid = np.array([bin_width / 2 + ii * bin_width for ii in range(bins + 1)])"
   ]
  },
  {
   "cell_type": "code",
   "execution_count": null,
   "id": "c7ad4fbd-6c9f-400a-884b-a5d64bf22582",
   "metadata": {},
   "outputs": [],
   "source": [
    "fig, ax = plt.subplots(1, 1, figsize=(3, 1))\n",
    "\n",
    "error_grid = np.array([ii for ii in range(len(mu_pred))])\n",
    "\n",
    "ax.bar(binned_grid, np.log10(binned_argsorted_error_false_negatives**2), width=bin_width, color=\"red\", label=\"False Positives\")\n",
    "ax.bar(binned_grid, np.log10(binned_argsorted_error_false_positives**2), width=bin_width, color=\"blue\", label=\"False Negatives\")\n",
    "ax.legend(frameon=False, fontsize=8)\n",
    "set_grids(ax)\n",
    "\n",
    "ax2 = ax.twinx()\n",
    "ax2.plot(error_grid, argsorted_mu_std**2, color=\"black\", linewidth=1, label=\"$\\sigma$\")\n",
    "ax2.legend(frameon=False, loc=\"lower left\", fontsize=8)\n",
    "set_grids(ax2, left=False)\n",
    "\n",
    "\n",
    "\n",
    "ax2.set_ylabel(\"Uncertainty\")\n",
    "# ax.set_ylabel(\"Counts $/200$\")\n",
    "# ax.set_xlabel(\"Index $/10^5$\")\n",
    "# ax.set_xticks([0, 50000, 100000])\n",
    "# ax.set_xticklabels([0, 0.5, 1])\n",
    "# ax.set_yticks([0, 200])\n",
    "# ax.set_yticklabels([0, 1])\n",
    "ax.set_ylabel(\"Counts\")\n",
    "ax.set_xlabel(\"Index\")\n",
    "\n",
    "\n",
    "plt.show()"
   ]
  },
  {
   "cell_type": "code",
   "execution_count": null,
   "id": "f8d726a6-d193-411b-8998-8994230de366",
   "metadata": {},
   "outputs": [],
   "source": [
    "p = 0.5\n",
    "1.0 - p * np.log2(p)"
   ]
  },
  {
   "cell_type": "code",
   "execution_count": null,
   "id": "82a0ae8f-e2d3-4dd9-b541-a578c3c43f69",
   "metadata": {},
   "outputs": [],
   "source": []
  },
  {
   "cell_type": "code",
   "execution_count": null,
   "id": "4af37116-f5fc-464c-9394-27aecebd8536",
   "metadata": {},
   "outputs": [],
   "source": []
  },
  {
   "cell_type": "code",
   "execution_count": null,
   "id": "e7cf786e-4e20-4f32-803f-7cc7b8272006",
   "metadata": {},
   "outputs": [],
   "source": [
    "np.random.seed(123)\n",
    "test_indexes = sorted(np.random.choice(100, size=10, replace=False).tolist())"
   ]
  },
  {
   "cell_type": "code",
   "execution_count": null,
   "id": "9ccf07d5-bc98-4eaf-9fe2-558edccdcb52",
   "metadata": {},
   "outputs": [],
   "source": [
    "test_indexes"
   ]
  },
  {
   "cell_type": "code",
   "execution_count": null,
   "id": "28614912-d8e7-47ec-942f-535b08b77520",
   "metadata": {},
   "outputs": [],
   "source": [
    "results = load_results(xanes_path=\"data/221205/xanes.pkl\", index_path=\"data/221205/index.csv\", conditions=\"O-XANES\", root=\"results\")"
   ]
  },
  {
   "cell_type": "code",
   "execution_count": null,
   "id": "740e4e36-1572-4641-a9ae-416c4abd7877",
   "metadata": {},
   "outputs": [],
   "source": [
    "report = results[\"results\"][\"O-XANES_1,2-Aminoalcohol\"]"
   ]
  },
  {
   "cell_type": "code",
   "execution_count": null,
   "id": "376f408e-6f9b-4c5c-a2f4-15bf7aa40483",
   "metadata": {},
   "outputs": [],
   "source": []
  },
  {
   "cell_type": "code",
   "execution_count": null,
   "id": "f9a43639-8483-410d-ac31-3602543ab938",
   "metadata": {},
   "outputs": [],
   "source": []
  },
  {
   "cell_type": "code",
   "execution_count": null,
   "id": "947b8e2d-bfb1-4f82-b64e-bf4873ff314a",
   "metadata": {},
   "outputs": [],
   "source": []
  },
  {
   "cell_type": "code",
   "execution_count": null,
   "id": "20bf2ec2-7d90-4bce-ab82-5fa4490d422c",
   "metadata": {},
   "outputs": [],
   "source": [
    "data = get_dataset(\n",
    "    xanes_path=\"data/221205/xanes.pkl\",\n",
    "    index_path=\"data/221205/index.csv\",\n",
    "    conditions=\"O-XANES,N-XANES\"\n",
    ")"
   ]
  },
  {
   "cell_type": "code",
   "execution_count": null,
   "id": "5bd17697-9593-49ba-a5e6-9feaef184391",
   "metadata": {},
   "outputs": [],
   "source": [
    "data.keys()"
   ]
  },
  {
   "cell_type": "code",
   "execution_count": null,
   "id": "a387c94d-45de-4556-9154-8acbf11d8b63",
   "metadata": {},
   "outputs": [],
   "source": [
    "data[\"O-XANES\"].shape"
   ]
  },
  {
   "cell_type": "code",
   "execution_count": null,
   "id": "10283bcc-dfec-4547-be41-56130983aee9",
   "metadata": {},
   "outputs": [],
   "source": [
    "data[\"N-XANES\"].shape"
   ]
  },
  {
   "cell_type": "code",
   "execution_count": null,
   "id": "e3556a4d-a884-4dab-bb30-7b4acdf09214",
   "metadata": {},
   "outputs": [],
   "source": [
    "new_arr = np.concatenate([data[\"O-XANES\"], data[\"N-XANES\"]], axis=1)\n",
    "new_arr.shape"
   ]
  },
  {
   "cell_type": "code",
   "execution_count": null,
   "id": "7782638f-bd5b-4c4f-ac4e-a262faa4faba",
   "metadata": {},
   "outputs": [],
   "source": [
    "data[\"index\"]"
   ]
  },
  {
   "cell_type": "code",
   "execution_count": null,
   "id": "2dc443f1-22a6-45b0-951e-986108dfc85c",
   "metadata": {},
   "outputs": [],
   "source": [
    "from sklearn.metrics import accuracy_score, balanced_accuracy_score\n",
    "from sklearn.model_selection import train_test_split\n",
    "from sklearn.ensemble import RandomForestClassifier\n",
    "from sklearn.inspection import permutation_importance"
   ]
  },
  {
   "cell_type": "code",
   "execution_count": null,
   "id": "5ede9a67-31fc-4831-ae3a-4297d31adc30",
   "metadata": {},
   "outputs": [],
   "source": [
    "fg = \"Amide\"\n",
    "offset = None\n",
    "xanes = data[\"O-XANES\"][:, offset:]\n",
    "binary_targets = data[\"FG\"][fg]\n",
    "grid = data[\"grid\"][\"O-XANES\"][offset:]\n",
    "pc = binary_targets.sum() / len(binary_targets) * 100\n",
    "print(f\"Occurrence of {fg}: {pc:.01f}%\")"
   ]
  },
  {
   "cell_type": "code",
   "execution_count": null,
   "id": "64d1b805-68e4-4835-960d-96545dddf600",
   "metadata": {},
   "outputs": [],
   "source": [
    "x_train, x_test, y_train, y_test = train_test_split(xanes, binary_targets, test_size=0.9, random_state=42)"
   ]
  },
  {
   "cell_type": "markdown",
   "id": "c4202625-06a9-4700-a79a-d8ad804b2d09",
   "metadata": {},
   "source": [
    "Train a basic random forest classifier."
   ]
  },
  {
   "cell_type": "code",
   "execution_count": null,
   "id": "d6667978-b8c3-439a-b1ae-d81069ff5f9b",
   "metadata": {},
   "outputs": [],
   "source": [
    "rf = RandomForestClassifier(n_jobs=16, random_state=42)\n",
    "rf.fit(x_train, y_train)"
   ]
  },
  {
   "cell_type": "code",
   "execution_count": null,
   "id": "cc0400c5-5bf7-4210-97a1-f1d13f799620",
   "metadata": {},
   "outputs": [],
   "source": [
    "def rf_classifier_predict(rf, x):\n",
    "    preds = np.array([tree.predict(x) for tree in rf.estimators_])\n",
    "    feature_importances = np.array([tree.feature_importances_ for tree in rf.estimators_])\n",
    "    return preds, feature_importances"
   ]
  },
  {
   "cell_type": "code",
   "execution_count": null,
   "id": "0395ea2d-4ec5-4704-b3c8-14f5a26da55a",
   "metadata": {},
   "outputs": [],
   "source": [
    "y_pred, x_feature_importances = rf_classifier_predict(rf, x_test)"
   ]
  },
  {
   "cell_type": "code",
   "execution_count": null,
   "id": "24591c3e-85ad-4a78-8eb7-35553bff0ec5",
   "metadata": {},
   "outputs": [],
   "source": [
    "x_permutation_importances = permutation_importance(rf, x_test, y_test, n_jobs=16)"
   ]
  },
  {
   "cell_type": "code",
   "execution_count": null,
   "id": "2862f0d3-11ec-48ce-ba32-a1938f1e42f5",
   "metadata": {},
   "outputs": [],
   "source": [
    "print(\"Accuracy          \", round(accuracy_score(y_test, y_pred.mean(axis=0).round(0)), 5))\n",
    "print(\"Balanced accuracy \", round(balanced_accuracy_score(y_test, y_pred.mean(axis=0).round(0)), 5))"
   ]
  },
  {
   "cell_type": "code",
   "execution_count": null,
   "id": "b7f05ef3-f2d1-4df2-8e8a-83500022d95f",
   "metadata": {},
   "outputs": [],
   "source": [
    "where = np.where(data[\"FG\"][fg] == 1)[0]\n",
    "not_where = np.where(data[\"FG\"][fg] == 0)[0]"
   ]
  },
  {
   "cell_type": "code",
   "execution_count": null,
   "id": "870440c4-1308-4f26-a567-9059d6d040de",
   "metadata": {},
   "outputs": [],
   "source": [
    "fig, axs = plt.subplots(3, 1, figsize=(3, 2), sharex=True)\n",
    "\n",
    "ax = axs[0]\n",
    "mu = x_permutation_importances.importances_mean #x_feature_importances.mean(axis=0)\n",
    "sd = x_permutation_importances.importances_std #x_feature_importances.std(axis=0)\n",
    "ax.plot(grid, mu, color=\"blue\")\n",
    "ax.fill_between(grid, mu - sd * 3, mu + sd * 3, color=\"blue\", alpha=0.5, linewidth=0) \n",
    "ax.text(0.95, 0.95, \"Permutation feature importance\", ha=\"right\", va=\"top\", transform=ax.transAxes, color=\"blue\")\n",
    "ax.set_yticks([])\n",
    "\n",
    "ax = axs[1]\n",
    "mu = xanes[where, :].mean(axis=0)\n",
    "sd = xanes[where, :].std(axis=0)\n",
    "ax.plot(grid, mu, color=\"red\")\n",
    "ax.fill_between(grid, mu - sd, mu + sd, color=\"red\", alpha=0.5, linewidth=0)\n",
    "ax.text(0.95, 0.95, \"With\", ha=\"right\", va=\"top\", transform=ax.transAxes, color=\"red\")\n",
    "\n",
    "ax = axs[2]\n",
    "mu = xanes[not_where, :].mean(axis=0)\n",
    "sd = xanes[not_where, :].std(axis=0)\n",
    "ax.plot(grid, mu, color=\"black\")\n",
    "ax.fill_between(grid, mu - sd, mu + sd, color=\"black\", alpha=0.5, linewidth=0)\n",
    "ax.text(0.95, 0.95, \"Without\", ha=\"right\", va=\"top\", transform=ax.transAxes, color=\"black\")\n",
    "\n",
    "plt.show()"
   ]
  },
  {
   "cell_type": "markdown",
   "id": "61f8d555-5038-48eb-a853-f6f09d567143",
   "metadata": {},
   "source": [
    "Error correlation"
   ]
  },
  {
   "cell_type": "code",
   "execution_count": null,
   "id": "313a23ea-79b2-4d52-b547-7c2cb5a5fe90",
   "metadata": {},
   "outputs": [],
   "source": []
  }
 ],
 "metadata": {
  "kernelspec": {
   "display_name": "Python 3 (ipykernel)",
   "language": "python",
   "name": "python3"
  },
  "language_info": {
   "codemirror_mode": {
    "name": "ipython",
    "version": 3
   },
   "file_extension": ".py",
   "mimetype": "text/x-python",
   "name": "python",
   "nbconvert_exporter": "python",
   "pygments_lexer": "ipython3",
   "version": "3.9.13"
  }
 },
 "nbformat": 4,
 "nbformat_minor": 5
}
