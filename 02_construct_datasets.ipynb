{
 "cells": [
  {
   "cell_type": "code",
   "execution_count": null,
   "id": "8e26ca90-97b6-4c51-854d-b4c6a025d6fd",
   "metadata": {},
   "outputs": [],
   "source": [
    "%load_ext autoreload\n",
    "%autoreload 2\n",
    "%config Completer.use_jedi = False"
   ]
  },
  {
   "cell_type": "markdown",
   "id": "977d0c5b-878c-4862-8495-5c3b7c53fcd0",
   "metadata": {},
   "source": [
    "Helper functions and imports"
   ]
  },
  {
   "cell_type": "code",
   "execution_count": null,
   "id": "ea1f4d99-52e1-41ec-9c02-0285ea7ebe87",
   "metadata": {},
   "outputs": [],
   "source": [
    "from pathlib import Path\n",
    "\n",
    "import numpy as np\n",
    "from sklearn.model_selection import train_test_split"
   ]
  },
  {
   "cell_type": "code",
   "execution_count": null,
   "id": "52afd7dc-e1ab-4770-8a65-dd295c50cac7",
   "metadata": {},
   "outputs": [],
   "source": [
    "from multimodal_molecules.data import get_dataset"
   ]
  },
  {
   "cell_type": "code",
   "execution_count": null,
   "id": "47e06e05-db16-4bf2-bab8-eba8cd138361",
   "metadata": {
    "tags": []
   },
   "outputs": [],
   "source": [
    "def screening(fg_dict, low=0.05, high=0.95):\n",
    "    \"\"\"Screen out functional groups that don't appear in the data\n",
    "    very often.\"\"\"\n",
    "\n",
    "    new_d = {}\n",
    "    for key, value in fg_dict.items():\n",
    "        avg = value.mean()\n",
    "        if low < avg < high:\n",
    "            new_d[key] = value\n",
    "    return new_d\n",
    "\n",
    "def concatenate(d):\n",
    "    keys = [key for key in d.keys() if \"XANES\" in key]\n",
    "    keys.sort()\n",
    "    X = np.concatenate([d[key] for key in keys], axis=1)\n",
    "    return X"
   ]
  },
  {
   "cell_type": "code",
   "execution_count": null,
   "id": "2082674e-a4c6-457b-99d4-591a053ca984",
   "metadata": {
    "tags": []
   },
   "outputs": [],
   "source": [
    "conditions = [\n",
    "    \"C-XANES\",\n",
    "    \"N-XANES\",\n",
    "    \"O-XANES\",\n",
    "    \"C-XANES,N-XANES\",\n",
    "    \"C-XANES,O-XANES\",\n",
    "    \"N-XANES,O-XANES\",\n",
    "    \"C-XANES,N-XANES,O-XANES\",\n",
    "]"
   ]
  },
  {
   "cell_type": "code",
   "execution_count": null,
   "id": "f094650c-4a60-47ba-84b4-39040815e52e",
   "metadata": {
    "tags": []
   },
   "outputs": [],
   "source": [
    "for condition in conditions:\n",
    "\n",
    "    d = Path(\"data\") / \"23-05-03-ml-data\" / condition.replace(\",\", \"_\")\n",
    "    d.mkdir(exist_ok=True, parents=True)\n",
    "\n",
    "    data = get_dataset(\n",
    "        xanes_path=\"data/221205/xanes.pkl\",\n",
    "        index_path=\"data/221205/index.csv\",\n",
    "        conditions=condition\n",
    "    )\n",
    "    X = concatenate(data)\n",
    "    assert X.shape[1] == len(condition.split(\",\")) * 200\n",
    "    \n",
    "    new_fg = screening(data[\"FG\"])\n",
    "    columns = list(new_fg.keys())\n",
    "    Y = np.array([v for v in new_fg.values()]).T\n",
    "    \n",
    "    X_train_val, X_test, y_train_val, y_test, smiles_train_val, smiles_test = train_test_split(X, Y, data[\"index\"][\"SMILES\"], test_size=0.15, random_state=42)\n",
    "    X_train, X_val, y_train, y_val, smiles_train, smiles_val = train_test_split(X_train_val, y_train_val, smiles_train_val, test_size=0.15, random_state=42)\n",
    "    \n",
    "    assert X_train.shape[1] == X_val.shape[1] == X_test.shape[1] == X.shape[1]\n",
    "    assert y_train.shape[1] == y_val.shape[1] == y_test.shape[1] == Y.shape[1] == len(columns)\n",
    "    \n",
    "    np.save(d / \"X_train.npy\", X_train)\n",
    "    np.save(d / \"X_val.npy\", X_val)\n",
    "    np.save(d / \"X_test.npy\", X_test)\n",
    "\n",
    "    np.save(d / \"Y_train.npy\", y_train)\n",
    "    np.save(d / \"Y_val.npy\", y_val)\n",
    "    np.save(d / \"Y_test.npy\", y_test)\n",
    "    \n",
    "    with open(d / \"smiles_train.txt\", \"w\") as f:\n",
    "        for line in smiles_train.to_list():\n",
    "            f.write(f\"{line}\\n\")\n",
    "            \n",
    "    with open(d / \"smiles_val.txt\", \"w\") as f:\n",
    "        for line in smiles_val.to_list():\n",
    "            f.write(f\"{line}\\n\")\n",
    "    \n",
    "    with open(d / \"smiles_test.txt\", \"w\") as f:\n",
    "        for line in smiles_test.to_list():\n",
    "            f.write(f\"{line}\\n\")\n",
    "    \n",
    "    with open(d / \"functional_groups.txt\", \"w\") as f:\n",
    "        for line in columns:\n",
    "            f.write(f\"{line}\\n\")\n",
    "    \n",
    "    print(X_train.shape, X_val.shape, X_test.shape, y_train.shape, y_val.shape, y_test.shape)"
   ]
  },
  {
   "cell_type": "code",
   "execution_count": null,
   "id": "191e360b-cea7-4ce8-a8fa-015248381fc7",
   "metadata": {
    "tags": []
   },
   "outputs": [],
   "source": [
    "d = Path(\"data\") / \"23-05-03-ml-data\"\n",
    "d2 = Path(\"data\") / \"23-04-26-ml-data\"\n",
    "\n",
    "for p in d.rglob(\"Y_train.npy\"):\n",
    "    parent = p.parent\n",
    "    parent2 = d2 / parent.stem\n",
    "    \n",
    "    print(parent)\n",
    "    print(parent2)\n",
    "    \n",
    "    X_train = np.load(parent / \"X_train.npy\")\n",
    "    X_train2 = np.load(parent2 / \"X_train.npy\")\n",
    "    assert np.all(X_train == X_train2)\n",
    "    \n",
    "    X_val = np.load(parent / \"X_val.npy\")\n",
    "    X_val2 = np.load(parent2 / \"X_val.npy\")\n",
    "    assert np.all(X_val == X_val2)\n",
    "    \n",
    "    X_test = np.load(parent / \"X_test.npy\")\n",
    "    X_test2 = np.load(parent2 / \"X_test.npy\")\n",
    "    assert np.all(X_test == X_test2)\n",
    "    "
   ]
  }
 ],
 "metadata": {
  "kernelspec": {
   "display_name": "Python 3 (ipykernel)",
   "language": "python",
   "name": "python3"
  },
  "language_info": {
   "codemirror_mode": {
    "name": "ipython",
    "version": 3
   },
   "file_extension": ".py",
   "mimetype": "text/x-python",
   "name": "python",
   "nbconvert_exporter": "python",
   "pygments_lexer": "ipython3",
   "version": "3.9.16"
  }
 },
 "nbformat": 4,
 "nbformat_minor": 5
}
