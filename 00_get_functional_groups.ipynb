{
 "cells": [
  {
   "cell_type": "code",
   "execution_count": null,
   "id": "8e26ca90-97b6-4c51-854d-b4c6a025d6fd",
   "metadata": {},
   "outputs": [],
   "source": [
    "%load_ext autoreload\n",
    "%autoreload 2\n",
    "%config Completer.use_jedi = False"
   ]
  },
  {
   "cell_type": "markdown",
   "id": "977d0c5b-878c-4862-8495-5c3b7c53fcd0",
   "metadata": {},
   "source": [
    "Helper functions and imports"
   ]
  },
  {
   "cell_type": "code",
   "execution_count": null,
   "id": "ea1f4d99-52e1-41ec-9c02-0285ea7ebe87",
   "metadata": {},
   "outputs": [],
   "source": [
    "import pickle\n",
    "\n",
    "import json\n",
    "from tqdm import tqdm"
   ]
  },
  {
   "cell_type": "code",
   "execution_count": null,
   "id": "8e671bf0-8fff-4c63-842c-fc6421484076",
   "metadata": {},
   "outputs": [],
   "source": [
    "data = pickle.load(open(\"data/221205/221205_xanes.pkl\", \"rb\"))"
   ]
  },
  {
   "cell_type": "markdown",
   "id": "d45a5097-3c89-490f-bb0c-57cbc265fc8d",
   "metadata": {},
   "source": [
    "This block generates `all_smiles.smi`."
   ]
  },
  {
   "cell_type": "code",
   "execution_count": null,
   "id": "c2d9f0e4-7058-442c-882e-e34ff4ca525a",
   "metadata": {},
   "outputs": [],
   "source": [
    "all_smiles = list(data[\"data\"].keys())\n",
    "with open(\"data/221205/all_smiles.smi\", \"w\") as f:\n",
    "    f.write(\"\\n\".join(all_smiles))"
   ]
  },
  {
   "cell_type": "markdown",
   "id": "312c4d42-89c5-415b-a536-9305b22c1bcf",
   "metadata": {},
   "source": [
    "Need to run this only once:\n",
    "\n",
    "`obabel -ismi data/221205/all_smiles.smi -ofpt -xfFP4 -xs > data/221205/functional_groups.txt`"
   ]
  },
  {
   "cell_type": "code",
   "execution_count": null,
   "id": "49055769-984d-479d-aaac-9d0b88c0b88d",
   "metadata": {},
   "outputs": [],
   "source": [
    "with open(\"data/221205/functional_groups.txt\", \"r\") as f:\n",
    "    functional_groups = f.readlines()\n",
    "\n",
    "# Every other line is just a \">\"\n",
    "functional_groups = functional_groups[1::2]\n",
    "\n",
    "# Construct a dictionary from this\n",
    "functional_groups = {\n",
    "    smile: group.strip().split()\n",
    "    for smile, group in zip(all_smiles, functional_groups)\n",
    "}"
   ]
  },
  {
   "cell_type": "markdown",
   "id": "02343b16-ac76-4291-a190-058805e90292",
   "metadata": {},
   "source": [
    "Save this back to disk as a dictionary."
   ]
  },
  {
   "cell_type": "code",
   "execution_count": null,
   "id": "726297c2-6f01-4551-904c-b517e8cb7a1b",
   "metadata": {},
   "outputs": [],
   "source": [
    "with open(\"data/221205/functional_groups.json\", 'w') as outfile:\n",
    "    json.dump(functional_groups, outfile, indent=4, sort_keys=True)"
   ]
  }
 ],
 "metadata": {
  "kernelspec": {
   "display_name": "Python 3 (ipykernel)",
   "language": "python",
   "name": "python3"
  },
  "language_info": {
   "codemirror_mode": {
    "name": "ipython",
    "version": 3
   },
   "file_extension": ".py",
   "mimetype": "text/x-python",
   "name": "python",
   "nbconvert_exporter": "python",
   "pygments_lexer": "ipython3",
   "version": "3.9.13"
  }
 },
 "nbformat": 4,
 "nbformat_minor": 5
}
