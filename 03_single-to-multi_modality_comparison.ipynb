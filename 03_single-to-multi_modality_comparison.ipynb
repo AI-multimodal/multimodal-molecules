{
 "cells": [
  {
   "cell_type": "code",
   "execution_count": null,
   "id": "8e26ca90-97b6-4c51-854d-b4c6a025d6fd",
   "metadata": {},
   "outputs": [],
   "source": [
    "%load_ext autoreload\n",
    "%autoreload 2\n",
    "%config Completer.use_jedi = False"
   ]
  },
  {
   "cell_type": "markdown",
   "id": "977d0c5b-878c-4862-8495-5c3b7c53fcd0",
   "metadata": {},
   "source": [
    "Helper functions and imports"
   ]
  },
  {
   "cell_type": "code",
   "execution_count": null,
   "id": "3114880e-5a4d-459f-8ea7-e4ec34758e80",
   "metadata": {},
   "outputs": [],
   "source": [
    "from itertools import product\n",
    "import json\n",
    "from pathlib import Path\n",
    "\n",
    "import matplotlib.pyplot as plt\n",
    "import matplotlib as mpl\n",
    "from matplotlib.backends.backend_pdf import PdfPages\n",
    "import numpy as np\n",
    "import pandas as pd\n",
    "import pickle\n",
    "import seaborn as sns"
   ]
  },
  {
   "cell_type": "code",
   "execution_count": null,
   "id": "f2e6abd1-5248-4abf-8d18-f9d97b25218b",
   "metadata": {},
   "outputs": [],
   "source": [
    "pd.set_option('styler.format.precision', 3)"
   ]
  },
  {
   "cell_type": "code",
   "execution_count": null,
   "id": "be0d304e-55fc-4240-917e-6198c59aba3d",
   "metadata": {},
   "outputs": [],
   "source": [
    "def read_json(path):\n",
    "    with open(path, \"r\") as infile:\n",
    "        dat = json.load(infile)\n",
    "    return dat"
   ]
  },
  {
   "cell_type": "code",
   "execution_count": null,
   "id": "8e9b2487-0303-456a-bbdd-99783867e681",
   "metadata": {},
   "outputs": [],
   "source": [
    "from multimodal_molecules.plotting import set_defaults, set_grids"
   ]
  },
  {
   "cell_type": "code",
   "execution_count": null,
   "id": "8c21e0b5-ae95-4c18-b769-84d4569ba76a",
   "metadata": {},
   "outputs": [],
   "source": [
    "fig, ax = plt.subplots(1, 1, figsize=(3, 2))\n",
    "plt.clf()\n",
    "set_defaults()"
   ]
  },
  {
   "cell_type": "code",
   "execution_count": null,
   "id": "e5f5951e-93fa-4aaf-9d4f-2a8f6564aa42",
   "metadata": {},
   "outputs": [],
   "source": [
    "from multimodal_molecules.models import Results, get_all_combinations\n",
    "from multimodal_molecules.data import get_dataset"
   ]
  },
  {
   "cell_type": "markdown",
   "id": "57b6002d-8e81-4cfd-a53d-0a4771aaabbf",
   "metadata": {},
   "source": [
    "Set relevant paths."
   ]
  },
  {
   "cell_type": "code",
   "execution_count": null,
   "id": "f8b16f89-453b-4970-8160-9c9492fe9be2",
   "metadata": {},
   "outputs": [],
   "source": [
    "json_file = Path(\"results/221226/C-XANES_N-XANES_O-XANES.json\")\n",
    "functional_group_json_file = \"data/221205/functional_groups.json\"\n",
    "data_directory = Path(\"data/221205\")"
   ]
  },
  {
   "cell_type": "markdown",
   "id": "7ce87277-38fa-4957-bdc6-c14127f13c64",
   "metadata": {},
   "source": [
    "Load the relevant data."
   ]
  },
  {
   "cell_type": "code",
   "execution_count": null,
   "id": "9dfb2e45-fc09-4830-9449-671e1a827f3a",
   "metadata": {},
   "outputs": [],
   "source": [
    "single_modalities = [xx.split(\"-\")[0] for xx in json_file.parts[-1].split(\"_\")]\n",
    "combos = get_all_combinations(len(single_modalities))\n",
    "multi_modalities = [cc for cc in combos if len(cc) > 1]\n",
    "multi_modalities = [\",\".join([single_modalities[ii] for ii in cc]) for cc in multi_modalities]\n",
    "print(single_modalities)\n",
    "print(multi_modalities)"
   ]
  },
  {
   "cell_type": "code",
   "execution_count": null,
   "id": "7eec85fa-210b-4bef-9b1c-e5db38dfc5a8",
   "metadata": {},
   "outputs": [],
   "source": [
    "functional_group_data = read_json(functional_group_json_file)\n",
    "all_functional_groups_enumerated = [g for groups in functional_group_data.values() for g in groups]\n",
    "all_unique_functional_groups = sorted(list(set(all_functional_groups_enumerated)))"
   ]
  },
  {
   "cell_type": "code",
   "execution_count": null,
   "id": "bfe591e7-a67c-400b-a432-74694f16b198",
   "metadata": {},
   "outputs": [],
   "source": [
    "results = Results.from_file(json_file)"
   ]
  },
  {
   "cell_type": "code",
   "execution_count": null,
   "id": "6f053998-d824-44db-88f1-734135d46b0a",
   "metadata": {},
   "outputs": [],
   "source": [
    "data = get_dataset(data_directory / \"221205_xanes.pkl\", data_directory / \"221205_index.csv\", conditions=results._conditions)"
   ]
  },
  {
   "cell_type": "markdown",
   "id": "f30f7aed-282c-4e0e-9764-05cc3b2281f8",
   "metadata": {},
   "source": [
    "Preliminary study of a few functional groups. We want to compare the difference between the best single-modality experiment to the best multi-modality experiment. We can sort in increasing order across all functional groups."
   ]
  },
  {
   "cell_type": "code",
   "execution_count": null,
   "id": "fb152ce0-9dd2-444e-84c3-ac7762dbd327",
   "metadata": {},
   "outputs": [],
   "source": [
    "base_file_name = \"latex_table-\" + (\"-\".join(single_modalities) + \"-\" + \"-\".join(multi_modalities)).replace(\",\", \"_\")"
   ]
  },
  {
   "cell_type": "code",
   "execution_count": null,
   "id": "7a81a039-a6bf-4332-9d85-bf3e8d655f9e",
   "metadata": {},
   "outputs": [],
   "source": [
    "results_dict = {\"FG\": []}\n",
    "results_dict = {**results_dict, **{key: [] for key in single_modalities}}\n",
    "results_dict = {**results_dict, **{key: [] for key in multi_modalities}}"
   ]
  },
  {
   "cell_type": "code",
   "execution_count": null,
   "id": "26113022-5bd5-4d69-84dd-61d6afdd89f3",
   "metadata": {},
   "outputs": [],
   "source": [
    "for fg in all_unique_functional_groups:\n",
    "    results_dict[\"FG\"].append(fg)\n",
    "    for mode in single_modalities + multi_modalities:\n",
    "        mode_name = \"_\".join([f\"{m}-XANES\" for m in mode.split(\",\")])\n",
    "        key = f\"{mode_name}-{fg}\"\n",
    "\n",
    "        try:\n",
    "            r = results.report[key][\"test_balanced_accuracy\"]\n",
    "            results_dict[mode].append(r)\n",
    "                \n",
    "        except KeyError:\n",
    "            # Not enough functional group occurrence (or too much),\n",
    "            # so experiment was skipped\n",
    "            results_dict[mode].append(-1)"
   ]
  },
  {
   "cell_type": "code",
   "execution_count": null,
   "id": "82b8e1bd-5c62-4b69-b233-7d8d657c4457",
   "metadata": {},
   "outputs": [],
   "source": [
    "df = pd.DataFrame(results_dict)"
   ]
  },
  {
   "cell_type": "code",
   "execution_count": null,
   "id": "5d67a8a8-6e4b-4f74-981e-b45e7abb2762",
   "metadata": {},
   "outputs": [],
   "source": [
    "df = df[df[[*single_modalities] + [*multi_modalities]].mean(axis=1) != -1]\n",
    "assert (df == -1).sum().sum() == 0\n",
    "df[r\"$p$\"] = [data[\"FG\"][fg].mean() for fg in df[\"FG\"]]\n",
    "df[\"Best SM\"] = df[[*single_modalities]].max(axis=1)\n",
    "df[\"Best MM\"] = df[[*multi_modalities]].max(axis=1)\n",
    "df[r\"$\\Delta$\"] = df[\"Best MM\"] - df[\"Best SM\"]\n",
    "df = df.drop(columns=[\"Best SM\", \"Best MM\"])"
   ]
  },
  {
   "cell_type": "code",
   "execution_count": null,
   "id": "8234049d-38ae-4fcd-8e6d-b3823048ad29",
   "metadata": {},
   "outputs": [],
   "source": [
    "drop = [\"Cis_double_bond\", \"Trans_double_bond\", \"Heteroaromatic\", \"Charged\", \"Kation\", \"Anion\", \"Salt\"]\n",
    "for d in drop:\n",
    "    df = df[df[\"FG\"] != d]"
   ]
  },
  {
   "cell_type": "code",
   "execution_count": null,
   "id": "ede5b732-84b6-419d-9546-864aa209a860",
   "metadata": {},
   "outputs": [],
   "source": [
    "df = df.sort_values(by=[r\"$\\Delta$\"], ascending=False)"
   ]
  },
  {
   "cell_type": "code",
   "execution_count": null,
   "id": "32ab738c-8702-4bde-a4f3-26dfc9538e9b",
   "metadata": {},
   "outputs": [],
   "source": [
    "replace_with = [\n",
    "    (\"_\", \"-\"),\n",
    "    (\"Vinylogous-carbonyl-or-carboxyl-derivative\", \"Vinyl-carbonyl/xl der.\")\n",
    "    # (\"Primary\", \"I\"),\n",
    "    # (\"Secondary\", \"II\"),\n",
    "    # (\"Tertiary\", \"III\"),\n",
    "    # (\"Quaternary\", \"IV\"),\n",
    "    # (\"Hetero\", \"Het.\"),\n",
    "    # (\"Conjugated\", \"Conj.\")\n",
    "]\n",
    "for rep in replace_with:\n",
    "    df['FG'] = df['FG'].apply(lambda x: x.replace(*rep))"
   ]
  },
  {
   "cell_type": "code",
   "execution_count": null,
   "id": "682aa7c1-973b-4998-8461-6de88b5bd5b1",
   "metadata": {},
   "outputs": [],
   "source": [
    "df.index = df[\"FG\"]\n",
    "df = df.drop(columns=[\"FG\"])"
   ]
  },
  {
   "cell_type": "markdown",
   "id": "ce4c510a-2095-4a53-b44d-d778c8c6c21c",
   "metadata": {},
   "source": [
    "Construct the table. This will require some postprocessing to split into two pieces for display in the manuscript though."
   ]
  },
  {
   "cell_type": "code",
   "execution_count": null,
   "id": "dfab2867-3102-40fb-93b7-63f91a46901d",
   "metadata": {},
   "outputs": [],
   "source": [
    "df.mean(axis=0)"
   ]
  },
  {
   "cell_type": "code",
   "execution_count": null,
   "id": "1e9c7a89-e20b-4fcf-84f4-32e4b96a0d37",
   "metadata": {},
   "outputs": [],
   "source": [
    "df_plot = df.style.background_gradient(cmap='viridis')"
   ]
  },
  {
   "cell_type": "code",
   "execution_count": null,
   "id": "43f936b8-7d7e-4717-80fb-911a8f6f45be",
   "metadata": {},
   "outputs": [],
   "source": [
    "df_plot"
   ]
  },
  {
   "cell_type": "code",
   "execution_count": null,
   "id": "ebc2a267-844b-45cf-bc6b-6bd2480d7791",
   "metadata": {},
   "outputs": [],
   "source": [
    "df_plot.to_latex(f\"tables/{base_file_name}.tex\", convert_css=True, hrules=True)"
   ]
  },
  {
   "cell_type": "code",
   "execution_count": null,
   "id": "fc068f2d-ec17-4093-945f-93d34aafec19",
   "metadata": {},
   "outputs": [],
   "source": []
  },
  {
   "cell_type": "code",
   "execution_count": null,
   "id": "2292fe53-b42a-42a5-b25c-ea867da0887b",
   "metadata": {},
   "outputs": [],
   "source": []
  },
  {
   "cell_type": "code",
   "execution_count": null,
   "id": "85520e92-8052-4118-9c30-d43c23a721d7",
   "metadata": {},
   "outputs": [],
   "source": []
  },
  {
   "cell_type": "code",
   "execution_count": null,
   "id": "63dd6624-58c9-4e86-bc83-afce852ccf70",
   "metadata": {},
   "outputs": [],
   "source": []
  },
  {
   "cell_type": "markdown",
   "id": "0bff749b-11db-4b98-8d2a-3de515659689",
   "metadata": {
    "tags": []
   },
   "source": [
    "# Older"
   ]
  },
  {
   "cell_type": "code",
   "execution_count": null,
   "id": "2a235b9d-7dda-479a-8326-e5e863dfbbb7",
   "metadata": {},
   "outputs": [],
   "source": []
  },
  {
   "cell_type": "code",
   "execution_count": null,
   "id": "f0a81ab3-0875-42b4-863b-f473e7508507",
   "metadata": {},
   "outputs": [],
   "source": []
  },
  {
   "cell_type": "code",
   "execution_count": null,
   "id": "ce9f6f24-6a86-4aa0-bfd9-27a688d4fb94",
   "metadata": {},
   "outputs": [],
   "source": []
  },
  {
   "cell_type": "code",
   "execution_count": null,
   "id": "1bf7fff5-0e15-44f2-b3c8-a5b0d728a2c7",
   "metadata": {},
   "outputs": [],
   "source": []
  },
  {
   "cell_type": "code",
   "execution_count": null,
   "id": "77a4dea9-b1ef-44a9-9efb-5388fc0156f0",
   "metadata": {},
   "outputs": [],
   "source": []
  },
  {
   "cell_type": "code",
   "execution_count": null,
   "id": "3fcfa9ac-a554-40d4-a5ce-a537b57cde7f",
   "metadata": {},
   "outputs": [],
   "source": []
  },
  {
   "cell_type": "code",
   "execution_count": null,
   "id": "ea4eeb30-752b-41df-9a58-d45e0566c45d",
   "metadata": {},
   "outputs": [],
   "source": []
  },
  {
   "cell_type": "code",
   "execution_count": null,
   "id": "8e994545-9515-4ed1-b869-282baa470384",
   "metadata": {},
   "outputs": [],
   "source": [
    "results = Results(conditions=\"O-XANES\", xanes_data_name=\"221205_xanes.pkl\", index_data_name=\"221205_index.csv\")"
   ]
  },
  {
   "cell_type": "code",
   "execution_count": null,
   "id": "69985158-194b-4d09-a1e1-74725495cc4d",
   "metadata": {},
   "outputs": [],
   "source": []
  },
  {
   "cell_type": "code",
   "execution_count": null,
   "id": "46213ad7-b7eb-44d9-827d-9aff8454c088",
   "metadata": {},
   "outputs": [],
   "source": []
  },
  {
   "cell_type": "code",
   "execution_count": null,
   "id": "34763333-67b0-4613-8296-d0370e922539",
   "metadata": {},
   "outputs": [],
   "source": []
  },
  {
   "cell_type": "code",
   "execution_count": null,
   "id": "1cddd989-2d47-4d5e-b12a-6e2ea764871f",
   "metadata": {},
   "outputs": [],
   "source": []
  },
  {
   "cell_type": "code",
   "execution_count": null,
   "id": "539d6045-b7ab-4191-99fb-a07982aad1dd",
   "metadata": {},
   "outputs": [],
   "source": []
  },
  {
   "cell_type": "code",
   "execution_count": null,
   "id": "b431330b-622b-4e08-8011-f8ca55dc251b",
   "metadata": {
    "tags": []
   },
   "outputs": [],
   "source": [
    "results.run_experiments(\n",
    "    input_data_directory=\"data/221205\",\n",
    "    output_data_directory=\"results\",\n",
    "    n_jobs=8,\n",
    "    debug=10,\n",
    "    compute_feature_importance=False\n",
    ")"
   ]
  },
  {
   "cell_type": "code",
   "execution_count": null,
   "id": "fb966d68-e686-4fbf-ac3f-c760978a57c6",
   "metadata": {},
   "outputs": [],
   "source": [
    "results.reports[\"1,2-Aminoalcohol\"].metrics"
   ]
  },
  {
   "cell_type": "code",
   "execution_count": null,
   "id": "8a788bdd-55dd-47a5-9168-2a5481eebd37",
   "metadata": {},
   "outputs": [],
   "source": [
    "results2 = Results.from_file(\"results/O-XANES.json\")"
   ]
  },
  {
   "cell_type": "code",
   "execution_count": null,
   "id": "59bfc44b-f9af-4130-ab5d-90c2e967c1f4",
   "metadata": {},
   "outputs": [],
   "source": []
  },
  {
   "cell_type": "code",
   "execution_count": null,
   "id": "ee0126cd-3932-4647-8778-e56da56bc2dc",
   "metadata": {},
   "outputs": [],
   "source": []
  },
  {
   "cell_type": "code",
   "execution_count": null,
   "id": "4af37116-f5fc-464c-9394-27aecebd8536",
   "metadata": {},
   "outputs": [],
   "source": []
  },
  {
   "cell_type": "code",
   "execution_count": null,
   "id": "e7cf786e-4e20-4f32-803f-7cc7b8272006",
   "metadata": {},
   "outputs": [],
   "source": [
    "np.random.seed(123)\n",
    "test_indexes = sorted(np.random.choice(100, size=10, replace=False).tolist())"
   ]
  },
  {
   "cell_type": "code",
   "execution_count": null,
   "id": "9ccf07d5-bc98-4eaf-9fe2-558edccdcb52",
   "metadata": {},
   "outputs": [],
   "source": [
    "test_indexes"
   ]
  },
  {
   "cell_type": "code",
   "execution_count": null,
   "id": "28614912-d8e7-47ec-942f-535b08b77520",
   "metadata": {},
   "outputs": [],
   "source": [
    "results = load_results(xanes_path=\"data/221205/xanes.pkl\", index_path=\"data/221205/index.csv\", conditions=\"O-XANES\", root=\"results\")"
   ]
  },
  {
   "cell_type": "code",
   "execution_count": null,
   "id": "740e4e36-1572-4641-a9ae-416c4abd7877",
   "metadata": {},
   "outputs": [],
   "source": [
    "report = results[\"results\"][\"O-XANES_1,2-Aminoalcohol\"]"
   ]
  },
  {
   "cell_type": "code",
   "execution_count": null,
   "id": "376f408e-6f9b-4c5c-a2f4-15bf7aa40483",
   "metadata": {},
   "outputs": [],
   "source": []
  },
  {
   "cell_type": "code",
   "execution_count": null,
   "id": "f9a43639-8483-410d-ac31-3602543ab938",
   "metadata": {},
   "outputs": [],
   "source": []
  },
  {
   "cell_type": "code",
   "execution_count": null,
   "id": "947b8e2d-bfb1-4f82-b64e-bf4873ff314a",
   "metadata": {},
   "outputs": [],
   "source": []
  },
  {
   "cell_type": "code",
   "execution_count": null,
   "id": "20bf2ec2-7d90-4bce-ab82-5fa4490d422c",
   "metadata": {},
   "outputs": [],
   "source": [
    "data = get_dataset(\n",
    "    xanes_path=\"data/221205/xanes.pkl\",\n",
    "    index_path=\"data/221205/index.csv\",\n",
    "    conditions=\"O-XANES,N-XANES\"\n",
    ")"
   ]
  },
  {
   "cell_type": "code",
   "execution_count": null,
   "id": "5bd17697-9593-49ba-a5e6-9feaef184391",
   "metadata": {},
   "outputs": [],
   "source": [
    "data.keys()"
   ]
  },
  {
   "cell_type": "code",
   "execution_count": null,
   "id": "a387c94d-45de-4556-9154-8acbf11d8b63",
   "metadata": {},
   "outputs": [],
   "source": [
    "data[\"O-XANES\"].shape"
   ]
  },
  {
   "cell_type": "code",
   "execution_count": null,
   "id": "10283bcc-dfec-4547-be41-56130983aee9",
   "metadata": {},
   "outputs": [],
   "source": [
    "data[\"N-XANES\"].shape"
   ]
  },
  {
   "cell_type": "code",
   "execution_count": null,
   "id": "e3556a4d-a884-4dab-bb30-7b4acdf09214",
   "metadata": {},
   "outputs": [],
   "source": [
    "new_arr = np.concatenate([data[\"O-XANES\"], data[\"N-XANES\"]], axis=1)\n",
    "new_arr.shape"
   ]
  },
  {
   "cell_type": "code",
   "execution_count": null,
   "id": "7782638f-bd5b-4c4f-ac4e-a262faa4faba",
   "metadata": {},
   "outputs": [],
   "source": [
    "data[\"index\"]"
   ]
  },
  {
   "cell_type": "code",
   "execution_count": null,
   "id": "2dc443f1-22a6-45b0-951e-986108dfc85c",
   "metadata": {},
   "outputs": [],
   "source": [
    "from sklearn.metrics import accuracy_score, balanced_accuracy_score\n",
    "from sklearn.model_selection import train_test_split\n",
    "from sklearn.ensemble import RandomForestClassifier\n",
    "from sklearn.inspection import permutation_importance"
   ]
  },
  {
   "cell_type": "code",
   "execution_count": null,
   "id": "5ede9a67-31fc-4831-ae3a-4297d31adc30",
   "metadata": {},
   "outputs": [],
   "source": [
    "fg = \"Amide\"\n",
    "offset = None\n",
    "xanes = data[\"O-XANES\"][:, offset:]\n",
    "binary_targets = data[\"FG\"][fg]\n",
    "grid = data[\"grid\"][\"O-XANES\"][offset:]\n",
    "pc = binary_targets.sum() / len(binary_targets) * 100\n",
    "print(f\"Occurrence of {fg}: {pc:.01f}%\")"
   ]
  },
  {
   "cell_type": "code",
   "execution_count": null,
   "id": "64d1b805-68e4-4835-960d-96545dddf600",
   "metadata": {},
   "outputs": [],
   "source": [
    "x_train, x_test, y_train, y_test = train_test_split(xanes, binary_targets, test_size=0.9, random_state=42)"
   ]
  },
  {
   "cell_type": "code",
   "execution_count": null,
   "id": "2e9f3c76-1dc4-4a3b-8b1d-2dbd02570f20",
   "metadata": {},
   "outputs": [],
   "source": [
    "x_test.shape"
   ]
  },
  {
   "cell_type": "markdown",
   "id": "c4202625-06a9-4700-a79a-d8ad804b2d09",
   "metadata": {},
   "source": [
    "Train a basic random forest classifier."
   ]
  },
  {
   "cell_type": "code",
   "execution_count": null,
   "id": "d6667978-b8c3-439a-b1ae-d81069ff5f9b",
   "metadata": {},
   "outputs": [],
   "source": [
    "rf = RandomForestClassifier(n_jobs=16, random_state=42)\n",
    "rf.fit(x_train, y_train)"
   ]
  },
  {
   "cell_type": "code",
   "execution_count": null,
   "id": "cc0400c5-5bf7-4210-97a1-f1d13f799620",
   "metadata": {},
   "outputs": [],
   "source": [
    "def rf_classifier_predict(rf, x):\n",
    "    preds = np.array([tree.predict(x) for tree in rf.estimators_])\n",
    "    feature_importances = np.array([tree.feature_importances_ for tree in rf.estimators_])\n",
    "    return preds, feature_importances"
   ]
  },
  {
   "cell_type": "code",
   "execution_count": null,
   "id": "0395ea2d-4ec5-4704-b3c8-14f5a26da55a",
   "metadata": {},
   "outputs": [],
   "source": [
    "y_pred, x_feature_importances = rf_classifier_predict(rf, x_test)"
   ]
  },
  {
   "cell_type": "code",
   "execution_count": null,
   "id": "24591c3e-85ad-4a78-8eb7-35553bff0ec5",
   "metadata": {},
   "outputs": [],
   "source": [
    "x_permutation_importances = permutation_importance(rf, x_test, y_test, n_jobs=16)"
   ]
  },
  {
   "cell_type": "code",
   "execution_count": null,
   "id": "2862f0d3-11ec-48ce-ba32-a1938f1e42f5",
   "metadata": {},
   "outputs": [],
   "source": [
    "print(\"Accuracy          \", round(accuracy_score(y_test, y_pred.mean(axis=0).round(0)), 5))\n",
    "print(\"Balanced accuracy \", round(balanced_accuracy_score(y_test, y_pred.mean(axis=0).round(0)), 5))"
   ]
  },
  {
   "cell_type": "code",
   "execution_count": null,
   "id": "b7f05ef3-f2d1-4df2-8e8a-83500022d95f",
   "metadata": {},
   "outputs": [],
   "source": [
    "where = np.where(data[\"FG\"][fg] == 1)[0]\n",
    "not_where = np.where(data[\"FG\"][fg] == 0)[0]"
   ]
  },
  {
   "cell_type": "code",
   "execution_count": null,
   "id": "870440c4-1308-4f26-a567-9059d6d040de",
   "metadata": {},
   "outputs": [],
   "source": [
    "fig, axs = plt.subplots(3, 1, figsize=(3, 2), sharex=True)\n",
    "\n",
    "ax = axs[0]\n",
    "mu = x_permutation_importances.importances_mean #x_feature_importances.mean(axis=0)\n",
    "sd = x_permutation_importances.importances_std #x_feature_importances.std(axis=0)\n",
    "ax.plot(grid, mu, color=\"blue\")\n",
    "ax.fill_between(grid, mu - sd * 3, mu + sd * 3, color=\"blue\", alpha=0.5, linewidth=0) \n",
    "ax.text(0.95, 0.95, \"Permutation feature importance\", ha=\"right\", va=\"top\", transform=ax.transAxes, color=\"blue\")\n",
    "ax.set_yticks([])\n",
    "\n",
    "ax = axs[1]\n",
    "mu = xanes[where, :].mean(axis=0)\n",
    "sd = xanes[where, :].std(axis=0)\n",
    "ax.plot(grid, mu, color=\"red\")\n",
    "ax.fill_between(grid, mu - sd, mu + sd, color=\"red\", alpha=0.5, linewidth=0)\n",
    "ax.text(0.95, 0.95, \"With\", ha=\"right\", va=\"top\", transform=ax.transAxes, color=\"red\")\n",
    "\n",
    "ax = axs[2]\n",
    "mu = xanes[not_where, :].mean(axis=0)\n",
    "sd = xanes[not_where, :].std(axis=0)\n",
    "ax.plot(grid, mu, color=\"black\")\n",
    "ax.fill_between(grid, mu - sd, mu + sd, color=\"black\", alpha=0.5, linewidth=0)\n",
    "ax.text(0.95, 0.95, \"Without\", ha=\"right\", va=\"top\", transform=ax.transAxes, color=\"black\")\n",
    "\n",
    "plt.show()"
   ]
  },
  {
   "cell_type": "markdown",
   "id": "61f8d555-5038-48eb-a853-f6f09d567143",
   "metadata": {},
   "source": [
    "Error correlation"
   ]
  },
  {
   "cell_type": "code",
   "execution_count": null,
   "id": "319026e1-197c-4283-b217-b40d49f579ce",
   "metadata": {},
   "outputs": [],
   "source": [
    "mu_pred = y_pred.mean(axis=0)\n",
    "mu_std = y_pred.std(axis=0)"
   ]
  },
  {
   "cell_type": "code",
   "execution_count": null,
   "id": "c732195a-ee18-49d0-90de-cb25312fc5b8",
   "metadata": {},
   "outputs": [],
   "source": [
    "error = mu_pred.round(0) - y_test\n",
    "# If error is 1, that means 1 was predicted but y_test is 0; a false positive\n",
    "# If error is -1, that means 0 was predicted but y_test is 1; a false negative"
   ]
  },
  {
   "cell_type": "code",
   "execution_count": null,
   "id": "74a72dff-0d1f-4881-894b-651b25694fb5",
   "metadata": {},
   "outputs": [],
   "source": [
    "false_positive_rate = len(np.where(error == 1)[0]) / len(error) * 100.0\n",
    "print(false_positive_rate)\n",
    "\n",
    "false_negative_rate = len(np.where(error == -1)[0]) / len(error) * 100.0\n",
    "print(false_negative_rate)"
   ]
  },
  {
   "cell_type": "code",
   "execution_count": null,
   "id": "2af175ec-84d8-49a6-a766-14fb2024f821",
   "metadata": {},
   "outputs": [],
   "source": [
    "indexes = np.argsort(mu_std)"
   ]
  },
  {
   "cell_type": "code",
   "execution_count": null,
   "id": "f00e46fa-8666-4ea1-8237-3b0699cacf9e",
   "metadata": {},
   "outputs": [],
   "source": [
    "argsorted_mu_std = mu_std[indexes]\n",
    "argsorted_error = error[indexes]\n",
    "argsorted_error_false_positives = argsorted_error == 1\n",
    "argsorted_error_false_negatives = argsorted_error == -1"
   ]
  },
  {
   "cell_type": "code",
   "execution_count": null,
   "id": "f361c8df-6ba5-4200-8c76-2f52cc3e4899",
   "metadata": {},
   "outputs": [],
   "source": [
    "sum(argsorted_error_false_positives)"
   ]
  },
  {
   "cell_type": "code",
   "execution_count": null,
   "id": "514ec74f-6c01-4f91-b81e-dc2cf25a5490",
   "metadata": {},
   "outputs": [],
   "source": [
    "bins = 100\n",
    "duration = len(argsorted_error)\n",
    "bin_width = int(round(duration / bins))\n",
    "binned_argsorted_error_false_positives = np.array([argsorted_error_false_positives[i:i+bin_width].sum() for i in range(0, duration, bin_width)])\n",
    "binned_argsorted_error_false_negatives = np.array([argsorted_error_false_negatives[i:i+bin_width].sum() for i in range(0, duration, bin_width)])\n",
    "binned_grid = np.array([bin_width / 2 + ii * bin_width for ii in range(bins)])"
   ]
  },
  {
   "cell_type": "code",
   "execution_count": null,
   "id": "c7ad4fbd-6c9f-400a-884b-a5d64bf22582",
   "metadata": {},
   "outputs": [],
   "source": [
    "fig, ax = plt.subplots(1, 1, figsize=(3, 1))\n",
    "\n",
    "error_grid = np.array([ii for ii in range(len(mu_pred))])\n",
    "\n",
    "# for ii, e in zip(error_grid, argsorted_error):\n",
    "#     if e == 1:  # False positive\n",
    "#         ax.vlines(ii, 0.25, 0.5, color=\"red\", alpha=0.5, linewidth=0.1)\n",
    "#     elif e == -1:  # False negative\n",
    "#         ax.vlines(ii, 0.0, 0.25, color=\"blue\", alpha=0.5, linewidth=0.1)\n",
    "\n",
    "\n",
    "\n",
    "ax.bar(binned_grid, binned_argsorted_error_false_negatives, width=bin_width, color=\"red\", label=\"False Positives\")\n",
    "ax.bar(binned_grid, binned_argsorted_error_false_positives, width=bin_width, color=\"blue\", label=\"False Negatives\")\n",
    "ax.legend(frameon=False, fontsize=8)\n",
    "set_grids(ax)\n",
    "\n",
    "ax2 = ax.twinx()\n",
    "ax2.plot(error_grid, argsorted_mu_std, color=\"black\", linewidth=1, label=\"$\\sigma$\")\n",
    "ax2.legend(frameon=False, loc=\"lower left\", fontsize=8)\n",
    "set_grids(ax2, left=False)\n",
    "\n",
    "\n",
    "\n",
    "ax2.set_ylabel(\"Uncertainty\")\n",
    "# ax.set_ylabel(\"Counts $/200$\")\n",
    "# ax.set_xlabel(\"Index $/10^5$\")\n",
    "# ax.set_xticks([0, 50000, 100000])\n",
    "# ax.set_xticklabels([0, 0.5, 1])\n",
    "# ax.set_yticks([0, 200])\n",
    "# ax.set_yticklabels([0, 1])\n",
    "ax.set_ylabel(\"Counts\")\n",
    "ax.set_xlabel(\"Index\")\n",
    "\n",
    "\n",
    "plt.show()"
   ]
  },
  {
   "cell_type": "code",
   "execution_count": null,
   "id": "313a23ea-79b2-4d52-b547-7c2cb5a5fe90",
   "metadata": {},
   "outputs": [],
   "source": []
  }
 ],
 "metadata": {
  "kernelspec": {
   "display_name": "Python 3 (ipykernel)",
   "language": "python",
   "name": "python3"
  },
  "language_info": {
   "codemirror_mode": {
    "name": "ipython",
    "version": 3
   },
   "file_extension": ".py",
   "mimetype": "text/x-python",
   "name": "python",
   "nbconvert_exporter": "python",
   "pygments_lexer": "ipython3",
   "version": "3.9.13"
  }
 },
 "nbformat": 4,
 "nbformat_minor": 5
}
