{
 "cells": [
  {
   "cell_type": "code",
   "execution_count": null,
   "id": "8e26ca90-97b6-4c51-854d-b4c6a025d6fd",
   "metadata": {},
   "outputs": [],
   "source": [
    "%load_ext autoreload\n",
    "%autoreload 2\n",
    "%config Completer.use_jedi = False"
   ]
  },
  {
   "cell_type": "markdown",
   "id": "977d0c5b-878c-4862-8495-5c3b7c53fcd0",
   "metadata": {},
   "source": [
    "Helper functions and imports"
   ]
  },
  {
   "cell_type": "code",
   "execution_count": null,
   "id": "3114880e-5a4d-459f-8ea7-e4ec34758e80",
   "metadata": {},
   "outputs": [],
   "source": [
    "from itertools import product\n",
    "import json\n",
    "from pathlib import Path\n",
    "\n",
    "import matplotlib.pyplot as plt\n",
    "import matplotlib as mpl\n",
    "from matplotlib.backends.backend_pdf import PdfPages\n",
    "import numpy as np\n",
    "import pandas as pd\n",
    "import pickle\n",
    "import seaborn as sns"
   ]
  },
  {
   "cell_type": "code",
   "execution_count": null,
   "id": "f2e6abd1-5248-4abf-8d18-f9d97b25218b",
   "metadata": {},
   "outputs": [],
   "source": [
    "pd.set_option('styler.format.precision', 3)"
   ]
  },
  {
   "cell_type": "code",
   "execution_count": null,
   "id": "be0d304e-55fc-4240-917e-6198c59aba3d",
   "metadata": {},
   "outputs": [],
   "source": [
    "def read_json(path):\n",
    "    with open(path, \"r\") as infile:\n",
    "        dat = json.load(infile)\n",
    "    return dat"
   ]
  },
  {
   "cell_type": "code",
   "execution_count": null,
   "id": "8e9b2487-0303-456a-bbdd-99783867e681",
   "metadata": {},
   "outputs": [],
   "source": [
    "from multimodal_molecules.plotting import set_defaults, set_grids"
   ]
  },
  {
   "cell_type": "code",
   "execution_count": null,
   "id": "8c21e0b5-ae95-4c18-b769-84d4569ba76a",
   "metadata": {},
   "outputs": [],
   "source": [
    "fig, ax = plt.subplots(1, 1, figsize=(3, 2))\n",
    "plt.clf()\n",
    "set_defaults()"
   ]
  },
  {
   "cell_type": "code",
   "execution_count": null,
   "id": "e5f5951e-93fa-4aaf-9d4f-2a8f6564aa42",
   "metadata": {},
   "outputs": [],
   "source": [
    "from multimodal_molecules.models import Results, get_all_combinations\n",
    "from multimodal_molecules.data import get_dataset"
   ]
  },
  {
   "cell_type": "markdown",
   "id": "57b6002d-8e81-4cfd-a53d-0a4771aaabbf",
   "metadata": {},
   "source": [
    "Set relevant paths."
   ]
  },
  {
   "cell_type": "code",
   "execution_count": null,
   "id": "f8b16f89-453b-4970-8160-9c9492fe9be2",
   "metadata": {},
   "outputs": [],
   "source": [
    "json_file = Path(\"results/221226/C-XANES_N-XANES_O-XANES.json\")\n",
    "functional_group_json_file = \"data/221205/functional_groups.json\"\n",
    "data_directory = Path(\"data/221205\")"
   ]
  },
  {
   "cell_type": "markdown",
   "id": "7ce87277-38fa-4957-bdc6-c14127f13c64",
   "metadata": {},
   "source": [
    "Load the relevant data."
   ]
  },
  {
   "cell_type": "code",
   "execution_count": null,
   "id": "9dfb2e45-fc09-4830-9449-671e1a827f3a",
   "metadata": {},
   "outputs": [],
   "source": [
    "single_modalities = [xx.split(\"-\")[0] for xx in json_file.parts[-1].split(\"_\")]\n",
    "combos = get_all_combinations(len(single_modalities))\n",
    "multi_modalities = [cc for cc in combos if len(cc) > 1]\n",
    "multi_modalities = [\",\".join([single_modalities[ii] for ii in cc]) for cc in multi_modalities]\n",
    "print(single_modalities)\n",
    "print(multi_modalities)"
   ]
  },
  {
   "cell_type": "code",
   "execution_count": null,
   "id": "7eec85fa-210b-4bef-9b1c-e5db38dfc5a8",
   "metadata": {},
   "outputs": [],
   "source": [
    "functional_group_data = read_json(functional_group_json_file)\n",
    "all_functional_groups_enumerated = [g for groups in functional_group_data.values() for g in groups]\n",
    "all_unique_functional_groups = sorted(list(set(all_functional_groups_enumerated)))"
   ]
  },
  {
   "cell_type": "code",
   "execution_count": null,
   "id": "bfe591e7-a67c-400b-a432-74694f16b198",
   "metadata": {},
   "outputs": [],
   "source": [
    "results = Results.from_file(json_file)"
   ]
  },
  {
   "cell_type": "code",
   "execution_count": null,
   "id": "6f053998-d824-44db-88f1-734135d46b0a",
   "metadata": {},
   "outputs": [],
   "source": [
    "data = get_dataset(data_directory / \"221205_xanes.pkl\", data_directory / \"221205_index.csv\", conditions=results._conditions)"
   ]
  },
  {
   "cell_type": "markdown",
   "id": "f30f7aed-282c-4e0e-9764-05cc3b2281f8",
   "metadata": {},
   "source": [
    "Preliminary study of a few functional groups. We want to compare the difference between the best single-modality experiment to the best multi-modality experiment. We can sort in increasing order across all functional groups."
   ]
  },
  {
   "cell_type": "code",
   "execution_count": null,
   "id": "fb152ce0-9dd2-444e-84c3-ac7762dbd327",
   "metadata": {},
   "outputs": [],
   "source": [
    "base_file_name = \"latex_table-\" + (\"-\".join(single_modalities) + \"-\" + \"-\".join(multi_modalities)).replace(\",\", \"_\")"
   ]
  },
  {
   "cell_type": "code",
   "execution_count": null,
   "id": "7a81a039-a6bf-4332-9d85-bf3e8d655f9e",
   "metadata": {},
   "outputs": [],
   "source": [
    "results_dict = {\"FG\": []}\n",
    "results_dict = {**results_dict, **{key: [] for key in single_modalities}}\n",
    "results_dict = {**results_dict, **{key: [] for key in multi_modalities}}"
   ]
  },
  {
   "cell_type": "code",
   "execution_count": null,
   "id": "26113022-5bd5-4d69-84dd-61d6afdd89f3",
   "metadata": {},
   "outputs": [],
   "source": [
    "for fg in all_unique_functional_groups:\n",
    "    results_dict[\"FG\"].append(fg)\n",
    "    for mode in single_modalities + multi_modalities:\n",
    "        mode_name = \"_\".join([f\"{m}-XANES\" for m in mode.split(\",\")])\n",
    "        key = f\"{mode_name}-{fg}\"\n",
    "\n",
    "        try:\n",
    "            r = results.report[key][\"test_balanced_accuracy\"]\n",
    "            results_dict[mode].append(r)\n",
    "                \n",
    "        except KeyError:\n",
    "            # Not enough functional group occurrence (or too much),\n",
    "            # so experiment was skipped\n",
    "            results_dict[mode].append(-1)"
   ]
  },
  {
   "cell_type": "code",
   "execution_count": null,
   "id": "82b8e1bd-5c62-4b69-b233-7d8d657c4457",
   "metadata": {},
   "outputs": [],
   "source": [
    "df = pd.DataFrame(results_dict)"
   ]
  },
  {
   "cell_type": "code",
   "execution_count": null,
   "id": "5d67a8a8-6e4b-4f74-981e-b45e7abb2762",
   "metadata": {},
   "outputs": [],
   "source": [
    "df = df[df[[*single_modalities] + [*multi_modalities]].mean(axis=1) != -1]\n",
    "assert (df == -1).sum().sum() == 0\n",
    "df[r\"$p$\"] = [data[\"FG\"][fg].mean() for fg in df[\"FG\"]]\n",
    "df[\"Best SM\"] = df[[*single_modalities]].max(axis=1)\n",
    "df[\"Best MM\"] = df[[*multi_modalities]].max(axis=1)\n",
    "df[r\"$\\Delta$\"] = df[\"Best MM\"] - df[\"Best SM\"]\n",
    "df = df.drop(columns=[\"Best SM\", \"Best MM\"])"
   ]
  },
  {
   "cell_type": "code",
   "execution_count": null,
   "id": "8234049d-38ae-4fcd-8e6d-b3823048ad29",
   "metadata": {},
   "outputs": [],
   "source": [
    "drop = [\"Cis_double_bond\", \"Trans_double_bond\", \"Heteroaromatic\", \"Charged\", \"Kation\", \"Anion\", \"Salt\"]\n",
    "for d in drop:\n",
    "    df = df[df[\"FG\"] != d]"
   ]
  },
  {
   "cell_type": "code",
   "execution_count": null,
   "id": "ede5b732-84b6-419d-9546-864aa209a860",
   "metadata": {},
   "outputs": [],
   "source": [
    "df = df.sort_values(by=[r\"$\\Delta$\"], ascending=False)"
   ]
  },
  {
   "cell_type": "code",
   "execution_count": null,
   "id": "32ab738c-8702-4bde-a4f3-26dfc9538e9b",
   "metadata": {},
   "outputs": [],
   "source": [
    "replace_with = [\n",
    "    (\"_\", \"-\"),\n",
    "    (\"Vinylogous-carbonyl-or-carboxyl-derivative\", \"Vinyl-carbonyl/xl der.\")\n",
    "    # (\"Primary\", \"I\"),\n",
    "    # (\"Secondary\", \"II\"),\n",
    "    # (\"Tertiary\", \"III\"),\n",
    "    # (\"Quaternary\", \"IV\"),\n",
    "    # (\"Hetero\", \"Het.\"),\n",
    "    # (\"Conjugated\", \"Conj.\")\n",
    "]\n",
    "for rep in replace_with:\n",
    "    df['FG'] = df['FG'].apply(lambda x: x.replace(*rep))"
   ]
  },
  {
   "cell_type": "code",
   "execution_count": null,
   "id": "682aa7c1-973b-4998-8461-6de88b5bd5b1",
   "metadata": {},
   "outputs": [],
   "source": [
    "df.index = df[\"FG\"]\n",
    "df = df.drop(columns=[\"FG\"])"
   ]
  },
  {
   "cell_type": "markdown",
   "id": "ce4c510a-2095-4a53-b44d-d778c8c6c21c",
   "metadata": {},
   "source": [
    "Construct the table. This will require some postprocessing to split into two pieces for display in the manuscript though."
   ]
  },
  {
   "cell_type": "code",
   "execution_count": null,
   "id": "dfab2867-3102-40fb-93b7-63f91a46901d",
   "metadata": {},
   "outputs": [],
   "source": [
    "df.mean(axis=0)"
   ]
  },
  {
   "cell_type": "code",
   "execution_count": null,
   "id": "1e9c7a89-e20b-4fcf-84f4-32e4b96a0d37",
   "metadata": {},
   "outputs": [],
   "source": [
    "df_plot = df.style.background_gradient(cmap='viridis')"
   ]
  },
  {
   "cell_type": "code",
   "execution_count": null,
   "id": "43f936b8-7d7e-4717-80fb-911a8f6f45be",
   "metadata": {},
   "outputs": [],
   "source": [
    "df_plot"
   ]
  },
  {
   "cell_type": "code",
   "execution_count": null,
   "id": "ebc2a267-844b-45cf-bc6b-6bd2480d7791",
   "metadata": {},
   "outputs": [],
   "source": [
    "df_plot.to_latex(f\"tables/{base_file_name}.tex\", convert_css=True, hrules=True)"
   ]
  }
 ],
 "metadata": {
  "kernelspec": {
   "display_name": "Python 3 (ipykernel)",
   "language": "python",
   "name": "python3"
  },
  "language_info": {
   "codemirror_mode": {
    "name": "ipython",
    "version": 3
   },
   "file_extension": ".py",
   "mimetype": "text/x-python",
   "name": "python",
   "nbconvert_exporter": "python",
   "pygments_lexer": "ipython3",
   "version": "3.9.13"
  }
 },
 "nbformat": 4,
 "nbformat_minor": 5
}
