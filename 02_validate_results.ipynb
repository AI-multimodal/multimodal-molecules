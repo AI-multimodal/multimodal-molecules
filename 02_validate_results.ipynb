{
 "cells": [
  {
   "cell_type": "code",
   "execution_count": null,
   "id": "8e26ca90-97b6-4c51-854d-b4c6a025d6fd",
   "metadata": {},
   "outputs": [],
   "source": [
    "%load_ext autoreload\n",
    "%autoreload 2\n",
    "%config Completer.use_jedi = False"
   ]
  },
  {
   "cell_type": "markdown",
   "id": "977d0c5b-878c-4862-8495-5c3b7c53fcd0",
   "metadata": {},
   "source": [
    "Helper functions and imports"
   ]
  },
  {
   "cell_type": "code",
   "execution_count": null,
   "id": "ea1f4d99-52e1-41ec-9c02-0285ea7ebe87",
   "metadata": {},
   "outputs": [],
   "source": [
    "from collections import Counter\n",
    "\n",
    "import json\n",
    "import matplotlib.pyplot as plt\n",
    "import matplotlib as mpl\n",
    "import numpy as np\n",
    "import pandas as pd\n",
    "import pickle\n",
    "from tqdm import tqdm\n",
    "\n",
    "from sklearn.decomposition import PCA\n",
    "from sklearn.preprocessing import StandardScaler"
   ]
  },
  {
   "cell_type": "code",
   "execution_count": null,
   "id": "52afd7dc-e1ab-4770-8a65-dd295c50cac7",
   "metadata": {},
   "outputs": [],
   "source": [
    "from multimodal_molecules.models import Results, validate\n",
    "from multimodal_molecules.plotting import set_defaults, set_grids"
   ]
  },
  {
   "cell_type": "code",
   "execution_count": null,
   "id": "8952ded0-cb72-467a-9035-cd2729481e9a",
   "metadata": {},
   "outputs": [],
   "source": [
    "set_defaults()"
   ]
  },
  {
   "cell_type": "markdown",
   "id": "215b2dda-a47c-4d7a-a6ba-7123f204c0ed",
   "metadata": {},
   "source": [
    "Load and validate the data"
   ]
  },
  {
   "cell_type": "code",
   "execution_count": null,
   "id": "bdaa193d-9f55-46f6-a0ad-9cab30664659",
   "metadata": {},
   "outputs": [],
   "source": [
    "json_file = \"results/221226/C-XANES_N-XANES_O-XANES.json\"\n",
    "data_directory = \"data/221205\""
   ]
  },
  {
   "cell_type": "code",
   "execution_count": null,
   "id": "116b20b7-97cc-4b87-81fe-05b127fa03e5",
   "metadata": {},
   "outputs": [],
   "source": [
    "results = Results.from_file(json_file)"
   ]
  },
  {
   "cell_type": "code",
   "execution_count": null,
   "id": "c0c5d5a2-be96-4ca4-b501-6546f8a141db",
   "metadata": {},
   "outputs": [],
   "source": [
    "validate(json_file, data_directory=data_directory)"
   ]
  }
 ],
 "metadata": {
  "kernelspec": {
   "display_name": "Python 3 (ipykernel)",
   "language": "python",
   "name": "python3"
  },
  "language_info": {
   "codemirror_mode": {
    "name": "ipython",
    "version": 3
   },
   "file_extension": ".py",
   "mimetype": "text/x-python",
   "name": "python",
   "nbconvert_exporter": "python",
   "pygments_lexer": "ipython3",
   "version": "3.9.13"
  }
 },
 "nbformat": 4,
 "nbformat_minor": 5
}
