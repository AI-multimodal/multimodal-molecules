{
 "cells": [
  {
   "cell_type": "code",
   "execution_count": null,
   "id": "a7b96014-930e-4554-9f36-d01286ce6523",
   "metadata": {
    "tags": []
   },
   "outputs": [],
   "source": [
    "%load_ext autoreload\n",
    "%autoreload 2\n",
    "%config Completer.use_jedi = False"
   ]
  },
  {
   "cell_type": "code",
   "execution_count": null,
   "id": "23beb6fd-ed4e-412a-9138-c82e265ad71b",
   "metadata": {
    "tags": []
   },
   "outputs": [],
   "source": [
    "from collections import Counter\n",
    "import json\n",
    "from pathlib import Path\n",
    "import string\n",
    "import sys\n",
    "\n",
    "from rdkit import Chem\n",
    "from IPython.display import clear_output\n",
    "import matplotlib.pyplot as plt\n",
    "import matplotlib as mpl\n",
    "import numpy as np\n",
    "import pandas as pd\n",
    "from scipy.spatial import distance_matrix\n",
    "from sklearn.decomposition import PCA\n",
    "from sklearn.preprocessing import StandardScaler\n",
    "import tqdm\n",
    "import torch\n",
    "from sklearn.metrics import balanced_accuracy_score, accuracy_score, f1_score, recall_score\n",
    "\n",
    "from multimodal_molecules.core import Ensemble, Estimator, get_data\n",
    "from multimodal_molecules.plotting import set_defaults, set_grids, density_scatter, remove_axis_spines"
   ]
  },
  {
   "cell_type": "code",
   "execution_count": null,
   "id": "0f2e431e-4f1e-4f1f-ae6f-b96b4ba2fa29",
   "metadata": {},
   "outputs": [],
   "source": [
    "class NumpyEncoder(json.JSONEncoder):\n",
    "    def default(self, obj):\n",
    "        if isinstance(obj, np.ndarray):\n",
    "            return obj.tolist()\n",
    "        return json.JSONEncoder.default(self, obj)"
   ]
  },
  {
   "cell_type": "code",
   "execution_count": null,
   "id": "b07109d2-21b1-4e29-b097-b7ff61d636ea",
   "metadata": {},
   "outputs": [],
   "source": [
    "set_defaults()"
   ]
  },
  {
   "cell_type": "code",
   "execution_count": null,
   "id": "abeffdd8-f79b-4164-b952-cafd992f6000",
   "metadata": {},
   "outputs": [],
   "source": [
    "def load_qm9_xyz(path):\n",
    "    with open(path, \"r\") as f:\n",
    "        lines = f.readlines()\n",
    "    smiles = lines[-2].strip().split()[1]\n",
    "    return lines, smiles"
   ]
  },
  {
   "cell_type": "code",
   "execution_count": null,
   "id": "9ecfadee-7d19-4c07-ad8f-609db9474341",
   "metadata": {},
   "outputs": [],
   "source": [
    "smiles_to_info = {}"
   ]
  },
  {
   "cell_type": "code",
   "execution_count": null,
   "id": "c39fa41b-0850-4091-bb61-0496bb9ef62d",
   "metadata": {},
   "outputs": [],
   "source": [
    "for fname in tqdm.tqdm(list(Path(\"/Users/mc/Data/QM9\").glob(\"*.xyz\"))):\n",
    "    lines, smiles = load_qm9_xyz(fname)\n",
    "    smiles_to_info[smiles] = {\"xyz\": lines, \"fname\": fname.name}"
   ]
  },
  {
   "cell_type": "markdown",
   "id": "04fdcf3b-c014-4af6-a1e4-0ee91ae962bb",
   "metadata": {},
   "source": [
    "# Compare N-XANES experiment to molecules in QM9"
   ]
  },
  {
   "cell_type": "code",
   "execution_count": null,
   "id": "4879c105-c00e-4127-9bc2-a234525c634b",
   "metadata": {},
   "outputs": [],
   "source": [
    "element = \"O\""
   ]
  },
  {
   "cell_type": "code",
   "execution_count": null,
   "id": "456187cc-d75a-48f3-bf26-3bba30f59893",
   "metadata": {},
   "outputs": [],
   "source": [
    "feff_data = get_data(elements=element)\n",
    "all_spectra = np.concatenate([feff_data[\"X_train\"], feff_data[\"X_val\"], feff_data[\"X_test\"]], axis=0)\n",
    "all_smiles = feff_data[\"smiles_train\"] + feff_data[\"smiles_val\"] + feff_data[\"smiles_test\"]\n",
    "all_smiles_canonicalized = [Chem.CanonSmiles(smile) for smile in all_smiles]"
   ]
  },
  {
   "cell_type": "code",
   "execution_count": null,
   "id": "c08a3274-a767-4e35-adb5-352aab8888a7",
   "metadata": {},
   "outputs": [],
   "source": [
    "with open(f\"experiment/{element.lower()}_exp.json\", \"r\") as f:\n",
    "    exp = json.load(f)\n",
    "grid = np.array(exp[\"feff_grid\"])"
   ]
  },
  {
   "cell_type": "code",
   "execution_count": null,
   "id": "834d4568-76dd-465c-a3d4-a4f5b35b3a8a",
   "metadata": {},
   "outputs": [],
   "source": [
    "new_data = []"
   ]
  },
  {
   "cell_type": "code",
   "execution_count": null,
   "id": "e2f877f7-fd7e-4b50-815b-589fea6e49aa",
   "metadata": {},
   "outputs": [],
   "source": [
    "for filename, value in exp[\"data\"].items():\n",
    "    if filename in exp[\"errors\"]:\n",
    "        continue\n",
    "\n",
    "    # Get possible keys from the experimental data\n",
    "    try:\n",
    "        key1 = Chem.CanonSmiles(value[\"smiles\"])\n",
    "    except:\n",
    "        key1 = None\n",
    "    key2 = value[\"smiles\"]\n",
    "    qm9_data1 = smiles_to_info.get(key1)\n",
    "    qm9_data2 = smiles_to_info.get(key2)\n",
    "    if qm9_data1 is None and qm9_data2 is None:\n",
    "        continue\n",
    "    \n",
    "    # At this stage we have the QM9 structural data\n",
    "    # and the corresponding experimental data\n",
    "    # Now check to see if we have the FEFF data\n",
    "    feff_index = None\n",
    "    if qm9_data1 is not None:\n",
    "        try:\n",
    "            feff_index = all_smiles.index(key1)\n",
    "        except ValueError:\n",
    "            try:\n",
    "                feff_index = all_smiles_canonicalized.index(key1)\n",
    "            except ValueError:\n",
    "                pass\n",
    "    if feff_index is None:\n",
    "        try:\n",
    "            feff_index = all_smiles.index(key2)\n",
    "        except ValueError:\n",
    "            try:\n",
    "                feff_index = all_smiles_canonicalized.index(key2)\n",
    "            except ValueError:\n",
    "                pass\n",
    "    if feff_index is None:\n",
    "        continue\n",
    "\n",
    "    if qm9_data1 is None and qm9_data2 is not None:\n",
    "        qm9_data = qm9_data2\n",
    "        smiles = key2\n",
    "    else:\n",
    "        qm9_data = qm9_data1\n",
    "        smiles = key1\n",
    "    \n",
    "    # If we're here, we also have the feff index in the\n",
    "    # ML training data and thus we have a successful FEFF\n",
    "    # spectrum\n",
    "    feff_spectrum = all_spectra[feff_index, :]\n",
    "    exp_spectrum = np.array(value[\"infilled_spectrum\"])\n",
    "    d = {\n",
    "        \"feff_spectrum\": feff_spectrum,\n",
    "        \"exp_spectrum\": exp_spectrum,\n",
    "        \"key1\": key1,\n",
    "        \"key2\": key2,\n",
    "        \"exp_filename\": filename,\n",
    "        \"smiles\": smiles,\n",
    "        \"qm9_data\": qm9_data\n",
    "    }\n",
    "    new_data.append(d)"
   ]
  },
  {
   "cell_type": "code",
   "execution_count": null,
   "id": "e797286c-03cf-4932-a2a0-7a585f9ee325",
   "metadata": {},
   "outputs": [],
   "source": [
    "len(new_data)"
   ]
  },
  {
   "cell_type": "code",
   "execution_count": null,
   "id": "f32f5f65-cdbd-4b68-b77a-bc9a064dd826",
   "metadata": {},
   "outputs": [],
   "source": [
    "fig, axs = plt.subplots(len(new_data), 1, figsize=(3, 2 * len(new_data)), sharex=True)\n",
    "\n",
    "for d, ax in zip(new_data, axs):\n",
    "    ax.plot(grid, d[\"feff_spectrum\"], color=\"red\")\n",
    "    ax.plot(grid, d[\"exp_spectrum\"], color=\"blue\")"
   ]
  },
  {
   "cell_type": "code",
   "execution_count": null,
   "id": "dc2c2921-43be-4611-a9e6-4d1bd3011ab0",
   "metadata": {},
   "outputs": [],
   "source": [
    "root = Path(f\"experiment/experiment_feff_pairings/{element}\")"
   ]
  },
  {
   "cell_type": "code",
   "execution_count": null,
   "id": "302ab75b-51d8-4f3e-b3c9-fd9f82b9a97a",
   "metadata": {},
   "outputs": [],
   "source": [
    "with open(root / \"data.json\", \"w\") as f:\n",
    "    json.dump(new_data, f, cls=NumpyEncoder)"
   ]
  },
  {
   "cell_type": "code",
   "execution_count": null,
   "id": "7dd5be8e-94a1-44c3-bfb1-fea6bed8b7c8",
   "metadata": {},
   "outputs": [],
   "source": [
    "for item in new_data:\n",
    "    p = root / item[\"exp_filename\"]\n",
    "    p.mkdir(exist_ok=True, parents=True)\n",
    "    with open(p / \"structure.xyz\", \"w\") as f:\n",
    "        for line in item[\"qm9_data\"][\"xyz\"]:\n",
    "            f.write(line)"
   ]
  }
 ],
 "metadata": {
  "kernelspec": {
   "display_name": "Python 3 (ipykernel)",
   "language": "python",
   "name": "python3"
  },
  "language_info": {
   "codemirror_mode": {
    "name": "ipython",
    "version": 3
   },
   "file_extension": ".py",
   "mimetype": "text/x-python",
   "name": "python",
   "nbconvert_exporter": "python",
   "pygments_lexer": "ipython3",
   "version": "3.11.6"
  }
 },
 "nbformat": 4,
 "nbformat_minor": 5
}
