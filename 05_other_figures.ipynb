{
 "cells": [
  {
   "cell_type": "code",
   "execution_count": null,
   "id": "8e26ca90-97b6-4c51-854d-b4c6a025d6fd",
   "metadata": {},
   "outputs": [],
   "source": [
    "%load_ext autoreload\n",
    "%autoreload 2\n",
    "%config Completer.use_jedi = False"
   ]
  },
  {
   "cell_type": "code",
   "execution_count": null,
   "id": "9ad631a0-0b4d-4731-bdb1-fe084d2657ca",
   "metadata": {
    "tags": []
   },
   "outputs": [],
   "source": [
    "from functools import cache\n",
    "\n",
    "from pathlib import Path\n",
    "from pprint import pprint\n",
    "\n",
    "import matplotlib.pyplot as plt\n",
    "import matplotlib as mpl\n",
    "import pandas as pd\n",
    "import numpy as np\n",
    "from scipy.stats import sem\n",
    "from sklearn.metrics import balanced_accuracy_score, accuracy_score\n",
    "import torch\n",
    "from IPython.display import clear_output\n",
    "from sklearn.decomposition import PCA\n",
    "from sklearn.preprocessing import StandardScaler\n",
    "\n",
    "from rdkit import Chem\n",
    "\n",
    "mpl.rcParams['mathtext.fontset'] = 'stix'\n",
    "mpl.rcParams['font.family'] = 'STIXGeneral'\n",
    "mpl.rcParams['text.usetex'] = False\n",
    "plt.rc('xtick', labelsize=12)\n",
    "plt.rc('ytick', labelsize=12)\n",
    "plt.rc('axes', labelsize=12)\n",
    "mpl.rcParams['figure.dpi'] = 300"
   ]
  },
  {
   "cell_type": "code",
   "execution_count": null,
   "id": "6b7a87ec-0edc-4eba-af45-a3f6f9e46f4a",
   "metadata": {
    "tags": []
   },
   "outputs": [],
   "source": [
    "from crescendo.analysis import Ensemble\n",
    "from multimodal_molecules.data import get_dataset"
   ]
  },
  {
   "cell_type": "code",
   "execution_count": null,
   "id": "ce83b0dc-105f-427a-b874-eb9ea418abe6",
   "metadata": {
    "tags": []
   },
   "outputs": [],
   "source": [
    "tmp_dataset = get_dataset(\"data/22-12-05-data/xanes.pkl\", \"data/22-12-05-data/index.csv\", conditions=\"C-XANES,N-XANES,O-XANES\")\n",
    "grids = tmp_dataset[\"grid\"]\n",
    "del tmp_dataset"
   ]
  },
  {
   "cell_type": "code",
   "execution_count": null,
   "id": "7b885bc7-69b3-43ff-b626-b594eacdc6ff",
   "metadata": {
    "tags": []
   },
   "outputs": [],
   "source": [
    "def load(\n",
    "    data,\n",
    "    data_dir=\"/Users/mc/GitHub/AIMM/multimodal-molecules/data/23-04-26-ml-data\",\n",
    "):\n",
    "    data_dir = Path(data_dir) / data\n",
    "    with open(Path(data_dir) / \"functional_groups.txt\", \"r\") as f:\n",
    "        functional_groups = f.readlines()\n",
    "    functional_groups = [xx.strip() for xx in functional_groups]\n",
    "\n",
    "    with open(Path(data_dir) / \"smiles_train.txt\", \"r\") as f:\n",
    "        smiles_train = [xx.strip() for xx in f.readlines()]\n",
    "    with open(Path(data_dir) / \"smiles_val.txt\", \"r\") as f:\n",
    "        smiles_val = [xx.strip() for xx in f.readlines()]\n",
    "    with open(Path(data_dir) / \"smiles_test.txt\", \"r\") as f:\n",
    "        smiles_test = [xx.strip() for xx in f.readlines()]\n",
    "    smiles = smiles_train + smiles_val\n",
    "    \n",
    "    X_train = np.load(Path(data_dir) / \"X_train.npy\")\n",
    "    X_val = np.load(Path(data_dir) / \"X_val.npy\")\n",
    "    X_test = np.load(Path(data_dir) / \"X_test.npy\")\n",
    "    X = np.concatenate([X_train, X_val], axis=0)\n",
    "    \n",
    "    Y_train = np.load(Path(data_dir) / \"Y_train.npy\")\n",
    "    Y_val = np.load(Path(data_dir) / \"Y_val.npy\")\n",
    "    Y_test = np.load(Path(data_dir) / \"Y_test.npy\")\n",
    "    Y = np.concatenate([Y_train, Y_val], axis=0)\n",
    "    \n",
    "    return smiles, smiles_test, X, X_test, Y, Y_test, functional_groups"
   ]
  },
  {
   "cell_type": "code",
   "execution_count": null,
   "id": "062c142d-5bed-447c-99a6-f1903fe2c0e6",
   "metadata": {
    "tags": []
   },
   "outputs": [],
   "source": [
    "smiles, smiles_test, X, X_test, Y, Y_test, functional_groups = load(\"C-XANES_N-XANES_O-XANES\")"
   ]
  },
  {
   "cell_type": "code",
   "execution_count": null,
   "id": "edca73c4-ab24-4128-bc5c-f11a9afb442f",
   "metadata": {
    "tags": []
   },
   "outputs": [],
   "source": [
    "pca_CNO = PCA(2)\n",
    "scaler = StandardScaler()\n",
    "pca_CNO.fit(scaler.fit_transform(X))"
   ]
  },
  {
   "cell_type": "code",
   "execution_count": null,
   "id": "1e15e2be-20e0-4d99-848b-4fefa1306bac",
   "metadata": {
    "tags": []
   },
   "outputs": [],
   "source": [
    "w_CNO = pca_CNO.transform(scaler.transform(X_test))"
   ]
  },
  {
   "cell_type": "code",
   "execution_count": null,
   "id": "da128b79-f44d-49b6-b028-0f528e064215",
   "metadata": {
    "tags": []
   },
   "outputs": [],
   "source": [
    "w_CNO.shape"
   ]
  },
  {
   "cell_type": "code",
   "execution_count": null,
   "id": "0dc1c9eb-b102-44c7-8965-d90bb295914c",
   "metadata": {},
   "outputs": [],
   "source": []
  },
  {
   "cell_type": "code",
   "execution_count": null,
   "id": "0efa1233-c718-4053-ad34-12f60a0aed9b",
   "metadata": {
    "tags": []
   },
   "outputs": [],
   "source": [
    "def get_example(p, w=w_CNO):\n",
    "    p = np.array(p)\n",
    "    delta = np.abs(w - p).sum(axis=1)\n",
    "    return np.argmin(delta)"
   ]
  },
  {
   "cell_type": "code",
   "execution_count": null,
   "id": "337bd99b-b314-4f5a-a307-5673a331a113",
   "metadata": {
    "tags": []
   },
   "outputs": [],
   "source": [
    "p1 = get_example([0, 40])\n",
    "p2 = get_example([25, 0])\n",
    "p3 = get_example([0, -20])\n",
    "p4 = get_example([-25, 0])\n",
    "p5 = get_example([0, 0])\n",
    "selected_points = [p1, p2, p3, p4, p5]\n",
    "colors = [\"red\", \"green\", \"blue\", \"orange\", \"purple\"]"
   ]
  },
  {
   "cell_type": "code",
   "execution_count": null,
   "id": "e4de4a12-1799-4ce6-a1fb-478983e77272",
   "metadata": {
    "tags": []
   },
   "outputs": [],
   "source": [
    "fig, ax = plt.subplots(1, 1, figsize=(2, 2), sharey=True)\n",
    "\n",
    "ax.scatter(w_CNO[:, 0], w_CNO[:, 1], s=0.5, color=\"black\", alpha=0.5, rasterized=True)\n",
    "\n",
    "for point, color in zip(selected_points, colors):\n",
    "    ax.scatter(w_CNO[point, 0], w_CNO[point, 1], color=color, marker=\"x\")\n",
    "\n",
    "ax.set_xlabel(r\"$z_1$ [a.u.]\")\n",
    "ax.set_ylabel(r\"$z_2$ [a.u.]\")\n",
    "ax.set_xticks([])\n",
    "ax.set_yticks([])\n",
    "ax.text(0.9, 0.9, \"(d)\", ha=\"center\", va=\"center\", transform=ax.transAxes)\n",
    "    \n",
    "plt.savefig(\"figures/pca.svg\", dpi=300, bbox_inches=\"tight\")"
   ]
  },
  {
   "cell_type": "code",
   "execution_count": null,
   "id": "b1ce9c0e-2eb8-45c2-a69d-7037059a521e",
   "metadata": {
    "tags": []
   },
   "outputs": [],
   "source": [
    "fig, axs = plt.subplots(3, 1, figsize=(2, 2), sharey=False)\n",
    "\n",
    "ax = axs[0]\n",
    "for p, c in zip(selected_points, colors):\n",
    "    ax.plot(grids[\"C-XANES\"], X_test[p, :200], color=c)\n",
    "ax.text(0.1, 0.9, \"(a)\", ha=\"center\", va=\"center\", transform=ax.transAxes)\n",
    "    \n",
    "ax = axs[1]\n",
    "for p, c in zip(selected_points, colors):\n",
    "    ax.plot(grids[\"N-XANES\"], X_test[p, 200:400], color=c)\n",
    "ax.text(0.1, 0.9, \"(b)\", ha=\"center\", va=\"center\", transform=ax.transAxes)\n",
    "\n",
    "ax = axs[2]\n",
    "for p, c in zip(selected_points, colors):\n",
    "    ax.plot(grids[\"O-XANES\"], X_test[p, 400:], color=c, label=p)\n",
    "ax.legend(frameon=False, loc=(1, 1))\n",
    "ax.text(0.1, 0.9, \"(c)\", ha=\"center\", va=\"center\", transform=ax.transAxes)\n",
    "    \n",
    "    \n",
    "for ax in axs:\n",
    "    ax.set_yticks([])\n",
    "    ax.spines[[\"right\", \"top\"]].set_visible(False)\n",
    "    ax.tick_params(\n",
    "        which='both', direction='in', bottom=True, left=True\n",
    "    )\n",
    "\n",
    "axs[1].set_ylabel(r\"$\\mu(E)$ [a.u.]\")\n",
    "axs[2].set_xlabel(r\"$E$ [e.V.]\")\n",
    "    \n",
    "plt.subplots_adjust(hspace=1)\n",
    "    \n",
    "plt.savefig(\"figures/example_spectra.svg\", dpi=300, bbox_inches=\"tight\")"
   ]
  },
  {
   "cell_type": "code",
   "execution_count": null,
   "id": "3cbf7536-22af-4d06-b82c-46622e0434ce",
   "metadata": {
    "tags": []
   },
   "outputs": [],
   "source": [
    "selected_points"
   ]
  },
  {
   "cell_type": "code",
   "execution_count": null,
   "id": "873cb374-f588-4e16-8cf6-43eb38547383",
   "metadata": {
    "tags": []
   },
   "outputs": [],
   "source": [
    "svgs = Chem.Draw.MolsToGridImage([Chem.MolFromSmiles(smiles_test[ii]) for ii in selected_points], useSVG=True)"
   ]
  },
  {
   "cell_type": "code",
   "execution_count": null,
   "id": "cb5a8d84-b753-493a-b670-9d8b866df455",
   "metadata": {
    "tags": []
   },
   "outputs": [],
   "source": [
    "svgs"
   ]
  },
  {
   "cell_type": "code",
   "execution_count": null,
   "id": "3eef4a1b-6681-4af8-84c0-410196ab176a",
   "metadata": {
    "tags": []
   },
   "outputs": [],
   "source": [
    "with open(\"figures/fig2_molecules.svg\", \"w\") as f:\n",
    "    f.write(svgs.data)"
   ]
  },
  {
   "cell_type": "markdown",
   "id": "aaa50639-59a6-4fc8-abe6-3d39232e2c45",
   "metadata": {},
   "source": [
    "Paper workflow figure"
   ]
  },
  {
   "cell_type": "code",
   "execution_count": null,
   "id": "d358c600-af57-4bef-89f5-7c8f38fecc05",
   "metadata": {
    "tags": []
   },
   "outputs": [],
   "source": [
    "fig, axs = plt.subplots(3, 1, figsize=(2, 3), sharey=True)\n",
    "\n",
    "ii = 3\n",
    "\n",
    "ax = axs[0]\n",
    "ax.plot(grids[\"C-XANES\"], X_test[selected_points[ii], :200], color=\"black\")\n",
    "\n",
    "ax = axs[1]\n",
    "ax.plot(grids[\"N-XANES\"], X_test[selected_points[ii], 200:400], color=\"blue\")\n",
    "\n",
    "ax = axs[2]\n",
    "ax.plot(grids[\"O-XANES\"], X_test[selected_points[ii], 400:], color=\"red\")\n",
    "\n",
    "\n",
    "plt.subplots_adjust(hspace=0.5)\n",
    "\n",
    "plt.savefig(\"figures/workflow_spectra.svg\", bbox_inches=\"tight\", dpi=300)"
   ]
  },
  {
   "cell_type": "code",
   "execution_count": null,
   "id": "7992fe04-2910-4345-a7b5-150a3a4baaa2",
   "metadata": {
    "tags": []
   },
   "outputs": [],
   "source": [
    "svgs = Chem.Draw.MolsToGridImage([Chem.MolFromSmiles(smiles_test[selected_points[3]])], useSVG=True)"
   ]
  },
  {
   "cell_type": "code",
   "execution_count": null,
   "id": "34f0fb80-7da6-4281-bc2f-0f6872a25c01",
   "metadata": {
    "tags": []
   },
   "outputs": [],
   "source": [
    "smiles_test[selected_points[3]]"
   ]
  },
  {
   "cell_type": "code",
   "execution_count": null,
   "id": "fb85b11c-716e-4ce0-ad12-04baf5ca0a4a",
   "metadata": {
    "tags": []
   },
   "outputs": [],
   "source": [
    "svgs"
   ]
  },
  {
   "cell_type": "code",
   "execution_count": null,
   "id": "49e3cfa7-dbca-4619-b45a-683e53ebab98",
   "metadata": {
    "tags": []
   },
   "outputs": [],
   "source": [
    "with open(\"figures/workflow_molecule.svg\", \"w\") as f:\n",
    "    f.write(svgs.data)"
   ]
  },
  {
   "cell_type": "code",
   "execution_count": null,
   "id": "460b45c7-5d00-4c0c-b362-6976c7803067",
   "metadata": {},
   "outputs": [],
   "source": []
  }
 ],
 "metadata": {
  "kernelspec": {
   "display_name": "Python 3 (ipykernel)",
   "language": "python",
   "name": "python3"
  },
  "language_info": {
   "codemirror_mode": {
    "name": "ipython",
    "version": 3
   },
   "file_extension": ".py",
   "mimetype": "text/x-python",
   "name": "python",
   "nbconvert_exporter": "python",
   "pygments_lexer": "ipython3",
   "version": "3.9.16"
  }
 },
 "nbformat": 4,
 "nbformat_minor": 5
}
