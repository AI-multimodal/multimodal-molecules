{
 "cells": [
  {
   "cell_type": "code",
   "execution_count": null,
   "id": "8e26ca90-97b6-4c51-854d-b4c6a025d6fd",
   "metadata": {},
   "outputs": [],
   "source": [
    "%load_ext autoreload\n",
    "%autoreload 2\n",
    "%config Completer.use_jedi = False"
   ]
  },
  {
   "cell_type": "code",
   "execution_count": null,
   "id": "2814923a-d592-4576-b6a3-4259cea54fa8",
   "metadata": {},
   "outputs": [],
   "source": [
    "from IPython.display import clear_output"
   ]
  },
  {
   "cell_type": "code",
   "execution_count": null,
   "id": "9ad631a0-0b4d-4731-bdb1-fe084d2657ca",
   "metadata": {
    "tags": []
   },
   "outputs": [],
   "source": [
    "import matplotlib.pyplot as plt\n",
    "import matplotlib as mpl\n",
    "mpl.rcParams['mathtext.fontset'] = 'stix'\n",
    "mpl.rcParams['font.family'] = 'STIXGeneral'\n",
    "mpl.rcParams['text.usetex'] = False\n",
    "plt.rc('xtick', labelsize=12)\n",
    "plt.rc('ytick', labelsize=12)\n",
    "plt.rc('axes', labelsize=12)\n",
    "mpl.rcParams['figure.dpi'] = 300"
   ]
  },
  {
   "cell_type": "code",
   "execution_count": null,
   "id": "cff7d1bc-77be-447c-9bf8-4aa519035a1f",
   "metadata": {
    "tags": []
   },
   "outputs": [],
   "source": [
    "# might need to install a few of these\n",
    "import pickle\n",
    "import re\n",
    "from pathlib import Path\n",
    "import numpy as np\n",
    "from rdkit import Chem\n",
    "import pubchempy as pcp\n",
    "import tqdm\n",
    "import json\n",
    "import pandas as pd\n",
    "from PyAstronomy.pyasl import broadGaussFast, equidistantInterpolation\n",
    "from scipy.signal import find_peaks\n",
    "from scipy.interpolate import InterpolatedUnivariateSpline\n",
    "from sklearn.decomposition import PCA"
   ]
  },
  {
   "cell_type": "markdown",
   "id": "1334500d-26bc-4075-b08c-f57f35ec69d0",
   "metadata": {},
   "source": [
    "Download the required package for postprocessing XAS."
   ]
  },
  {
   "cell_type": "code",
   "execution_count": null,
   "id": "e1ec9ec0-511d-4466-b5df-09f7b20115fc",
   "metadata": {},
   "outputs": [],
   "source": [
    "!curl -L -O https://github.com/matthewcarbone/NSLS-II-ISS-xview/archive/master.zip\n",
    "!unzip master.zip\n",
    "!rm master.zip\n",
    "clear_output()"
   ]
  },
  {
   "cell_type": "code",
   "execution_count": null,
   "id": "17acaa41-da48-4580-bfc8-3052dbdaea98",
   "metadata": {
    "tags": []
   },
   "outputs": [],
   "source": [
    "import sys\n",
    "sys.path.append(\"NSLS-II-ISS-xview-main\")\n",
    "from xview.xasproject.xasproject import XASDataSet"
   ]
  },
  {
   "cell_type": "markdown",
   "id": "4ce8787f-17ea-483b-86b1-1a14f0c4a453",
   "metadata": {},
   "source": [
    "Need this numpy encoder for serializing some of the data later on."
   ]
  },
  {
   "cell_type": "code",
   "execution_count": null,
   "id": "68922ecb-10f9-4fa7-9733-8a63404a89f9",
   "metadata": {},
   "outputs": [],
   "source": [
    "class NumpyEncoder(json.JSONEncoder):\n",
    "    def default(self, obj):\n",
    "        if isinstance(obj, np.ndarray):\n",
    "            return obj.tolist()\n",
    "        return json.JSONEncoder.default(self, obj)"
   ]
  },
  {
   "cell_type": "markdown",
   "id": "45a2665e-f02b-41dd-8889-d41cde43aef2",
   "metadata": {},
   "source": [
    "# Parse the data"
   ]
  },
  {
   "cell_type": "code",
   "execution_count": null,
   "id": "30035c34-79b7-4931-8116-1cb56f80a8d8",
   "metadata": {
    "tags": []
   },
   "outputs": [],
   "source": [
    "# Not super proud of this code but it does work\n",
    "def parse_file(fname):\n",
    "    \n",
    "    with open(fname, \"r\") as f:\n",
    "        lines = [xx.strip() for xx in f.readlines()]\n",
    "        \n",
    "    if len(lines) == 0:\n",
    "        return None, None\n",
    "\n",
    "    metadata = {\"total\": []}\n",
    "    data = []\n",
    "    for ii, line in enumerate(lines):\n",
    "        \n",
    "        if \"Edge\" in line:\n",
    "            if \"C \" not in line and \"N \" not in line and \"O \" not in line:\n",
    "                return None, None\n",
    "            if \"1s\" not in line:\n",
    "                return None, None\n",
    "            metadata[\"edge\"] = line.strip()\n",
    "    \n",
    "        if \"Name:\" in line:\n",
    "            metadata[\"name\"] = line.split(\"Name: \")[1].strip()\n",
    "            \n",
    "        if \"Alpha Formula:\" in line:\n",
    "            metadata[\"alpha formula\"] = line.split(\"Alpha Formula:\")[1].strip()\n",
    "            \n",
    "        if \"Formula:\" in line:\n",
    "            metadata[\"formula\"] = line.split(\"Formula:\")[1].strip()\n",
    "\n",
    "        if \"SMILES:\" in line:\n",
    "            metadata[\"SMILES\"] = line.split(\"SMILES:\")[1].strip()\n",
    "\n",
    "        if line == \"\":\n",
    "            ii += 1\n",
    "            break\n",
    "        if line[0] == \"*\":\n",
    "            metadata[\"total\"].append(line)\n",
    "            continue\n",
    "        break\n",
    "    \n",
    "    for jj in range(ii, len(lines)):\n",
    "        data.append(lines[jj])\n",
    "\n",
    "    if \"\\t\" in data[0]:\n",
    "        data = [[float(yy.strip()) for yy in xx.split(\"\\t\")] for xx in data]\n",
    "    else:\n",
    "        data = [[float(yy.replace(\",\", \"\").replace(\"\\t\", \" \")) for yy in xx.split(\" \") if yy != \"\"] for xx in data]\n",
    "\n",
    "    L = len(data[0])\n",
    "    new_data = []\n",
    "    for line in data:\n",
    "        if len(line) < L:\n",
    "            line = line + [np.nan] * (L - len(line))\n",
    "        new_data.append(line)\n",
    "    \n",
    "    \n",
    "    return np.array(new_data), metadata"
   ]
  },
  {
   "cell_type": "code",
   "execution_count": null,
   "id": "191ca948-3b76-4488-be1e-7f2ae46d571c",
   "metadata": {
    "tags": []
   },
   "outputs": [],
   "source": [
    "def parse_all_data(root=\"experiment/data\", require_smiles=False):\n",
    "    files = Path(root).glob(\"*.os\")\n",
    "    data = {}\n",
    "    metadata = {}\n",
    "    for file in files:\n",
    "        if \"ab-0nokk\" in file.stem:\n",
    "            continue\n",
    "        d, m = parse_file(file)\n",
    "        if d is None:\n",
    "            continue\n",
    "        if require_smiles and (m.get(\"SMILES\") in [None, \"null\"]):\n",
    "            continue\n",
    "            \n",
    "        data[file.stem] = d\n",
    "        metadata[file.stem] = m\n",
    "    return data, metadata"
   ]
  },
  {
   "cell_type": "code",
   "execution_count": null,
   "id": "bc53cf8e-8d03-49d9-ba56-c3716540d294",
   "metadata": {},
   "outputs": [],
   "source": [
    "def name_to_mod_name(name):\n",
    "    return re.sub(r\"([a-z])\\-([a-z])\", r\"\\1\\2\", name.lower().replace(\"- \", \"-\").replace(\" \", \"-\"), 0, re.IGNORECASE)"
   ]
  },
  {
   "cell_type": "code",
   "execution_count": null,
   "id": "6039a60d-5874-41a5-95d5-0440751d264c",
   "metadata": {},
   "outputs": [],
   "source": [
    "def formula_getter(formula):\n",
    "    if formula == \"\":\n",
    "        return []\n",
    "    try:\n",
    "        return pcp.get_compounds(formula, \"formula\")\n",
    "    except:  # God I hate myself for doing this\n",
    "        return []"
   ]
  },
  {
   "cell_type": "code",
   "execution_count": null,
   "id": "06b113e6-8464-49e2-9629-02056590279a",
   "metadata": {
    "tags": []
   },
   "outputs": [],
   "source": [
    "def get_recs(unique_x_to_compound, name):\n",
    "    cs = unique_x_to_compound.get(name)\n",
    "    if cs is None or len(cs) == 0:\n",
    "        return None\n",
    "    return cs[0].canonical_smiles"
   ]
  },
  {
   "cell_type": "code",
   "execution_count": null,
   "id": "6ad47a81-7765-4e76-8fa8-4718a3aacf9b",
   "metadata": {
    "tags": []
   },
   "outputs": [],
   "source": [
    "def insert_SMILES_to_file(path, write_to, smiles):\n",
    "    \n",
    "    assert path != write_to\n",
    "    \n",
    "    with open(path, \"r\") as f:\n",
    "        lines = f.readlines()\n",
    "    \n",
    "    replace_at = None\n",
    "    cc = 0\n",
    "    current_line = lines[cc]\n",
    "    \n",
    "    while \"*\" == current_line[0]:\n",
    "        # print(current_line.lower())\n",
    "        if \"alpha formula\" in current_line.lower():\n",
    "            replace_at = cc\n",
    "            break\n",
    "        cc += 1\n",
    "        current_line = lines[cc]\n",
    "        \n",
    "    if replace_at is None:\n",
    "        raise ValueError(f\"replace_at is None for some reason; check {path}\")\n",
    "    \n",
    "    lines.insert(cc + 1, f\"* SMILES: {smiles}\\n\")\n",
    "    \n",
    "    with open(write_to, \"w\") as f:\n",
    "        for l in lines:\n",
    "            f.write(l)"
   ]
  },
  {
   "cell_type": "code",
   "execution_count": null,
   "id": "06b2a16e-953b-40d6-9a0e-475496479eeb",
   "metadata": {
    "tags": []
   },
   "outputs": [],
   "source": [
    "def replace_SMILES_in_file(path, smiles):\n",
    "    write_to = path\n",
    "    \n",
    "    with open(path, \"r\") as f:\n",
    "        lines = f.readlines()\n",
    "    \n",
    "    replace_at = None\n",
    "    cc = 0\n",
    "    current_line = lines[cc]\n",
    "    \n",
    "    while \"*\" == current_line[0]:\n",
    "        # print(current_line.lower())\n",
    "        if \"SMILES:\" in current_line:\n",
    "            replace_at = cc\n",
    "            break\n",
    "        cc += 1\n",
    "        current_line = lines[cc]\n",
    "        \n",
    "    if replace_at is None:\n",
    "        raise ValueError(f\"replace_at is None for some reason; check {path}\")\n",
    "    \n",
    "    lines[cc] = f\"* SMILES: {smiles}\\n\"\n",
    "\n",
    "    with open(write_to, \"w\") as f:\n",
    "        for l in lines:\n",
    "            f.write(l)"
   ]
  },
  {
   "cell_type": "markdown",
   "id": "ffdad276-3b40-4780-9660-8d4d09c126f5",
   "metadata": {},
   "source": [
    "# Get information about the structures using pcp"
   ]
  },
  {
   "cell_type": "code",
   "execution_count": null,
   "id": "559cd95a-2165-444d-aaff-9a266239dadd",
   "metadata": {
    "tags": []
   },
   "outputs": [],
   "source": [
    "data, metadata = parse_all_data()"
   ]
  },
  {
   "cell_type": "code",
   "execution_count": null,
   "id": "b500e05f-9912-4718-8220-b79e180a995c",
   "metadata": {
    "tags": []
   },
   "outputs": [],
   "source": [
    "# unique_names = set([value[\"name\"] for value in metadata.values()])\n",
    "# unique_formulas = set([value[\"formula\"].strip() for value in metadata.values()])\n",
    "# unique_alpha_formulas = set([value[\"alpha formula\"].strip() for value in metadata.values()])"
   ]
  },
  {
   "cell_type": "code",
   "execution_count": null,
   "id": "ee2d8fe4-a401-46ca-9523-e08288758683",
   "metadata": {
    "tags": []
   },
   "outputs": [],
   "source": [
    "# Only need to run this once thank goodness\n",
    "# it definitely was not the most efficient way to do it but I'm not going to think about it right now!\n",
    "\n",
    "# Run this below:\n",
    "# unique_names_to_compounds = {key: pcp.get_compounds(name_to_mod_name(key), \"name\") for key in unique_names}\n",
    "# unique_formulas_to_compound = {formula: formula_getter(formula) for formula in unique_formulas}\n",
    "# unique_alpha_formulas_to_compound = {formula: formula_getter(formula) for formula in unique_alpha_formulas}\n",
    "# import pickle\n",
    "# pickle.dump(unique_names_to_compounds, open(\"unique_names_to_compounds.pkl\", \"wb\"), protocol=5)\n",
    "# pickle.dump(unique_formulas_to_compound, open(\"unique_formulas_to_compounds.pkl\", \"wb\"), protocol=5)\n",
    "# pickle.dump(unique_alpha_formulas_to_compound, open(\"unique_alpha_formulas_to_compounds.pkl\", \"wb\"), protocol=5)"
   ]
  },
  {
   "cell_type": "code",
   "execution_count": null,
   "id": "c44b455b-0947-4dee-877d-cc4d2373614b",
   "metadata": {
    "tags": []
   },
   "outputs": [],
   "source": [
    "unique_formulas_to_compound = pickle.load(open(\"experiment/unique_formulas_to_compounds.pkl\", \"rb\"))\n",
    "unique_names_to_compound = pickle.load(open(\"experiment/unique_names_to_compounds.pkl\", \"rb\"))\n",
    "unique_alpha_formulas_to_compound = pickle.load(open(\"experiment/unique_alpha_formulas_to_compounds.pkl\", \"rb\"))"
   ]
  },
  {
   "cell_type": "markdown",
   "id": "2289dcd3-779c-45c3-98ff-b8f1905db5e8",
   "metadata": {
    "jp-MarkdownHeadingCollapsed": true
   },
   "source": [
    "# Manually check all SMILES"
   ]
  },
  {
   "cell_type": "markdown",
   "id": "e01c665b-2d90-4084-9377-036c7b331ccf",
   "metadata": {},
   "source": [
    "Using a combination of [openmolecules.org](https://openmolecules.org/name2structure.html), Wikipedia, public chemistry databases such as pubchem (NIH), etc. "
   ]
  },
  {
   "cell_type": "code",
   "execution_count": null,
   "id": "e9424e5d-fb8e-40f2-8a47-f24f90bd4ed6",
   "metadata": {},
   "outputs": [],
   "source": [
    "data, metadata = parse_all_data()"
   ]
  },
  {
   "cell_type": "code",
   "execution_count": null,
   "id": "aee6a3bd-dd7c-4ec7-be46-154aeb6aad1f",
   "metadata": {
    "tags": []
   },
   "outputs": [],
   "source": [
    "keys = sorted(data.keys())"
   ]
  },
  {
   "cell_type": "code",
   "execution_count": null,
   "id": "b7ae07ce-97d0-405f-85ad-e398320ff9e0",
   "metadata": {
    "tags": []
   },
   "outputs": [],
   "source": [
    "cache = {}\n",
    "\n",
    "for ii, k in enumerate(keys):\n",
    "    d = data[k]\n",
    "    md = metadata[k]\n",
    "    \n",
    "    source = f\"experiment/data/{k}.os\"\n",
    "    target = f\"experiment/data_with_smiles/{k}.os\"\n",
    "    \n",
    "    name = md[\"name\"].strip()\n",
    "    form = md[\"formula\"].strip()\n",
    "    aform = md[\"alpha formula\"].strip()\n",
    "    print(f\"{ii+1:03}/{len(keys)}: {k} - {name} - {form} - {aform}\")\n",
    "    \n",
    "    if Path(target).exists():\n",
    "        print(f\"target file exists, continuing!\")\n",
    "        print(\"-\" * 20)\n",
    "        continue\n",
    "\n",
    "    smiles = cache.get(name)\n",
    "    if smiles is not None:\n",
    "        print(f\"{k} - SMILES: {smiles}\")\n",
    "        print(f\"SMILES from name {name} already computed ({smiles}), creating file automatically!\")\n",
    "        insert_SMILES_to_file(source, target, smiles)\n",
    "        print(\"-\" * 20)\n",
    "        continue\n",
    "    \n",
    "    smiles_names = get_recs(unique_names_to_compound, name)        \n",
    "    smiles_form = get_recs(unique_formulas_to_compound, form)\n",
    "    smiles_aform = get_recs(unique_alpha_formulas_to_compound, aform)\n",
    "    \n",
    "    if smiles_names == smiles_form == smiles_aform:\n",
    "        print(\"ALL GUESSES AGREE\")\n",
    "    else:\n",
    "        if smiles_names == smiles_form and smiles_names is not None:\n",
    "            print(\"name and formula agree\")\n",
    "        if smiles_names == smiles_aform and smiles_names is not None:\n",
    "            print(\"name and alpha agree\")\n",
    "        if smiles_form == smiles_aform and smiles_form is not None:\n",
    "            print(\"both formulas agree\")\n",
    "    \n",
    "    print(f\"GUESSES - {smiles_names} - {smiles_form} - {smiles_aform}\")\n",
    "    user_smiles = input(\"write correct smiles\")\n",
    "    \n",
    "    if user_smiles == smiles_names == smiles_form == smiles_aform:\n",
    "        print(\"USER PROVIDED AGREES WITH ALL GUESSES\")\n",
    "    else:\n",
    "        if user_smiles == smiles_names:\n",
    "            print(\"user provided and name->SMILES agree\")\n",
    "        if user_smiles == smiles_form:\n",
    "            print(\"user provided and formula->SMILES agree\")\n",
    "        if user_smiles == smiles_aform:\n",
    "            print(\"user provided and alpha->SMILES agree\")\n",
    "        \n",
    "        \n",
    "    \n",
    "    insert_SMILES_to_file(source, target, user_smiles)\n",
    "    cache[name] = user_smiles\n",
    "    print(f\"wrote {user_smiles} from {source} -> {target}\")\n",
    "    \n",
    "    print(\"-\" * 20)"
   ]
  },
  {
   "cell_type": "markdown",
   "id": "da54ab18-e529-4318-9651-99f48aa6b0c6",
   "metadata": {
    "jp-MarkdownHeadingCollapsed": true
   },
   "source": [
    "# Triple check"
   ]
  },
  {
   "cell_type": "markdown",
   "id": "ba023676-bfb4-45a6-9785-bbd60b90d3db",
   "metadata": {},
   "source": [
    "In the first pass, I labeled many of the datapoints as `null` for various reasons. I'm going to go back through now and modify those. Many times, I did this because the compounds appear to have heavy transition metals or the like. Some structures were validated against the [literature itself](https://amo-csd.lbl.gov/downloads/bib-inner-shell-by-hitchcock.pdf)."
   ]
  },
  {
   "cell_type": "code",
   "execution_count": null,
   "id": "8c3dbdd4-3408-445f-8aa2-c8ec6f3338ea",
   "metadata": {
    "tags": []
   },
   "outputs": [],
   "source": [
    "data, metadata = parse_all_data(\"experiment/data_with_smiles\")"
   ]
  },
  {
   "cell_type": "code",
   "execution_count": null,
   "id": "2e760381-0888-45a8-8002-455ad6682791",
   "metadata": {
    "tags": []
   },
   "outputs": [],
   "source": [
    "keys = sorted(data.keys())"
   ]
  },
  {
   "cell_type": "code",
   "execution_count": null,
   "id": "e7146f08-a8d8-4af1-a390-446580c41c60",
   "metadata": {
    "tags": []
   },
   "outputs": [],
   "source": [
    "cc = 0\n",
    "for md in metadata.values():\n",
    "    if md[\"SMILES\"] == \"null\":\n",
    "        cc+=1"
   ]
  },
  {
   "cell_type": "code",
   "execution_count": null,
   "id": "d826f600-031e-402a-ae92-5188dd63bfbd",
   "metadata": {
    "tags": []
   },
   "outputs": [],
   "source": [
    "print(f\"null: {cc/len(metadata)*100:.2f}%\")\n",
    "print(f\"So far, total usable data is {len(metadata)-cc}\")"
   ]
  },
  {
   "cell_type": "code",
   "execution_count": null,
   "id": "cad108d6-f4d0-47a3-b930-68f7e7128aab",
   "metadata": {
    "tags": []
   },
   "outputs": [],
   "source": [
    "cache = {}\n",
    "\n",
    "for ii, k in enumerate(keys):\n",
    "    md = metadata[k]\n",
    "    \n",
    "    name = md[\"name\"].strip()\n",
    "    form = md[\"formula\"].strip()\n",
    "    aform = md[\"alpha formula\"].strip()\n",
    "    \n",
    "    source = f\"experiment/data_with_smiles/{k}.os\"\n",
    "    \n",
    "    if md[\"SMILES\"] != \"null\":\n",
    "        continue\n",
    "\n",
    "    smiles = cache.get(name)\n",
    "    if smiles is not None:\n",
    "        print(f\"SMILES from name {name} already computed ({smiles}), modifying file automatically!\")\n",
    "        replace_SMILES_in_file(source, smiles)\n",
    "        continue\n",
    "\n",
    "    name = md[\"name\"].strip()\n",
    "    form = md[\"formula\"].strip()\n",
    "    aform = md[\"alpha formula\"].strip()\n",
    "    print(f\"{ii+1:03}/{len(keys)}: {k} - {name} - {form} - {aform}\")\n",
    "\n",
    "    smiles = input()\n",
    "    \n",
    "    replace_SMILES_in_file(source, smiles)\n",
    "    print(f\"wrote {smiles} from {source} -> {target}\")\n",
    "    \n",
    "    cache[name] = smiles"
   ]
  },
  {
   "cell_type": "markdown",
   "id": "8d6e75f2-fe02-4927-af03-5f2485137c18",
   "metadata": {},
   "source": [
    "# Load in the final dataset"
   ]
  },
  {
   "cell_type": "code",
   "execution_count": null,
   "id": "712e1da2-b407-4960-9a7b-f83f317af243",
   "metadata": {
    "tags": []
   },
   "outputs": [],
   "source": [
    "raw_data, metadata = parse_all_data(\"experiment/data_with_smiles\", require_smiles=True)"
   ]
  },
  {
   "cell_type": "code",
   "execution_count": null,
   "id": "93a55105-c99e-4db1-af91-84d57bca0588",
   "metadata": {},
   "outputs": [],
   "source": [
    "with open(\"experiment/data_with_smiles_unique_smiles.smi\", \"r\") as f:\n",
    "    unique_smiles = f.readlines()\n",
    "unique_smiles = [u.strip() for u in unique_smiles]"
   ]
  },
  {
   "cell_type": "markdown",
   "id": "e5cbba7c-137a-43a6-8355-b47f6a554fc7",
   "metadata": {},
   "source": [
    "Run this on the command line: `obabel -ismi data_with_smiles_unique_smiles.smi -ofpt -xfFP4 -xs > \"data_with_smiles_unique_smiles_functional_groups.txt\"`, and load in the data (this is largely just from script `00` in this repository)."
   ]
  },
  {
   "cell_type": "code",
   "execution_count": null,
   "id": "7427e416-109f-479c-90db-65705b68719f",
   "metadata": {
    "tags": []
   },
   "outputs": [],
   "source": [
    "with open(\"experiment/data_with_smiles_unique_smiles_functional_groups.txt\", \"r\") as f:\n",
    "    functional_groups = f.readlines()\n",
    "\n",
    "# Every other line is just a \">\"\n",
    "functional_groups = functional_groups[1::2]"
   ]
  },
  {
   "cell_type": "code",
   "execution_count": null,
   "id": "b5815249-bbc1-4364-8048-865cec024eaf",
   "metadata": {
    "tags": []
   },
   "outputs": [],
   "source": [
    "# Construct a dictionary from this\n",
    "functional_groups = {\n",
    "    smile: group.strip().split()\n",
    "    for smile, group in zip(unique_smiles, functional_groups)\n",
    "}"
   ]
  },
  {
   "cell_type": "markdown",
   "id": "319df398-517a-406e-919b-537a5b0a113d",
   "metadata": {},
   "source": [
    "Now lets find the unique functional groups."
   ]
  },
  {
   "cell_type": "code",
   "execution_count": null,
   "id": "90b99ec2-faa4-4b1b-b47a-f380c094446b",
   "metadata": {
    "tags": []
   },
   "outputs": [],
   "source": [
    "all_functional_groups_enumerated = [\n",
    "    g for groups in functional_groups.values() for g in groups\n",
    "]\n",
    "all_unique_functional_groups = sorted(\n",
    "    list(set(all_functional_groups_enumerated))\n",
    ")"
   ]
  },
  {
   "cell_type": "markdown",
   "id": "3d71d38b-23c2-4eec-adb5-d6f5d73a0ecb",
   "metadata": {},
   "source": [
    "Create the index. This will map SMILES to whether or not C, N or O is in the molecule, and the binary indicator of each functional group which is present in the molecule."
   ]
  },
  {
   "cell_type": "code",
   "execution_count": null,
   "id": "67a45ddd-4b22-4226-84f7-49c34cb7d015",
   "metadata": {
    "tags": []
   },
   "outputs": [],
   "source": [
    "index = {\n",
    "    \"SMILES\": [],\n",
    "    \"C\": [],\n",
    "    \"N\": [],\n",
    "    \"O\": [],\n",
    "}\n",
    "index = {**index, **{fg: [] for fg in all_unique_functional_groups}}"
   ]
  },
  {
   "cell_type": "code",
   "execution_count": null,
   "id": "88f99706-48c3-4cb6-84fc-bf0a3ef83b9e",
   "metadata": {
    "tags": []
   },
   "outputs": [],
   "source": [
    "for smile in unique_smiles:\n",
    "    \n",
    "    index[\"SMILES\"].append(smile)\n",
    "\n",
    "    for key in [\"C\", \"N\", \"O\"]:\n",
    "        index[key].append(int(key.lower() in smile.lower()))\n",
    "\n",
    "    for fg in all_unique_functional_groups:\n",
    "        index[fg].append(int(fg in functional_groups[smile]))"
   ]
  },
  {
   "cell_type": "code",
   "execution_count": null,
   "id": "8c8131cf-354c-4756-9029-663c44c7bdd0",
   "metadata": {
    "tags": []
   },
   "outputs": [],
   "source": [
    "index = pd.DataFrame(index)"
   ]
  },
  {
   "cell_type": "code",
   "execution_count": null,
   "id": "619d4761-39e5-4ef5-836b-53bebc7f1bae",
   "metadata": {},
   "outputs": [],
   "source": [
    "# index.to_csv(\"experiment/index.txt\")"
   ]
  },
  {
   "cell_type": "markdown",
   "id": "afc215bc-28a7-44d5-851b-43cb0ee70015",
   "metadata": {},
   "source": [
    "The targets are the indicator of whether or not a functional group of that type exists on the molecule. This maps the SMILES of the molecule to the functional groups."
   ]
  },
  {
   "cell_type": "code",
   "execution_count": null,
   "id": "6d70a3de-7bf5-4985-9fec-01bf76930e1c",
   "metadata": {
    "tags": []
   },
   "outputs": [],
   "source": [
    "targets = {row[\"SMILES\"]: list(row.to_numpy()[4:]) for _, row in index.iterrows()}"
   ]
  },
  {
   "cell_type": "markdown",
   "id": "8f93cabb-a665-438f-b623-e0e9fa595cc6",
   "metadata": {},
   "source": [
    "# Define helper function for processing loop"
   ]
  },
  {
   "cell_type": "code",
   "execution_count": null,
   "id": "89133793-d968-47c5-9c7c-d228b40ffbca",
   "metadata": {},
   "outputs": [],
   "source": [
    "def fill_I(I2, I1, alpha=0.5):\n",
    "    return 2.0 * I2 - I1 + alpha * (1.0 - I2)"
   ]
  },
  {
   "cell_type": "code",
   "execution_count": null,
   "id": "5f2dc481-2a17-4eb0-a6b5-b5b3318e4018",
   "metadata": {},
   "outputs": [],
   "source": [
    "def process(\n",
    "    grid=None,\n",
    "    element=\"C\",\n",
    "    a_norm1=50,\n",
    "    a_norm2=600,\n",
    "    debug=None,\n",
    "    max_mu=25,\n",
    "    max_mu_after_processing=5,\n",
    "    max_energy=400,\n",
    "    metadata=metadata,\n",
    "    index=index,\n",
    "    raw_data=raw_data,\n",
    "    feff_edge_location=277.713567839196,\n",
    "    alpha=0.05,\n",
    "):\n",
    "\n",
    "    # Grid is the empirical guess from experiment\n",
    "    # By default, we use the FEFF grid as a guess\n",
    "\n",
    "    feff_grid = np.loadtxt(f\"data/{element.lower()}_grid.txt\")\n",
    "\n",
    "    if grid is None:\n",
    "        grid = feff_grid.copy()\n",
    "\n",
    "    data = {\n",
    "        \"data\": {},\n",
    "        \"grid\": grid,\n",
    "        \"feff_grid\": feff_grid,\n",
    "        \"errors\": {},\n",
    "        \"xview.xasproject_params\": {\n",
    "            \"a_norm1\": a_norm1,\n",
    "            \"a_norm2\": a_norm2,\n",
    "        }\n",
    "    }\n",
    "\n",
    "    targets = {row[\"SMILES\"]: list(row.to_numpy()[4:]) for _, row in index.iterrows()}\n",
    "\n",
    "    cc = 0\n",
    "    for key, value in tqdm.tqdm(metadata.items()):\n",
    "    \n",
    "        if f\" {element} \" not in value[\"edge\"]:\n",
    "            continue\n",
    "    \n",
    "        d = raw_data[key]\n",
    "        smiles = value[\"SMILES\"]\n",
    "        target = targets[smiles]\n",
    "        \n",
    "        try:\n",
    "            a=XASDataSet(energy=d[:, 0], mu=d[:, 1])\n",
    "            a.norm1=a_norm1\n",
    "            a.norm2=a_norm2\n",
    "            \n",
    "            a.normalize_force()\n",
    "            # a.normalize()\n",
    "    \n",
    "        except ValueError:\n",
    "            data[\"errors\"][key] = \"XASDataSet\"\n",
    "            continue\n",
    "    \n",
    "        mu = np.round(a.flat.squeeze(), 6)\n",
    "        energy = np.round(a.energy.squeeze(), 6)\n",
    "        \n",
    "        energy, mu = equidistantInterpolation(energy, mu, dxmode=0.19)\n",
    "        \n",
    "        mu = broadGaussFast(energy, mu, sigma=0.5, edgeHandling=\"firstlast\")\n",
    "        \n",
    "        if np.any(mu > max_mu):\n",
    "            data[\"errors\"][key] = f\"Intensity>{max_mu}\"\n",
    "            continue\n",
    "\n",
    "        if np.any(energy > max_energy):\n",
    "            data[\"errors\"][key] = f\"Energy>{max_energy}\"\n",
    "            continue\n",
    "    \n",
    "        spline = InterpolatedUnivariateSpline(energy.squeeze(), mu.squeeze(), k=1, ext=1)\n",
    "        mu2 = spline(grid).squeeze()\n",
    "    \n",
    "        ii = len(mu2) - 1\n",
    "        while mu2[ii] == 0:\n",
    "            mu2[ii] = np.nan\n",
    "            ii -= 1\n",
    "        \n",
    "        # peaks = find_peaks(mu, height=0.5)\n",
    "        # first_peak_index = peaks[0][0]\n",
    "        # first_peak_energy = energy[first_peak_index]\n",
    "        # energy -= first_peak_energy\n",
    "        \n",
    "        data[\"data\"][key] = {\n",
    "            \"spectrum\": mu2,\n",
    "            \"original_spectrum\": mu,\n",
    "            \"original_energy\": energy,\n",
    "            \"smiles\": smiles,\n",
    "            \"target\": target,\n",
    "        }\n",
    "        \n",
    "    \n",
    "        if debug is not None and cc > debug:\n",
    "            break\n",
    "    \n",
    "        cc += 1\n",
    "\n",
    "    for key, value in tqdm.tqdm(data[\"data\"].items()):\n",
    "    \n",
    "        spectrum = value[\"spectrum\"]\n",
    "        for ii, (e, s) in enumerate(zip(grid, spectrum)):\n",
    "            if s > 1:\n",
    "                break\n",
    "    \n",
    "        # Magic number here is from the average FEFF spectrum where it crosses 1 the first time\n",
    "        value[\"shifted_grid\"] = grid - grid[ii] + feff_edge_location\n",
    "        if np.any(value[\"shifted_grid\"] < -50):\n",
    "            data[\"errors\"][key] = \"ShiftError\"\n",
    "    \n",
    "        infilled_spectrum = spectrum.copy()\n",
    "        for ii in range(2, len(infilled_spectrum)):\n",
    "            if np.isnan(infilled_spectrum[ii]):\n",
    "                infilled_spectrum[ii] = fill_I(infilled_spectrum[ii - 1], infilled_spectrum[ii - 2], alpha=alpha)\n",
    "    \n",
    "        spline = InterpolatedUnivariateSpline(value[\"shifted_grid\"].squeeze(), infilled_spectrum.squeeze(), k=1, ext=3)  # ValueError here\n",
    "        mu2 = spline(feff_grid).squeeze()\n",
    "\n",
    "        # Check for any remaining background\n",
    "        p = np.polyfit(feff_grid[-5:], mu2[-5:], deg=1)\n",
    "        # print(p)\n",
    "        slope = p[0]\n",
    "        yint = p[1]\n",
    "        line = feff_grid * p[0] + p[1]\n",
    "        mu2 = mu2 / line\n",
    "\n",
    "        if np.sum(mu2 < 0) > 50 or np.any(mu2[:5] > 0.5) or np.any(mu2 > max_mu_after_processing):\n",
    "            data[\"errors\"][key] = \"IntensityMagnitudeError\"\n",
    "\n",
    "        \n",
    "        # Align tail to 1\n",
    "        # tail_value = mu2[-20:]\n",
    "        # mu2 = mu2 / tail_value.mean()\n",
    "        \n",
    "        value[\"infilled_spectrum\"] = mu2\n",
    "\n",
    "    return data"
   ]
  },
  {
   "cell_type": "markdown",
   "id": "66b6fae4-ad98-4ca4-b7f5-3f2daf05d8a5",
   "metadata": {},
   "source": [
    "# Carbon K-edge"
   ]
  },
  {
   "cell_type": "code",
   "execution_count": null,
   "id": "8b9fc5b3-6191-4320-8046-d131040e4dc5",
   "metadata": {},
   "outputs": [],
   "source": [
    "data_C = process(\n",
    "    grid=np.linspace(280, 340, 200),\n",
    "    element=\"C\",\n",
    "    # debug=20,\n",
    "    a_norm1=60,\n",
    "    a_norm2=100,\n",
    "    max_mu=25,\n",
    "    max_mu_after_processing=5,\n",
    "    max_energy=400,\n",
    "    feff_edge_location=277.71\n",
    ")"
   ]
  },
  {
   "cell_type": "markdown",
   "id": "a8c34c4b-b2e3-4728-a689-6308cd5a2112",
   "metadata": {},
   "source": [
    "Special postprocessing for C since I cannot seem to get the parameters just right."
   ]
  },
  {
   "cell_type": "code",
   "execution_count": null,
   "id": "0cd22bd8-fe8e-4488-9645-6f4de8c4cdfa",
   "metadata": {},
   "outputs": [],
   "source": [
    "for key, value in data_C[\"data\"].items():\n",
    "    if key in data_C[\"errors\"]:\n",
    "        continue\n",
    "    spectrum = value[\"infilled_spectrum\"]\n",
    "    if np.any(spectrum[50:]<0.75):\n",
    "        data_C[\"errors\"][key] = \"IntensityMagnitudeError\"\n",
    "    if np.any(spectrum[-50:]>1.05):\n",
    "        data_C[\"errors\"][key] = \"IntensityMagnitudeError\""
   ]
  },
  {
   "cell_type": "code",
   "execution_count": null,
   "id": "137e16da-a1e8-4b5c-9d91-9eec203b46e4",
   "metadata": {},
   "outputs": [],
   "source": [
    "with open(\"experiment/c_exp.json\", \"w\") as f:\n",
    "    json.dump(data_C, f, cls=NumpyEncoder)"
   ]
  },
  {
   "cell_type": "code",
   "execution_count": null,
   "id": "6aaee91d-476d-464a-a1d5-3553a5b95335",
   "metadata": {
    "tags": []
   },
   "outputs": [],
   "source": [
    "fig, ax = plt.subplots(1, 1, figsize=(3, 2))\n",
    "\n",
    "for key, value in data_C[\"data\"].items():\n",
    "    if key in data_C[\"errors\"]:\n",
    "        continue\n",
    "    spectrum = value[\"infilled_spectrum\"]\n",
    "    if np.any(spectrum[50:]<0.75):\n",
    "        continue\n",
    "    if np.any(spectrum[-50:]>1.05):\n",
    "        continue\n",
    "    grid = data_C[\"feff_grid\"]\n",
    "    \n",
    "    ax.plot(grid, spectrum, alpha=1, linewidth=0.5, label=value[\"smiles\"])\n",
    "    # ax.plot(value[\"original_energy\"], value[\"original_spectrum\"], color=\"black\", alpha=0.5, linewidth=0.5)\n",
    "\n",
    "# ax.set_xlim(280, 330)\n",
    "# ax.set_ylim(0, 2)\n",
    "ax.axhline(1, zorder=-1, linewidth=0.5, linestyle=\"--\", color=\"black\")\n",
    "# ax.legend(bbox_to_anchor=(1, 1.05))\n",
    "    \n",
    "plt.show()"
   ]
  },
  {
   "cell_type": "markdown",
   "id": "413d51b4-ffeb-414c-ab72-79f1afe72ab9",
   "metadata": {},
   "source": [
    "# Nitrogen K-edge"
   ]
  },
  {
   "cell_type": "code",
   "execution_count": null,
   "id": "8e5c440f-31c5-492e-acd8-560a25205a7c",
   "metadata": {},
   "outputs": [],
   "source": [
    "data_N = process(\n",
    "    grid=np.linspace(380, 430, 200),\n",
    "    element=\"N\",\n",
    "    # debug=20,\n",
    "    a_norm1=50,\n",
    "    a_norm2=100,\n",
    "    max_mu=10,\n",
    "    max_energy=500,\n",
    "    feff_edge_location=399.34,\n",
    "    alpha=5\n",
    ")"
   ]
  },
  {
   "cell_type": "code",
   "execution_count": null,
   "id": "c1231aeb-9e71-4228-81ea-dba8c412f60e",
   "metadata": {},
   "outputs": [],
   "source": [
    "with open(\"experiment/n_exp.json\", \"w\") as f:\n",
    "    json.dump(data_N, f, cls=NumpyEncoder)"
   ]
  },
  {
   "cell_type": "code",
   "execution_count": null,
   "id": "041be31a-46d1-4c57-bf32-2a4ea8cbd61d",
   "metadata": {
    "tags": []
   },
   "outputs": [],
   "source": [
    "fig, ax = plt.subplots(1, 1, figsize=(3, 2))\n",
    "\n",
    "for key, value in data_N[\"data\"].items():\n",
    "    if key in data_N[\"errors\"]:\n",
    "        continue\n",
    "    spectrum = value[\"original_spectrum\"]\n",
    "    grid = data_N[\"feff_grid\"]\n",
    "    ax.plot(grid, spectrum, alpha=1, linewidth=0.5, label=value[\"smiles\"])\n",
    "    # ax.plot(value[\"original_energy\"], value[\"original_spectrum\"], color=\"black\", alpha=0.5, linewidth=0.5)\n",
    "\n",
    "# ax.set_xlim(280, 330)\n",
    "# ax.set_ylim(0, 2)\n",
    "ax.axhline(1, zorder=-1, linewidth=0.5, linestyle=\"--\", color=\"black\")\n",
    "# ax.legend(bbox_to_anchor=(1, 1.05))\n",
    "    \n",
    "plt.show()"
   ]
  },
  {
   "cell_type": "markdown",
   "id": "53d6e133-0303-461b-9e1c-ee2a642b3b36",
   "metadata": {},
   "source": [
    "# Oxygen K-edge"
   ]
  },
  {
   "cell_type": "code",
   "execution_count": null,
   "id": "fd7ad521-2be5-43fb-9614-15897289bdc9",
   "metadata": {},
   "outputs": [],
   "source": [
    "data_O = process(\n",
    "    grid=np.linspace(440, 580, 200),\n",
    "    element=\"O\",\n",
    "    # debug=20,\n",
    "    a_norm1=50,\n",
    "    a_norm2=100,\n",
    "    max_mu=10,\n",
    "    max_energy=700,\n",
    "    feff_edge_location=530.17,\n",
    "    alpha=0.2\n",
    ")"
   ]
  },
  {
   "cell_type": "code",
   "execution_count": null,
   "id": "aa147d51-43d9-48f7-84dd-122eb8414c19",
   "metadata": {},
   "outputs": [],
   "source": [
    "with open(\"experiment/o_exp.json\", \"w\") as f:\n",
    "    json.dump(data_O, f, cls=NumpyEncoder)"
   ]
  },
  {
   "cell_type": "code",
   "execution_count": null,
   "id": "531edfd3-0b10-4414-ae6a-4617623e8500",
   "metadata": {
    "tags": []
   },
   "outputs": [],
   "source": [
    "fig, ax = plt.subplots(1, 1, figsize=(3, 2))\n",
    "\n",
    "for key, value in data_O[\"data\"].items():\n",
    "    if key in data_O[\"errors\"]:\n",
    "        continue\n",
    "    spectrum = value[\"infilled_spectrum\"]\n",
    "    grid = data_O[\"feff_grid\"]\n",
    "    # grid = value[\"original_energy\"]\n",
    "    ax.plot(grid, spectrum, alpha=1, linewidth=0.5, label=value[\"smiles\"])\n",
    "    # ax.plot(value[\"original_energy\"], value[\"original_spectrum\"], color=\"black\", alpha=0.5, linewidth=0.5)\n",
    "\n",
    "# ax.set_xlim(280, 330)\n",
    "# ax.set_ylim(0, 2)\n",
    "ax.axhline(1, zorder=-1, linewidth=0.5, linestyle=\"--\", color=\"black\")\n",
    "# ax.legend(bbox_to_anchor=(1, 1.05))\n",
    "    \n",
    "plt.show()"
   ]
  },
  {
   "cell_type": "code",
   "execution_count": null,
   "id": "70164290-203c-45c2-b3ea-7176181e0b2f",
   "metadata": {},
   "outputs": [],
   "source": []
  },
  {
   "cell_type": "code",
   "execution_count": null,
   "id": "83c14206-f102-4c49-86ed-29c5174c3b9b",
   "metadata": {},
   "outputs": [],
   "source": []
  },
  {
   "cell_type": "code",
   "execution_count": null,
   "id": "976d6319-124c-47e5-b3f0-9e4e0b6c7f84",
   "metadata": {},
   "outputs": [],
   "source": []
  }
 ],
 "metadata": {
  "kernelspec": {
   "display_name": "Python 3 (ipykernel)",
   "language": "python",
   "name": "python3"
  },
  "language_info": {
   "codemirror_mode": {
    "name": "ipython",
    "version": 3
   },
   "file_extension": ".py",
   "mimetype": "text/x-python",
   "name": "python",
   "nbconvert_exporter": "python",
   "pygments_lexer": "ipython3",
   "version": "3.11.6"
  }
 },
 "nbformat": 4,
 "nbformat_minor": 5
}
