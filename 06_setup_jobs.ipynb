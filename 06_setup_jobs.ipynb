{
 "cells": [
  {
   "cell_type": "code",
   "execution_count": null,
   "id": "8e26ca90-97b6-4c51-854d-b4c6a025d6fd",
   "metadata": {},
   "outputs": [],
   "source": [
    "%load_ext autoreload\n",
    "%autoreload 2\n",
    "%config Completer.use_jedi = False"
   ]
  },
  {
   "cell_type": "markdown",
   "id": "977d0c5b-878c-4862-8495-5c3b7c53fcd0",
   "metadata": {},
   "source": [
    "Helper functions and imports"
   ]
  },
  {
   "cell_type": "code",
   "execution_count": null,
   "id": "ea1f4d99-52e1-41ec-9c02-0285ea7ebe87",
   "metadata": {},
   "outputs": [],
   "source": [
    "from copy import deepcopy\n",
    "from datetime import datetime\n",
    "import json\n",
    "from pathlib import Path\n",
    "\n",
    "from shutil import copy as shutil_copy"
   ]
  },
  {
   "cell_type": "code",
   "execution_count": null,
   "id": "91693c90-9b17-4c3d-9f03-4c269fd398d0",
   "metadata": {
    "tags": []
   },
   "outputs": [],
   "source": [
    "def write_jobs(jobs):\n",
    "    now = datetime.now().strftime(\"%y_%m_%d_%H_%M_%S_jobs\")\n",
    "    target_directory = Path(\"jobs\") / now\n",
    "    print(f\"Writing jobs to {target_directory}\")\n",
    "    target_directory.mkdir(exist_ok=False, parents=True)\n",
    "    for ii, job in enumerate(jobs):\n",
    "        path = target_directory / f\"{ii:03}\"\n",
    "        path.mkdir(exist_ok=False, parents=False)\n",
    "        with open(path / \"config.json\", 'w') as f:\n",
    "            json.dump(job, f, indent=4, sort_keys=True)\n",
    "        shutil_copy(\"run.py\", path / \"run.py\")\n",
    "        shutil_copy(\"submit.sbatch\", path / \"submit.sbatch\")"
   ]
  },
  {
   "cell_type": "markdown",
   "id": "d95c544c-4d4e-410d-9757-769dd98b6c64",
   "metadata": {},
   "source": [
    "# First pass"
   ]
  },
  {
   "cell_type": "markdown",
   "id": "5a5fc5e7-59a5-447d-8767-c13562bfb391",
   "metadata": {},
   "source": [
    "We'll just mess around with `Secondary_alcohol` for a bit to start."
   ]
  },
  {
   "cell_type": "markdown",
   "id": "8714d5ba-4b34-413c-b1bf-5046f275c6ea",
   "metadata": {},
   "source": [
    "`Results` keyword args"
   ]
  },
  {
   "cell_type": "code",
   "execution_count": null,
   "id": "7b5c1de5-d0c2-4fa9-a1d5-e1f0e317969d",
   "metadata": {
    "tags": []
   },
   "outputs": [],
   "source": [
    "# These go in `rf_kwargs` ###################\n",
    "ccp_alpha_values = [1e-3, 1e-4, 1e-5, 1e-6, 1e-7]\n",
    "max_features_values = [0.3, 0.4, 0.5, 0.6, 0.7]\n",
    "#############################################\n",
    "\n",
    "d = {\n",
    "    \"module_path\": \"/sdcc/u/mcarbone/Github/multimodal-molecules\",\n",
    "    # \"module_path\": \"/Users/mc/GitHub/AIMM/multimodal-molecules\",\n",
    "    \"results_kwargs\": {\n",
    "        \"conditions\": \"C-XANES,O-XANES\",\n",
    "        \"xanes_data_name\": \"/hpcgpfs01/work/cfn/mcarbone/multimodal_molecules_data/data/221205/221205_xanes.pkl\",\n",
    "        \"index_data_name\": \"/hpcgpfs01/work/cfn/mcarbone/multimodal_molecules_data/data/221205/221205_index.csv\",\n",
    "        # \"xanes_data_name\": \"/Users/mc/GitHub/AIMM/multimodal-molecules/data/221205/221205_xanes.pkl\",\n",
    "        # \"index_data_name\": \"/Users/mc/GitHub/AIMM/multimodal-molecules/data/221205/221205_index.csv\",\n",
    "        \"specific_functional_groups\": [\"Secondary_alcohol\"],\n",
    "        \"val_size\": 0.1,\n",
    "        \"test_size\": 0.1,\n",
    "        \"rf_kwargs\": {\"max_samples\": 0.9},\n",
    "        \"random_state\": 1234,\n",
    "    }\n",
    "}\n"
   ]
  },
  {
   "cell_type": "markdown",
   "id": "ae89f3df-9156-43a1-b280-a66352c9a5d4",
   "metadata": {},
   "source": [
    "`Results.run_experiment` keyword args"
   ]
  },
  {
   "cell_type": "code",
   "execution_count": null,
   "id": "f1375fe7-e098-4cc6-9986-b4e6bb58d8ce",
   "metadata": {
    "tags": []
   },
   "outputs": [],
   "source": [
    "# Output data directory is relative to the location where the script is run,\n",
    "# which will be unique\n",
    "d[\"run_experiments_kwargs\"] = {\n",
    "    \"output_data_directory\": \"results\",\n",
    "    \"n_jobs\": 12,\n",
    "    \"compute_feature_importance\": False,\n",
    "}"
   ]
  },
  {
   "cell_type": "code",
   "execution_count": null,
   "id": "da979030-f7bf-4299-a2f6-491db19fcd65",
   "metadata": {
    "tags": []
   },
   "outputs": [],
   "source": [
    "jobs = []\n",
    "for ccp_alpha in ccp_alpha_values:\n",
    "    for max_features in max_features_values:\n",
    "        d2 = deepcopy(d)\n",
    "        d2[\"results_kwargs\"][\"rf_kwargs\"][\"ccp_alpha\"] = ccp_alpha\n",
    "        d2[\"results_kwargs\"][\"rf_kwargs\"][\"max_features\"] = max_features\n",
    "        jobs.append(d2)"
   ]
  },
  {
   "cell_type": "code",
   "execution_count": null,
   "id": "37434b75-fc49-4dce-ae10-dfefe17d4e19",
   "metadata": {
    "tags": []
   },
   "outputs": [],
   "source": [
    "write_jobs(jobs)"
   ]
  },
  {
   "cell_type": "code",
   "execution_count": null,
   "id": "13f98df9-4d3a-48b2-9f83-65e244831eba",
   "metadata": {},
   "outputs": [],
   "source": []
  }
 ],
 "metadata": {
  "kernelspec": {
   "display_name": "Python 3 (ipykernel)",
   "language": "python",
   "name": "python3"
  },
  "language_info": {
   "codemirror_mode": {
    "name": "ipython",
    "version": 3
   },
   "file_extension": ".py",
   "mimetype": "text/x-python",
   "name": "python",
   "nbconvert_exporter": "python",
   "pygments_lexer": "ipython3",
   "version": "3.9.16"
  }
 },
 "nbformat": 4,
 "nbformat_minor": 5
}
