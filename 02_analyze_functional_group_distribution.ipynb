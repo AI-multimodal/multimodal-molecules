{
 "cells": [
  {
   "cell_type": "code",
   "execution_count": 1,
   "id": "8e26ca90-97b6-4c51-854d-b4c6a025d6fd",
   "metadata": {},
   "outputs": [],
   "source": [
    "%load_ext autoreload\n",
    "%autoreload 2\n",
    "%config Completer.use_jedi = False"
   ]
  },
  {
   "cell_type": "markdown",
   "id": "977d0c5b-878c-4862-8495-5c3b7c53fcd0",
   "metadata": {},
   "source": [
    "Helper functions and imports"
   ]
  },
  {
   "cell_type": "code",
   "execution_count": 2,
   "id": "ea1f4d99-52e1-41ec-9c02-0285ea7ebe87",
   "metadata": {},
   "outputs": [],
   "source": [
    "from collections import Counter\n",
    "\n",
    "import json\n",
    "import matplotlib.pyplot as plt\n",
    "import matplotlib as mpl\n",
    "import numpy as np\n",
    "import pandas as pd\n",
    "import pickle\n",
    "from tqdm import tqdm\n",
    "\n",
    "from sklearn.decomposition import PCA\n",
    "from sklearn.preprocessing import StandardScaler"
   ]
  },
  {
   "cell_type": "code",
   "execution_count": 3,
   "id": "52afd7dc-e1ab-4770-8a65-dd295c50cac7",
   "metadata": {},
   "outputs": [],
   "source": [
    "from multimodal_molecules.data import get_dataset"
   ]
  },
  {
   "cell_type": "code",
   "execution_count": 4,
   "id": "8952ded0-cb72-467a-9035-cd2729481e9a",
   "metadata": {},
   "outputs": [],
   "source": [
    "labelsize = 12\n",
    "plt.rcParams[\"figure.figsize\"] = (3, 2)\n",
    "mpl.rcParams['mathtext.fontset'] = 'stix'\n",
    "mpl.rcParams['font.family'] = 'STIXGeneral'\n",
    "mpl.rcParams['text.usetex'] = True\n",
    "plt.rc('xtick', labelsize=labelsize)\n",
    "plt.rc('ytick', labelsize=labelsize)\n",
    "plt.rc('axes', labelsize=labelsize)\n",
    "mpl.rcParams['figure.dpi'] = 250"
   ]
  },
  {
   "cell_type": "code",
   "execution_count": 6,
   "id": "8e671bf0-8fff-4c63-842c-fc6421484076",
   "metadata": {},
   "outputs": [],
   "source": [
    "with open(path, 'r') as infile:\n",
    "    functional_groups = json.load(infile)"
   ]
  },
  {
   "cell_type": "markdown",
   "id": "16bfd47f-e288-4b3d-b300-c18cc5fc3008",
   "metadata": {},
   "source": [
    "Join everything together into one massive counter. Interpretation fo the functional group labels can be found [here](https://github.com/openbabel/openbabel/blob/master/data/SMARTS_InteLigand.txt)."
   ]
  },
  {
   "cell_type": "code",
   "execution_count": 7,
   "id": "7249627c-6ad0-41ff-a63a-62e045f285ec",
   "metadata": {},
   "outputs": [],
   "source": [
    "all_functional_groups_enumerated = [g for groups in functional_groups.values() for g in groups]"
   ]
  },
  {
   "cell_type": "code",
   "execution_count": 8,
   "id": "2ec1075f-54cf-4e3f-83cf-e6afa1388232",
   "metadata": {},
   "outputs": [],
   "source": [
    "counter = Counter(all_functional_groups_enumerated)"
   ]
  },
  {
   "cell_type": "markdown",
   "id": "a77a971e-9927-48f5-9724-94e3eeed6612",
   "metadata": {},
   "source": [
    "We keep only a subset of the total functional groups according to certain heuristics:\n",
    "- Must have at least 2000 occurrences in the data\n",
    "- Pop `Acetal` in favor of the more general `Acetal_like`"
   ]
  },
  {
   "cell_type": "code",
   "execution_count": 9,
   "id": "bd5b45bb-8a35-4380-a64f-f847a3b39510",
   "metadata": {},
   "outputs": [
    {
     "name": "stdout",
     "output_type": "stream",
     "text": [
      "62\n"
     ]
    }
   ],
   "source": [
    "counter = {key: value for key, value in dict(counter).items() if value >= 2000}\n",
    "counter.pop(\"Acetal\")\n",
    "print(len(counter))"
   ]
  },
  {
   "cell_type": "code",
   "execution_count": 44,
   "id": "998c105d-643e-48cb-b6e7-67e6f197fbc4",
   "metadata": {},
   "outputs": [
    {
     "data": {
      "text/plain": [
       "{'c', 'o'}"
      ]
     },
     "execution_count": 44,
     "metadata": {},
     "output_type": "execute_result"
    }
   ],
   "source": [
    "set(\"co\") - set(\"n\")"
   ]
  },
  {
   "cell_type": "code",
   "execution_count": 59,
   "id": "733863c2-c64b-40ad-ac7c-8fa5740adce7",
   "metadata": {},
   "outputs": [],
   "source": [
    "must_not_have = set(\"n\")\n",
    "smiles = set(\"cccc\")"
   ]
  },
  {
   "cell_type": "code",
   "execution_count": 61,
   "id": "fb70accf-2d9d-46a3-901e-dbbc7d636c82",
   "metadata": {},
   "outputs": [
    {
     "data": {
      "text/plain": [
       "False"
      ]
     },
     "execution_count": 61,
     "metadata": {},
     "output_type": "execute_result"
    }
   ],
   "source": [
    "must_not_have - smiles != must_not_have"
   ]
  },
  {
   "cell_type": "markdown",
   "id": "af6dd7ba-6c53-483e-83c1-6da5942e9b89",
   "metadata": {},
   "source": [
    "Plot where things light up after PCA-decomposing the spectra."
   ]
  },
  {
   "cell_type": "code",
   "execution_count": 21,
   "id": "c65c062d-5582-4354-bc9f-9d15f90a579b",
   "metadata": {},
   "outputs": [],
   "source": [
    "data = pickle.load(open(\"data/221205/qm9_molecule_xanes.pkl\", \"rb\"))"
   ]
  },
  {
   "cell_type": "code",
   "execution_count": 30,
   "id": "09ac70b7-874d-4fd3-9d97-2db590c01da7",
   "metadata": {},
   "outputs": [],
   "source": [
    "data2 = get_dataset(\n",
    "    spectral_data_path=\"data/221205/qm9_molecule_xanes.pkl\",\n",
    "    functional_group_data_path=\"data/221205/functional_groups.json\",\n",
    "    elements=\"C,O\"\n",
    ")"
   ]
  },
  {
   "cell_type": "code",
   "execution_count": 31,
   "id": "e5b8609e-9bd9-4691-97e6-374991b0c290",
   "metadata": {},
   "outputs": [
    {
     "data": {
      "text/plain": [
       "dict_keys(['C-XANES', 'O-XANES', 'SMILES', 'nones', 'FG', 'FG-Counter'])"
      ]
     },
     "execution_count": 31,
     "metadata": {},
     "output_type": "execute_result"
    }
   ],
   "source": [
    "data2.keys()"
   ]
  },
  {
   "cell_type": "code",
   "execution_count": 36,
   "id": "8dea2d0b-cc08-40ca-b8d6-f1066b7ab423",
   "metadata": {},
   "outputs": [
    {
     "data": {
      "text/plain": [
       "44871"
      ]
     },
     "execution_count": 36,
     "metadata": {},
     "output_type": "execute_result"
    }
   ],
   "source": [
    "len(data2[\"O-XANES\"])"
   ]
  },
  {
   "cell_type": "code",
   "execution_count": 24,
   "id": "fc2a3c99-5268-4c33-ba12-19c0a7246c09",
   "metadata": {},
   "outputs": [],
   "source": [
    "XANES_C = []\n",
    "XANES_N = []\n",
    "XANES_O = []\n",
    "SMILES = []\n",
    "Nones = []\n",
    "FGS = []\n",
    "\n",
    "for smile, dat in data[\"data\"].items():\n",
    "    if not (\"C\" in smile and \"N\" in smile and \"O\" in smile):\n",
    "        continue\n",
    "        \n",
    "    if dat[\"C-XANES\"] is None or dat[\"O-XANES\"] is None or dat[\"N-XANES\"] is None:\n",
    "        Nones.append(smile)\n",
    "        continue\n",
    "    \n",
    "    SMILES.append(smile)\n",
    "    XANES_C.append(np.array(dat[\"C-XANES\"]))\n",
    "    XANES_N.append(np.array(dat[\"N-XANES\"]))\n",
    "    XANES_O.append(np.array(dat[\"O-XANES\"]))\n",
    "    FGS.append(functional_groups[smile])\n",
    "    \n",
    "XANES_C = np.array(XANES_C)\n",
    "XANES_N = np.array(XANES_N)\n",
    "XANES_O = np.array(XANES_O)"
   ]
  },
  {
   "cell_type": "code",
   "execution_count": 25,
   "id": "5b296afa-3dd1-4223-8621-40d03107225d",
   "metadata": {},
   "outputs": [
    {
     "data": {
      "text/plain": [
       "(65382, 200)"
      ]
     },
     "execution_count": 25,
     "metadata": {},
     "output_type": "execute_result"
    }
   ],
   "source": [
    "XANES_N.shape"
   ]
  },
  {
   "cell_type": "code",
   "execution_count": null,
   "id": "b03b8519-1a2b-4901-90db-a606382ce2ca",
   "metadata": {},
   "outputs": [],
   "source": [
    "XANES_stacked = np.concatenate([XANES_C, XANES_N, XANES_O], axis=1)"
   ]
  },
  {
   "cell_type": "code",
   "execution_count": null,
   "id": "6b8dc189-5cfa-4a83-8b04-80d420e514d5",
   "metadata": {},
   "outputs": [],
   "source": [
    "XANES_C_scaler = StandardScaler()\n",
    "XANES_C_scaled = XANES_C_scaler.fit_transform(XANES_C)\n",
    "\n",
    "XANES_N_scaler = StandardScaler()\n",
    "XANES_N_scaled = XANES_N_scaler.fit_transform(XANES_N)\n",
    "\n",
    "XANES_O_scaler = StandardScaler()\n",
    "XANES_O_scaled = XANES_O_scaler.fit_transform(XANES_O)\n",
    "\n",
    "XANES_stacked_scaler = StandardScaler()\n",
    "XANES_stacked_scaled = XANES_stacked_scaler.fit_transform(XANES_stacked)"
   ]
  },
  {
   "cell_type": "code",
   "execution_count": null,
   "id": "5fac0b72-0cc9-4f1a-8c28-12ac5559bf59",
   "metadata": {},
   "outputs": [],
   "source": [
    "pca_C = PCA(2)\n",
    "w_C = pca_C.fit_transform(XANES_C)\n",
    "\n",
    "pca_N = PCA(2)\n",
    "w_N = pca_N.fit_transform(XANES_N)\n",
    "\n",
    "pca_O = PCA(2)\n",
    "w_O = pca_O.fit_transform(XANES_O)\n",
    "\n",
    "pca = PCA(2)\n",
    "w_stacked = pca.fit_transform(XANES_stacked)"
   ]
  },
  {
   "cell_type": "code",
   "execution_count": null,
   "id": "4d2ea03c-7dad-47af-9b69-77e362cf726a",
   "metadata": {},
   "outputs": [],
   "source": [
    "def get_functional_group_presence(groups=[\"Alkyne\"], fgs=FGS):\n",
    "    groups = set(groups)\n",
    "    return np.array([groups.issubset(set(fg_in_molecule)) for fg_in_molecule in fgs]).astype(int)"
   ]
  },
  {
   "cell_type": "code",
   "execution_count": null,
   "id": "149eb287-2e96-4c27-9410-d7b513bd541a",
   "metadata": {},
   "outputs": [],
   "source": [
    "unique_functional_groups = sorted(list(counter.keys()))"
   ]
  },
  {
   "cell_type": "markdown",
   "id": "3ea5ac74-f704-4797-82c8-08635d13e960",
   "metadata": {},
   "source": [
    "Save a relatively large pdf for visual inspection (this isn't really for any manuscript)."
   ]
  },
  {
   "cell_type": "code",
   "execution_count": null,
   "id": "f9254aa8-cedf-4713-b692-d117177fcad5",
   "metadata": {},
   "outputs": [],
   "source": [
    "fig, axs_all = plt.subplots(len(unique_functional_groups), 4, figsize=(8, 2*len(unique_functional_groups)), sharey=True, sharex=True)\n",
    "\n",
    "\n",
    "cc = 0\n",
    "for axs, g in zip(axs_all, unique_functional_groups):\n",
    "    binary = get_functional_group_presence(groups=[g])\n",
    "    where_on = np.where(binary)[0]\n",
    "    where_off = np.where(np.abs(binary - 1))[0]\n",
    "    for ax, w in zip(axs, [w_C, w_N, w_O, w_stacked]):\n",
    "        ax.scatter(w[where_off, 0], w[where_off, 1], s=0.5, c=\"grey\", rasterized=True)\n",
    "        ax.scatter(w[where_on, 0], w[where_on, 1], s=0.5, c=\"black\", rasterized=True)\n",
    "        ax.tick_params(which='both', direction='in', bottom=True, left=True, top=True, right=True)\n",
    "        ax.set_xticklabels([])\n",
    "        ax.set_yticklabels([])\n",
    "    axs[0].set_ylabel(g)\n",
    "\n",
    "axs_all[0, 0].set_title(\"C\")\n",
    "axs_all[0, 1].set_title(\"N\")\n",
    "axs_all[0, 2].set_title(\"O\")\n",
    "axs_all[0, 3].set_title(\"CNO\")\n",
    "    \n",
    "\n",
    "plt.subplots_adjust(hspace=0.1, wspace=0.1)\n",
    "plt.savefig(\"pca_functional_groups.pdf\", bbox_inches=\"tight\", dpi=300)\n",
    "plt.clf()"
   ]
  },
  {
   "cell_type": "code",
   "execution_count": null,
   "id": "6d96accf-5961-4f5e-84ed-b171dd5fd549",
   "metadata": {},
   "outputs": [],
   "source": []
  }
 ],
 "metadata": {
  "kernelspec": {
   "display_name": "Python 3 (ipykernel)",
   "language": "python",
   "name": "python3"
  },
  "language_info": {
   "codemirror_mode": {
    "name": "ipython",
    "version": 3
   },
   "file_extension": ".py",
   "mimetype": "text/x-python",
   "name": "python",
   "nbconvert_exporter": "python",
   "pygments_lexer": "ipython3",
   "version": "3.9.13"
  }
 },
 "nbformat": 4,
 "nbformat_minor": 5
}
