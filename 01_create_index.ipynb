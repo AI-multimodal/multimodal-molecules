{
 "cells": [
  {
   "cell_type": "code",
   "execution_count": null,
   "id": "8e26ca90-97b6-4c51-854d-b4c6a025d6fd",
   "metadata": {},
   "outputs": [],
   "source": [
    "%load_ext autoreload\n",
    "%autoreload 2\n",
    "%config Completer.use_jedi = False"
   ]
  },
  {
   "cell_type": "markdown",
   "id": "977d0c5b-878c-4862-8495-5c3b7c53fcd0",
   "metadata": {},
   "source": [
    "Helper functions and imports"
   ]
  },
  {
   "cell_type": "code",
   "execution_count": null,
   "id": "3114880e-5a4d-459f-8ea7-e4ec34758e80",
   "metadata": {},
   "outputs": [],
   "source": [
    "import json\n",
    "\n",
    "import numpy as np\n",
    "import pandas as pd\n",
    "import pickle"
   ]
  },
  {
   "cell_type": "code",
   "execution_count": null,
   "id": "4e4f00d6-3476-421d-9a91-cd7222626ff6",
   "metadata": {},
   "outputs": [],
   "source": [
    "import matplotlib.pyplot as plt\n",
    "import matplotlib as mpl"
   ]
  },
  {
   "cell_type": "code",
   "execution_count": null,
   "id": "06e7c058-a1f5-4bb1-bacf-d2212a82e7bb",
   "metadata": {},
   "outputs": [],
   "source": [
    "mpl.rcParams['mathtext.fontset'] = 'stix'\n",
    "mpl.rcParams['font.family'] = 'STIXGeneral'\n",
    "# mpl.rcParams['text.usetex'] = True\n",
    "mpl.rcParams['text.usetex'] = False\n",
    "plt.rc('xtick', labelsize=12)\n",
    "plt.rc('ytick', labelsize=12)\n",
    "plt.rc('axes', labelsize=12)\n",
    "mpl.rcParams['figure.dpi'] = 300"
   ]
  },
  {
   "cell_type": "markdown",
   "id": "4b645060-caca-4f82-a2af-16e2a2b438db",
   "metadata": {},
   "source": [
    "Create an index which references which smiles have which atom types and which spectra available."
   ]
  },
  {
   "cell_type": "code",
   "execution_count": null,
   "id": "76147bc0-45c8-4b16-a3ff-fc3a5bd5ae94",
   "metadata": {},
   "outputs": [],
   "source": [
    "def read_json(path):\n",
    "    with open(path, \"r\") as infile:\n",
    "        dat = json.load(infile)\n",
    "    return dat"
   ]
  },
  {
   "cell_type": "code",
   "execution_count": null,
   "id": "ea1f4d99-52e1-41ec-9c02-0285ea7ebe87",
   "metadata": {},
   "outputs": [],
   "source": [
    "data = pickle.load(open(\"data/221205/221205_xanes.pkl\", \"rb\"))"
   ]
  },
  {
   "cell_type": "code",
   "execution_count": null,
   "id": "9e354ff8-7098-4aac-b206-cbb693dc37fe",
   "metadata": {},
   "outputs": [],
   "source": [
    "functional_group_data = read_json(\"data/221205/functional_groups.json\")\n",
    "all_functional_groups_enumerated = [g for groups in functional_group_data.values() for g in groups]\n",
    "all_unique_functional_groups = sorted(list(set(all_functional_groups_enumerated)))"
   ]
  },
  {
   "cell_type": "code",
   "execution_count": null,
   "id": "96eb8aa0-5900-4988-b050-d7bc8bcf327f",
   "metadata": {},
   "outputs": [],
   "source": [
    "index = {\n",
    "    \"SMILES\": [],\n",
    "    \"C\": [],\n",
    "    \"N\": [],\n",
    "    \"O\": [],\n",
    "    \"C-XANES\": [],\n",
    "    \"N-XANES\": [],\n",
    "    \"O-XANES\": []\n",
    "}\n",
    "index = {**index, **{fg: [] for fg in all_unique_functional_groups}}"
   ]
  },
  {
   "cell_type": "code",
   "execution_count": null,
   "id": "c0d86512-a853-4428-99f6-3ee30ba50921",
   "metadata": {},
   "outputs": [],
   "source": [
    "for smile, dat in data[\"data\"].items():\n",
    "    \n",
    "    lower_smile = smile.lower()\n",
    "    \n",
    "    index[\"SMILES\"].append(smile)\n",
    "    \n",
    "    for key in [\"C\", \"N\", \"O\"]:\n",
    "        index[key].append(int(key.lower() in lower_smile))\n",
    "    \n",
    "    for key in [\"C-XANES\", \"N-XANES\", \"O-XANES\"]:\n",
    "        index[key].append(int(dat[key] is not None))\n",
    "        \n",
    "    for fg in all_unique_functional_groups:\n",
    "        index[fg].append(int(fg in functional_group_data[smile]))"
   ]
  },
  {
   "cell_type": "code",
   "execution_count": null,
   "id": "02576ba8-e28e-4e8c-9200-5819df07d313",
   "metadata": {},
   "outputs": [],
   "source": [
    "df = pd.DataFrame(index)"
   ]
  },
  {
   "cell_type": "code",
   "execution_count": null,
   "id": "4cd2048a-a9a3-4387-8c12-46a99080e68b",
   "metadata": {},
   "outputs": [],
   "source": [
    "# df.to_csv(\"data/221205/221205_index.csv\")"
   ]
  },
  {
   "cell_type": "code",
   "execution_count": null,
   "id": "6b50e203-cfe7-4f14-b908-88f735d48b0d",
   "metadata": {},
   "outputs": [],
   "source": [
    "index = pd.read_csv(\"data/221205/221205_index.csv\", index_col=0)  # Reload"
   ]
  },
  {
   "cell_type": "code",
   "execution_count": null,
   "id": "f2300bc3-b183-411b-a7a0-2b61bdc766bd",
   "metadata": {},
   "outputs": [],
   "source": [
    "assert (df == index).all().all()"
   ]
  },
  {
   "cell_type": "markdown",
   "id": "1d7e55ca-18fc-4941-8f8b-a861a081c954",
   "metadata": {},
   "source": [
    "Test the usage of the index."
   ]
  },
  {
   "cell_type": "code",
   "execution_count": null,
   "id": "e5f5951e-93fa-4aaf-9d4f-2a8f6564aa42",
   "metadata": {},
   "outputs": [],
   "source": [
    "from multimodal_molecules.data import get_dataset"
   ]
  },
  {
   "cell_type": "code",
   "execution_count": null,
   "id": "20bf2ec2-7d90-4bce-ab82-5fa4490d422c",
   "metadata": {},
   "outputs": [],
   "source": [
    "data = get_dataset(\n",
    "    xanes_path=\"data/221205/221205_xanes.pkl\",\n",
    "    index_path=\"data/221205/221205_index.csv\",\n",
    "    conditions=\"C-XANES,O-XANES\"\n",
    ")"
   ]
  },
  {
   "cell_type": "markdown",
   "id": "1063d111-409c-434a-8a32-deafebc2354c",
   "metadata": {},
   "source": [
    "# Example Random Forest Classifier training"
   ]
  },
  {
   "cell_type": "code",
   "execution_count": null,
   "id": "c228067a-5e4f-4463-9bce-ae14b5f932dc",
   "metadata": {},
   "outputs": [],
   "source": [
    "from sklearn.ensemble import RandomForestClassifier\n",
    "from sklearn.model_selection import train_test_split\n",
    "from sklearn.metrics import balanced_accuracy_score, accuracy_score\n",
    "from sklearn.inspection import permutation_importance"
   ]
  },
  {
   "cell_type": "code",
   "execution_count": null,
   "id": "03535be9-9f7f-40e2-8778-1a24d9c710f3",
   "metadata": {},
   "outputs": [],
   "source": [
    "X = data[\"C-XANES\"]\n",
    "Y = data[\"FG\"][\"Amide\"]"
   ]
  },
  {
   "cell_type": "code",
   "execution_count": null,
   "id": "3e009f0a-0699-4951-92e2-7a773a0fe7a5",
   "metadata": {},
   "outputs": [],
   "source": [
    "X_train, X_test, Y_train, Y_test = train_test_split(X, Y, test_size=0.10, random_state=43)"
   ]
  },
  {
   "cell_type": "code",
   "execution_count": null,
   "id": "4eb7a076-ae93-4efd-b151-203701ab182b",
   "metadata": {},
   "outputs": [],
   "source": [
    "rf = RandomForestClassifier(n_estimators=200, n_jobs=4, random_state=43, verbose=True)\n",
    "rf.fit(X_train, Y_train)"
   ]
  },
  {
   "cell_type": "code",
   "execution_count": null,
   "id": "fd5551aa-7245-463d-b3fc-fb015c4c1bcd",
   "metadata": {},
   "outputs": [],
   "source": [
    "Y_test_pred = rf.predict(X_test)"
   ]
  },
  {
   "cell_type": "code",
   "execution_count": null,
   "id": "763d10b2-7e9c-4abf-b23a-745938ce542d",
   "metadata": {},
   "outputs": [],
   "source": [
    "accuracy = accuracy_score(Y_test, Y_test_pred) * 100\n",
    "balanced_accuracy = balanced_accuracy_score(Y_test, Y_test_pred) * 100"
   ]
  },
  {
   "cell_type": "code",
   "execution_count": null,
   "id": "9bb57e57-646a-4552-84ba-e8643f8ffba1",
   "metadata": {},
   "outputs": [],
   "source": [
    "print(f\"Accuracy is {accuracy:.01f}%\")\n",
    "print(f\"Balanced accuracy is {balanced_accuracy:.01f}%\")"
   ]
  },
  {
   "cell_type": "code",
   "execution_count": null,
   "id": "73764f11-74c6-4121-88cb-572a3f7bcdce",
   "metadata": {
    "tags": []
   },
   "outputs": [],
   "source": [
    "p_importance = permutation_importance(rf, X_test, Y_test, n_jobs=4)"
   ]
  },
  {
   "cell_type": "code",
   "execution_count": null,
   "id": "8d58f53a-5e62-40ed-a8bb-91275792fcb8",
   "metadata": {},
   "outputs": [],
   "source": [
    "grid = data[\"grid\"][\"C-XANES\"]\n",
    "feature_importances = p_importance[\"importances_mean\"]"
   ]
  },
  {
   "cell_type": "markdown",
   "id": "3b2190f6-30fa-4f50-bc3a-65683d545d51",
   "metadata": {},
   "source": [
    "Let's find out the average spectrum of each class."
   ]
  },
  {
   "cell_type": "code",
   "execution_count": null,
   "id": "96c34bda-3ab0-4e21-879a-5c427cff74d0",
   "metadata": {},
   "outputs": [],
   "source": [
    "index_where_has_fg = np.where(Y_test == 1)[0]\n",
    "index_where_not_has_fg = np.where(Y_test == 0)[0]"
   ]
  },
  {
   "cell_type": "code",
   "execution_count": null,
   "id": "60fddf74-7dbd-4a2c-a5b1-82a47774666d",
   "metadata": {},
   "outputs": [],
   "source": [
    "spectra_where_has_fg = X_test[index_where_has_fg, :]\n",
    "spectra_where_not_has_fg = X_test[index_where_not_has_fg, :]"
   ]
  },
  {
   "cell_type": "code",
   "execution_count": null,
   "id": "9c423ee7-118f-4b04-9f33-e87c71e5cbf2",
   "metadata": {},
   "outputs": [],
   "source": [
    "mu_spectra_where_has_fg = spectra_where_has_fg.mean(axis=0)\n",
    "sd_spectra_where_has_fg = spectra_where_has_fg.std(axis=0)\n",
    "\n",
    "mu_spectra_where_not_has_fg = spectra_where_not_has_fg.mean(axis=0)\n",
    "sd_spectra_where_not_has_fg = spectra_where_not_has_fg.std(axis=0)"
   ]
  },
  {
   "cell_type": "code",
   "execution_count": null,
   "id": "1365c4b3-fcef-4262-af91-6ce7f3c9fe8b",
   "metadata": {},
   "outputs": [],
   "source": [
    "fig, axs = plt.subplots(2, 1, figsize=(3, 2), sharex=True)\n",
    "\n",
    "ax = axs[0]\n",
    "# ax.plot(grid, feature_importances)\n",
    "\n",
    "ax = axs[1]\n",
    "ax.plot(grid, mu_spectra_where_has_fg, \"r-\")\n",
    "ax.fill_between(grid, mu_spectra_where_has_fg - sd_spectra_where_has_fg, mu_spectra_where_has_fg + sd_spectra_where_has_fg, color=\"red\", alpha=0.2, linewidth=0)\n",
    "ax.plot(grid, mu_spectra_where_not_has_fg, \"b-\")\n",
    "ax.fill_between(grid, mu_spectra_where_not_has_fg - sd_spectra_where_not_has_fg, mu_spectra_where_not_has_fg + sd_spectra_where_not_has_fg, color=\"blue\", alpha=0.2, linewidth=0)\n",
    "\n",
    "plt.show()"
   ]
  }
 ],
 "metadata": {
  "kernelspec": {
   "display_name": "Python 3 (ipykernel)",
   "language": "python",
   "name": "python3"
  },
  "language_info": {
   "codemirror_mode": {
    "name": "ipython",
    "version": 3
   },
   "file_extension": ".py",
   "mimetype": "text/x-python",
   "name": "python",
   "nbconvert_exporter": "python",
   "pygments_lexer": "ipython3",
   "version": "3.9.16"
  }
 },
 "nbformat": 4,
 "nbformat_minor": 5
}
