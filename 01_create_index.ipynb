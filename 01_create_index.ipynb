{
 "cells": [
  {
   "cell_type": "code",
   "execution_count": null,
   "id": "8e26ca90-97b6-4c51-854d-b4c6a025d6fd",
   "metadata": {},
   "outputs": [],
   "source": [
    "%load_ext autoreload\n",
    "%autoreload 2\n",
    "%config Completer.use_jedi = False"
   ]
  },
  {
   "cell_type": "markdown",
   "id": "977d0c5b-878c-4862-8495-5c3b7c53fcd0",
   "metadata": {},
   "source": [
    "Helper functions and imports"
   ]
  },
  {
   "cell_type": "code",
   "execution_count": null,
   "id": "3114880e-5a4d-459f-8ea7-e4ec34758e80",
   "metadata": {},
   "outputs": [],
   "source": [
    "import json\n",
    "\n",
    "import pandas as pd\n",
    "import pickle"
   ]
  },
  {
   "cell_type": "markdown",
   "id": "4b645060-caca-4f82-a2af-16e2a2b438db",
   "metadata": {},
   "source": [
    "Create an index which references which smiles have which atom types and which spectra available."
   ]
  },
  {
   "cell_type": "code",
   "execution_count": null,
   "id": "76147bc0-45c8-4b16-a3ff-fc3a5bd5ae94",
   "metadata": {},
   "outputs": [],
   "source": [
    "def read_json(path):\n",
    "    with open(path, \"r\") as infile:\n",
    "        dat = json.load(infile)\n",
    "    return dat"
   ]
  },
  {
   "cell_type": "code",
   "execution_count": null,
   "id": "ea1f4d99-52e1-41ec-9c02-0285ea7ebe87",
   "metadata": {},
   "outputs": [],
   "source": [
    "data = pickle.load(open(\"data/221205/xanes.pkl\", \"rb\"))"
   ]
  },
  {
   "cell_type": "code",
   "execution_count": null,
   "id": "9e354ff8-7098-4aac-b206-cbb693dc37fe",
   "metadata": {},
   "outputs": [],
   "source": [
    "functional_group_data = read_json(\"data/221205/functional_groups.json\")\n",
    "all_functional_groups_enumerated = [g for groups in functional_group_data.values() for g in groups]"
   ]
  },
  {
   "cell_type": "code",
   "execution_count": null,
   "id": "afccfe63-2f69-45fa-9ec7-f891e84ba458",
   "metadata": {},
   "outputs": [],
   "source": [
    "all_unique_functional_groups = sorted(list(set(all_functional_groups_enumerated)))"
   ]
  },
  {
   "cell_type": "code",
   "execution_count": null,
   "id": "96eb8aa0-5900-4988-b050-d7bc8bcf327f",
   "metadata": {},
   "outputs": [],
   "source": [
    "index = {\n",
    "    \"SMILES\": [],\n",
    "    \"C\": [],\n",
    "    \"N\": [],\n",
    "    \"O\": [],\n",
    "    \"C-XANES\": [],\n",
    "    \"N-XANES\": [],\n",
    "    \"O-XANES\": []\n",
    "}\n",
    "index = {**index, **{fg: [] for fg in all_unique_functional_groups}}"
   ]
  },
  {
   "cell_type": "code",
   "execution_count": null,
   "id": "c0d86512-a853-4428-99f6-3ee30ba50921",
   "metadata": {},
   "outputs": [],
   "source": [
    "for smile, dat in data[\"data\"].items():\n",
    "    \n",
    "    lower_smile = smile.lower()\n",
    "    \n",
    "    index[\"SMILES\"].append(smile)\n",
    "    \n",
    "    for key in [\"C\", \"N\", \"O\"]:\n",
    "        index[key].append(int(key.lower() in lower_smile))\n",
    "    \n",
    "    for key in [\"C-XANES\", \"N-XANES\", \"O-XANES\"]:\n",
    "        index[key].append(int(dat[key] is not None))\n",
    "        \n",
    "    for fg in all_unique_functional_groups:\n",
    "        index[fg].append(int(fg in functional_group_data[smile]))"
   ]
  },
  {
   "cell_type": "code",
   "execution_count": null,
   "id": "02576ba8-e28e-4e8c-9200-5819df07d313",
   "metadata": {},
   "outputs": [],
   "source": [
    "df = pd.DataFrame(index)"
   ]
  },
  {
   "cell_type": "code",
   "execution_count": null,
   "id": "4cd2048a-a9a3-4387-8c12-46a99080e68b",
   "metadata": {},
   "outputs": [],
   "source": [
    "df.to_csv(\"data/221205/index.csv\")"
   ]
  },
  {
   "cell_type": "code",
   "execution_count": null,
   "id": "6b50e203-cfe7-4f14-b908-88f735d48b0d",
   "metadata": {},
   "outputs": [],
   "source": [
    "index = pd.read_csv(\"data/221205/index.csv\", index_col=0)  # Reload"
   ]
  },
  {
   "cell_type": "code",
   "execution_count": null,
   "id": "f2300bc3-b183-411b-a7a0-2b61bdc766bd",
   "metadata": {},
   "outputs": [],
   "source": [
    "assert (df == index).all().all()"
   ]
  },
  {
   "cell_type": "markdown",
   "id": "1d7e55ca-18fc-4941-8f8b-a861a081c954",
   "metadata": {},
   "source": [
    "Test the usage of the index."
   ]
  },
  {
   "cell_type": "code",
   "execution_count": null,
   "id": "e5f5951e-93fa-4aaf-9d4f-2a8f6564aa42",
   "metadata": {},
   "outputs": [],
   "source": [
    "from multimodal_molecules.data import get_dataset"
   ]
  },
  {
   "cell_type": "code",
   "execution_count": null,
   "id": "20bf2ec2-7d90-4bce-ab82-5fa4490d422c",
   "metadata": {},
   "outputs": [],
   "source": [
    "data = get_dataset(\n",
    "    xanes_path=\"data/221205/xanes.pkl\",\n",
    "    index_path=\"data/221205/index.csv\",\n",
    "    conditions=\"C-XANES,!N\"\n",
    ")"
   ]
  }
 ],
 "metadata": {
  "kernelspec": {
   "display_name": "Python 3 (ipykernel)",
   "language": "python",
   "name": "python3"
  },
  "language_info": {
   "codemirror_mode": {
    "name": "ipython",
    "version": 3
   },
   "file_extension": ".py",
   "mimetype": "text/x-python",
   "name": "python",
   "nbconvert_exporter": "python",
   "pygments_lexer": "ipython3",
   "version": "3.9.13"
  }
 },
 "nbformat": 4,
 "nbformat_minor": 5
}
