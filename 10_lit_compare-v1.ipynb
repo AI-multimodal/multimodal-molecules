{
 "cells": [
  {
   "cell_type": "code",
   "execution_count": null,
   "id": "a7b96014-930e-4554-9f36-d01286ce6523",
   "metadata": {
    "tags": []
   },
   "outputs": [],
   "source": [
    "%load_ext autoreload\n",
    "%autoreload 2\n",
    "%config Completer.use_jedi = False"
   ]
  },
  {
   "cell_type": "code",
   "execution_count": null,
   "id": "23beb6fd-ed4e-412a-9138-c82e265ad71b",
   "metadata": {
    "tags": []
   },
   "outputs": [],
   "source": [
    "from collections import Counter\n",
    "import json\n",
    "from pathlib import Path\n",
    "import string\n",
    "import sys\n",
    "\n",
    "from rdkit import Chem\n",
    "from rdkit import DataStructs\n",
    "from rdkit.Chem.Fingerprints import FingerprintMols\n",
    "from IPython.display import clear_output\n",
    "import matplotlib.pyplot as plt\n",
    "import matplotlib as mpl\n",
    "import numpy as np\n",
    "import pandas as pd\n",
    "from scipy.spatial import distance_matrix\n",
    "from sklearn.decomposition import PCA\n",
    "from sklearn.preprocessing import StandardScaler\n",
    "import tqdm\n",
    "import torch\n",
    "from sklearn.metrics import balanced_accuracy_score, accuracy_score, f1_score, recall_score\n",
    "\n",
    "from multimodal_molecules.core import Ensemble, Estimator, get_data\n",
    "from multimodal_molecules.plotting import set_defaults, set_grids, density_scatter, remove_axis_spines"
   ]
  },
  {
   "cell_type": "code",
   "execution_count": null,
   "id": "0f2e431e-4f1e-4f1f-ae6f-b96b4ba2fa29",
   "metadata": {},
   "outputs": [],
   "source": [
    "class NumpyEncoder(json.JSONEncoder):\n",
    "    def default(self, obj):\n",
    "        if isinstance(obj, np.ndarray):\n",
    "            return obj.tolist()\n",
    "        return json.JSONEncoder.default(self, obj)"
   ]
  },
  {
   "cell_type": "code",
   "execution_count": null,
   "id": "b07109d2-21b1-4e29-b097-b7ff61d636ea",
   "metadata": {},
   "outputs": [],
   "source": [
    "set_defaults()"
   ]
  },
  {
   "cell_type": "markdown",
   "id": "66261b2e-40f6-4193-af08-31da3af72431",
   "metadata": {},
   "source": [
    "# Load the QM9 data"
   ]
  },
  {
   "cell_type": "code",
   "execution_count": null,
   "id": "abeffdd8-f79b-4164-b952-cafd992f6000",
   "metadata": {},
   "outputs": [],
   "source": [
    "def load_qm9_xyz(path):\n",
    "    with open(path, \"r\") as f:\n",
    "        lines = f.readlines()\n",
    "    smiles = lines[-2].strip().split()[1]\n",
    "    return lines, smiles"
   ]
  },
  {
   "cell_type": "code",
   "execution_count": null,
   "id": "9ecfadee-7d19-4c07-ad8f-609db9474341",
   "metadata": {},
   "outputs": [],
   "source": [
    "smiles_to_info = {}"
   ]
  },
  {
   "cell_type": "code",
   "execution_count": null,
   "id": "c39fa41b-0850-4091-bb61-0496bb9ef62d",
   "metadata": {},
   "outputs": [],
   "source": [
    "for fname in tqdm.tqdm(list(Path(\"/Users/mc/Data/QM9\").glob(\"*.xyz\"))):\n",
    "    lines, smiles = load_qm9_xyz(fname)\n",
    "    smiles_to_info[smiles] = {\"xyz\": lines, \"fname\": fname.name}"
   ]
  },
  {
   "cell_type": "code",
   "execution_count": null,
   "id": "48523cdf-4fb9-4485-bb37-fdd7cb8b6e72",
   "metadata": {},
   "outputs": [],
   "source": [
    "C_grid = np.loadtxt(\"data/c_grid.txt\")\n",
    "N_grid = np.loadtxt(\"data/n_grid.txt\")\n",
    "O_grid = np.loadtxt(\"data/o_grid.txt\")"
   ]
  },
  {
   "cell_type": "markdown",
   "id": "3ddeabb1-6b20-4b96-952f-f9f48c648918",
   "metadata": {},
   "source": [
    "# Load experimental data"
   ]
  },
  {
   "cell_type": "markdown",
   "id": "18801080-7e5b-4d76-9b27-767b0564fd2b",
   "metadata": {},
   "source": [
    "Indexes are relative to stacking the smiles like `smiles = data[\"smiles_train\"] + data[\"smiles_val\"] + data[\"smiles_test\"]`."
   ]
  },
  {
   "cell_type": "markdown",
   "id": "acf3acc0-06c2-418a-ac60-4d9095b2a9a7",
   "metadata": {},
   "source": [
    "## Carbon"
   ]
  },
  {
   "cell_type": "markdown",
   "id": "b49f930f-5a22-4948-9df6-dd209d66f0c5",
   "metadata": {},
   "source": [
    "- Glycine: `C(C(=O)O)N` (Closest structure in database: `17351 [NH3+]CC([O-])=O`, actually is glycine)\n",
    "- Proline: `O=C(O)C1CCCN1` (Closest structure in database: `21828 [O-]C(=O)C1CCC[NH2+]1`, actually is proline)"
   ]
  },
  {
   "cell_type": "code",
   "execution_count": null,
   "id": "f757b94f-0b90-4cdb-abc4-108dd4b7097b",
   "metadata": {},
   "outputs": [],
   "source": [
    "d = get_data(elements=\"C\")\n",
    "X = np.concatenate([d[\"X_train\"], d[\"X_val\"], d[\"X_test\"]], axis=0)"
   ]
  },
  {
   "cell_type": "code",
   "execution_count": null,
   "id": "c36f1664-1651-4e0e-8d52-d0da5a275f0a",
   "metadata": {},
   "outputs": [],
   "source": [
    "carbon_glycine = np.loadtxt(\"data/24-01-02_experiment/carbon_glycine.csv\", delimiter=\",\")\n",
    "carbon_glycine_feff = X[17351, :]"
   ]
  },
  {
   "cell_type": "code",
   "execution_count": null,
   "id": "7c211890-bc0b-4a53-b064-4b30d8cdc688",
   "metadata": {},
   "outputs": [],
   "source": [
    "carbon_proline = np.loadtxt(\"data/24-01-02_experiment/carbon_proline.csv\", delimiter=\",\")\n",
    "carbon_proline_feff = X[21828, :]"
   ]
  },
  {
   "cell_type": "markdown",
   "id": "cedc43d4-bfe3-4c8a-a491-aef250004078",
   "metadata": {},
   "source": [
    "## Nitrogen"
   ]
  },
  {
   "cell_type": "markdown",
   "id": "db8770d4-7067-48e6-bd6a-9693dccd5e27",
   "metadata": {},
   "source": [
    "- Glycine: `C(C(=O)O)N` (Closest structure in database: `68438 [NH3+]CC([O-])=O`, actually is glycine)\n",
    "- Proline: `O=C(O)C1CCCN1` (Closest structure in database: `862 [O-]C(=O)C1CCC[NH2+]1`, actually is proline)"
   ]
  },
  {
   "cell_type": "code",
   "execution_count": null,
   "id": "4da30477-01af-4258-8b6e-c59fc55c732d",
   "metadata": {},
   "outputs": [],
   "source": [
    "d = get_data(elements=\"N\")\n",
    "X = np.concatenate([d[\"X_train\"], d[\"X_val\"], d[\"X_test\"]], axis=0)"
   ]
  },
  {
   "cell_type": "code",
   "execution_count": null,
   "id": "bc815cf0-6707-4e0a-a932-a617a8d1b1b5",
   "metadata": {},
   "outputs": [],
   "source": [
    "nitrogen_glycine = np.loadtxt(\"data/24-01-02_experiment/nitrogen_glycine.csv\", delimiter=\",\")\n",
    "nitrogen_glycine_feff = X[68438, :]"
   ]
  },
  {
   "cell_type": "code",
   "execution_count": null,
   "id": "b00acc45-9b79-4890-8186-7fe69d6483f7",
   "metadata": {},
   "outputs": [],
   "source": [
    "nitrogen_proline = np.loadtxt(\"data/24-01-02_experiment/nitrogen_proline.csv\", delimiter=\",\")\n",
    "nitrogen_proline_feff = X[862, :]"
   ]
  },
  {
   "cell_type": "markdown",
   "id": "f00ec94d-87a4-4f3c-a0a7-54cf4787b191",
   "metadata": {},
   "source": [
    "## Oxygen"
   ]
  },
  {
   "cell_type": "markdown",
   "id": "2f20730a-7a05-4df9-86c1-5c52ef35673a",
   "metadata": {},
   "source": [
    "* Aldehyde is `C1=CC=C2C(=C1)C=C3C=CC=CC3=C2C=O` (9-Anthraldehyde) (Closest structure in database: `74831 O=CC1=CC=CC=C1`)\n",
    "* Aliphatic hydroxyl is Polyvinyl alcohol, approximated as 2-butanol `CCC(C)O` (Closest structure in database: `63161 CCC(C)O`)"
   ]
  },
  {
   "cell_type": "code",
   "execution_count": null,
   "id": "33e2ae2b-2f0d-4738-9c52-2960943545ab",
   "metadata": {},
   "outputs": [],
   "source": [
    "d = get_data(elements=\"O\")\n",
    "X = np.concatenate([d[\"X_train\"], d[\"X_val\"], d[\"X_test\"]], axis=0)"
   ]
  },
  {
   "cell_type": "code",
   "execution_count": null,
   "id": "12223710-875c-4c56-bfb6-bf2c3265334b",
   "metadata": {},
   "outputs": [],
   "source": [
    "oxygen_aldehyde = np.loadtxt(\"data/24-01-02_experiment/oxygen_aldehyde.csv\", delimiter=\",\")\n",
    "oxygen_aldehyde_feff = X[74831, :]"
   ]
  },
  {
   "cell_type": "code",
   "execution_count": null,
   "id": "454fe36e-ff15-462e-b62e-600e79e5fc1d",
   "metadata": {},
   "outputs": [],
   "source": [
    "oxygen_aliphatic_hydroxyl = np.loadtxt(\"data/24-01-02_experiment/oxygen_aliphatic_hydroxyl.csv\", delimiter=\",\")\n",
    "oxygen_aliphatic_hydroxyl_feff = X[63161, :]"
   ]
  },
  {
   "cell_type": "markdown",
   "id": "9b6d1c4b-fa0a-4fe0-a041-effd05beca22",
   "metadata": {},
   "source": [
    "# Plot the data"
   ]
  },
  {
   "cell_type": "code",
   "execution_count": null,
   "id": "3c3cc3c6-47ad-4774-95ee-8594fb44684e",
   "metadata": {},
   "outputs": [],
   "source": [
    "def setup_intensity(y):\n",
    "    # return y\n",
    "    y = y.copy()\n",
    "    y -= y[0]\n",
    "    y /= y[-1]\n",
    "    return y"
   ]
  },
  {
   "cell_type": "code",
   "execution_count": null,
   "id": "b5c37ecb-e7eb-4b71-97e8-394aa0509881",
   "metadata": {},
   "outputs": [],
   "source": [
    "fig, axs = plt.subplots(2, 3, figsize=(6, 4), sharey=True)\n",
    "\n",
    "ax = axs[0, 0]\n",
    "ax.set_title(\"C\")\n",
    "ax.plot(carbon_glycine[:, 0], setup_intensity(carbon_glycine[:, 1]), label=\"EXP\")\n",
    "ax.plot(C_grid, carbon_glycine_feff, label=\"FEFF\")\n",
    "ax.text(0.9, 0.9, \"Glycine\", ha=\"right\", va=\"top\", transform=ax.transAxes)\n",
    "ax.set_xticks([])\n",
    "ax.legend(frameon=False, fontsize=8, loc=\"center right\")\n",
    "\n",
    "ax = axs[1, 0]\n",
    "ax.plot(carbon_proline[:, 0], setup_intensity(carbon_proline[:, 1]))\n",
    "ax.plot(C_grid, carbon_proline_feff)\n",
    "ax.text(0.9, 0.9, \"Proline\", ha=\"right\", va=\"top\", transform=ax.transAxes)\n",
    "\n",
    "\n",
    "ax = axs[0, 1]\n",
    "ax.set_title(\"N\")\n",
    "ax.plot(nitrogen_glycine[:, 0], setup_intensity(nitrogen_glycine[:, 1]))\n",
    "ax.plot(N_grid, nitrogen_glycine_feff)\n",
    "ax.text(0.9, 0.9, \"Glycine\", ha=\"right\", va=\"top\", transform=ax.transAxes)\n",
    "\n",
    "ax = axs[1, 1]\n",
    "ax.plot(nitrogen_proline[:, 0], setup_intensity(nitrogen_proline[:, 1]))\n",
    "ax.plot(N_grid, nitrogen_proline_feff)\n",
    "ax.text(0.9, 0.9, \"Proline\", ha=\"right\", va=\"top\", transform=ax.transAxes)\n",
    "\n",
    "\n",
    "ax = axs[0, 2]\n",
    "ax.set_title(\"O\")\n",
    "ax.plot(oxygen_aldehyde[:, 0], setup_intensity(oxygen_aldehyde[:, 1]))\n",
    "ax.plot(O_grid, oxygen_aldehyde_feff)\n",
    "\n",
    "\n",
    "ax = axs[1, 2]\n",
    "ax.plot(oxygen_aliphatic_hydroxyl[:, 0], setup_intensity(oxygen_aliphatic_hydroxyl[:, 1]))\n",
    "ax.plot(O_grid, oxygen_aliphatic_hydroxyl_feff)\n",
    "\n",
    "\n",
    "plt.show()"
   ]
  },
  {
   "cell_type": "markdown",
   "id": "3385d432-ed07-4ea3-b07b-e635ec8e4c9f",
   "metadata": {},
   "source": [
    "# Find matching simulated data"
   ]
  },
  {
   "cell_type": "markdown",
   "id": "ee4cd902-2e5c-4c65-ab69-be8e01536718",
   "metadata": {},
   "source": [
    "Indexed above for convenience."
   ]
  },
  {
   "cell_type": "code",
   "execution_count": null,
   "id": "0a10a24d-ccdd-4113-8c99-f4d80969317f",
   "metadata": {},
   "outputs": [],
   "source": [
    "def fp_from_smiles(smile):\n",
    "    return FingerprintMols.FingerprintMol(\n",
    "        Chem.MolFromSmiles(smile),\n",
    "        minPath=1,\n",
    "        maxPath=7,\n",
    "        fpSize=2048,\n",
    "        bitsPerHash=2,\n",
    "        useHs=True,\n",
    "        tgtDensity=0.0,\n",
    "        minSize=128\n",
    "    )"
   ]
  },
  {
   "cell_type": "code",
   "execution_count": null,
   "id": "ae56afa4-2d96-4cd9-9cb9-8ba4d5c3a2e1",
   "metadata": {},
   "outputs": [],
   "source": [
    "d = get_data(elements=\"O\")"
   ]
  },
  {
   "cell_type": "code",
   "execution_count": null,
   "id": "fe95cc07-c58b-4122-87cb-75794782a221",
   "metadata": {},
   "outputs": [],
   "source": [
    "all_smiles = d[\"smiles_train\"] + d[\"smiles_val\"] + d[\"smiles_test\"]"
   ]
  },
  {
   "cell_type": "code",
   "execution_count": null,
   "id": "77fee590-7cff-4666-9910-c0f9b14b3923",
   "metadata": {},
   "outputs": [],
   "source": [
    "all_fingerprints = [fp_from_smiles(x) for x in all_smiles]"
   ]
  },
  {
   "cell_type": "code",
   "execution_count": null,
   "id": "e8a536dd-1fef-4bab-9a28-0ecfd20d62b4",
   "metadata": {},
   "outputs": [],
   "source": [
    "sims = DataStructs.BulkTanimotoSimilarity(fp_from_smiles(\"CCC(C)O\"), all_fingerprints)"
   ]
  },
  {
   "cell_type": "code",
   "execution_count": null,
   "id": "f58e14bd-bcd1-4505-afd9-19f852f17071",
   "metadata": {},
   "outputs": [],
   "source": [
    "argsorted = np.argsort(sims)"
   ]
  },
  {
   "cell_type": "code",
   "execution_count": null,
   "id": "26ed091a-19f7-47d3-ba8f-ad2e02edd32f",
   "metadata": {},
   "outputs": [],
   "source": [
    "ii = -1\n",
    "Chem.MolFromSmiles(all_smiles[argsorted[ii]])\n",
    "print(argsorted[ii])\n",
    "print(all_smiles[argsorted[ii]])"
   ]
  },
  {
   "cell_type": "markdown",
   "id": "0e47582b-bb90-4113-8ffb-78cbec81eb9a",
   "metadata": {},
   "source": [
    "Glycine is index `17351 [NH3+]CC([O-])=O`."
   ]
  },
  {
   "cell_type": "code",
   "execution_count": null,
   "id": "48b8ab2b-0ff1-403e-948a-6e88ec35eb9e",
   "metadata": {},
   "outputs": [],
   "source": [
    "for ii, smile in enumerate(all_smiles):\n",
    "    cc = Counter(smile)\n",
    "    if cc[\"C\"] == 5 and cc[\"N\"] == 1 and cc[\"O\"] == 2 and cc[\"1\"] == 2 and cc[\"=\"] == 1 and cc[\"(\"] == 1 and cc[\")\"] == 1\\\n",
    "        and cc[\"#\"] == 0:\n",
    "        print(ii, smile)"
   ]
  },
  {
   "cell_type": "code",
   "execution_count": null,
   "id": "0a648f24-926f-4907-aaf4-ed78a06ba761",
   "metadata": {},
   "outputs": [],
   "source": [
    "Chem.CanonSmiles(\"C(C(=O)O)N\")"
   ]
  },
  {
   "cell_type": "code",
   "execution_count": null,
   "id": "3124f979-1155-489e-9f12-e1c48f1eeaca",
   "metadata": {},
   "outputs": [],
   "source": [
    "Chem.CanonSmiles(\"O=C([O-])C1CCC[NH3+]1\")"
   ]
  },
  {
   "cell_type": "code",
   "execution_count": null,
   "id": "2a8db723-0304-4bab-acb7-09930333205c",
   "metadata": {},
   "outputs": [],
   "source": []
  }
 ],
 "metadata": {
  "kernelspec": {
   "display_name": "Python 3 (ipykernel)",
   "language": "python",
   "name": "python3"
  },
  "language_info": {
   "codemirror_mode": {
    "name": "ipython",
    "version": 3
   },
   "file_extension": ".py",
   "mimetype": "text/x-python",
   "name": "python",
   "nbconvert_exporter": "python",
   "pygments_lexer": "ipython3",
   "version": "3.11.6"
  }
 },
 "nbformat": 4,
 "nbformat_minor": 5
}
