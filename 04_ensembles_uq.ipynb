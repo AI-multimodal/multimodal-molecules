{
 "cells": [
  {
   "cell_type": "code",
   "execution_count": null,
   "id": "8e26ca90-97b6-4c51-854d-b4c6a025d6fd",
   "metadata": {},
   "outputs": [],
   "source": [
    "%load_ext autoreload\n",
    "%autoreload 2\n",
    "%config Completer.use_jedi = False"
   ]
  },
  {
   "cell_type": "code",
   "execution_count": null,
   "id": "9ad631a0-0b4d-4731-bdb1-fe084d2657ca",
   "metadata": {
    "tags": []
   },
   "outputs": [],
   "source": [
    "from functools import cache\n",
    "\n",
    "from pathlib import Path\n",
    "from pprint import pprint\n",
    "\n",
    "import matplotlib.pyplot as plt\n",
    "import matplotlib as mpl\n",
    "import pandas as pd\n",
    "import numpy as np\n",
    "from scipy.stats import sem\n",
    "from sklearn.metrics import balanced_accuracy_score, accuracy_score\n",
    "from IPython.display import clear_output\n",
    "\n",
    "mpl.rcParams['mathtext.fontset'] = 'stix'\n",
    "mpl.rcParams['font.family'] = 'STIXGeneral'\n",
    "mpl.rcParams['text.usetex'] = False\n",
    "plt.rc('xtick', labelsize=12)\n",
    "plt.rc('ytick', labelsize=12)\n",
    "plt.rc('axes', labelsize=12)\n",
    "mpl.rcParams['figure.dpi'] = 300"
   ]
  },
  {
   "cell_type": "code",
   "execution_count": null,
   "id": "2edeb873-f49e-4b8b-9696-614595f9d8ea",
   "metadata": {
    "tags": []
   },
   "outputs": [],
   "source": [
    "!which python"
   ]
  },
  {
   "cell_type": "code",
   "execution_count": null,
   "id": "e156d3de-aff8-41fc-ac64-3fcb36bb52a8",
   "metadata": {
    "tags": []
   },
   "outputs": [],
   "source": [
    "from crescendo.analysis import Ensemble"
   ]
  },
  {
   "cell_type": "code",
   "execution_count": null,
   "id": "7dc6e619-c630-44cd-a87f-108b6284bd98",
   "metadata": {
    "tags": []
   },
   "outputs": [],
   "source": [
    "N_est = 20\n",
    "jj_vals = list(range(N_est // 2 + 1))\n",
    "\n",
    "def load(\n",
    "    data,\n",
    "    data_dir=\"/Users/mc/GitHub/AIMM/multimodal-molecules/data/23-04-26-ml-data\",\n",
    "    ensemble_dir=\"/Users/mc/GitHub/AIMM/multimodal-molecules/data/23-05-05-ensembles\"\n",
    "):\n",
    "    data_dir = Path(data_dir) / data\n",
    "    with open(Path(data_dir) / \"functional_groups.txt\", \"r\") as f:\n",
    "        functional_groups = f.readlines()\n",
    "    functional_groups = [xx.strip() for xx in functional_groups]\n",
    "    d = data.replace(\"-XANES\", \"\").replace(\"_\", \"-\")\n",
    "    ensemble_path = Path(ensemble_dir) / d\n",
    "    ensemble = Ensemble.from_root(ensemble_path, data_dir=data_dir)\n",
    "    with open(Path(data_dir) / \"smiles_test.txt\", \"r\") as f:\n",
    "        smiles_test = f.readlines()\n",
    "    return ensemble, functional_groups, smiles_test\n",
    "\n",
    "def err_std2(ensemble):\n",
    "    Y_test_pred = ensemble.predict(ensemble.X_test)\n",
    "    \n",
    "    # Round every result first, so treat each estimator as a classifier\n",
    "    Y_test_pred = Y_test_pred.round()\n",
    "    mu = Y_test_pred.mean(axis=0)\n",
    "    mu = mu.round()\n",
    "    err = np.abs(ensemble.Y_test - mu)\n",
    "    std = np.std(Y_test_pred, axis=0)\n",
    "    correct = (mu.round() - ensemble.Y_test) == 0\n",
    "    return err, std, correct, Y_test_pred\n",
    "\n",
    "def get_error_statistics(err, test_pred, n_functional_groups):\n",
    "    \n",
    "    \n",
    "    N_est = test_pred.shape[0]\n",
    "    pred_sum = test_pred.sum(axis=0)\n",
    "    \n",
    "    all_errors = []\n",
    "    all_errors_std = []\n",
    "    all_lengths = []\n",
    "\n",
    "    for ii in range(n_functional_groups):\n",
    "        errors = []\n",
    "        errors_std = []\n",
    "        lengths = []\n",
    "        for jj in jj_vals:\n",
    "            where = np.where((pred_sum[:, ii] == jj) | (pred_sum[:, ii] == N_est - jj))[0]\n",
    "            lengths.append(len(where))\n",
    "\n",
    "            # print(where_all_agree)\n",
    "            errors.append(err[where, ii].mean())\n",
    "            errors_std.append(err[where, ii].std())\n",
    "            # print(f\"{e*100:.02f}% err\")\n",
    "\n",
    "        all_errors.append(errors)\n",
    "        all_errors_std.append(errors_std)\n",
    "        all_lengths.append(lengths)\n",
    "    \n",
    "    all_errors = np.array(all_errors)\n",
    "    all_errors_std = np.array(all_errors_std)\n",
    "    all_lengths = np.array(all_lengths)\n",
    "    \n",
    "    # Average over the entire dataset\n",
    "    errors = []\n",
    "    errors_std = []\n",
    "    lengths = []\n",
    "    for jj in jj_vals:\n",
    "        where = np.where((pred_sum == jj) | (pred_sum == N_est - jj))\n",
    "        lengths.append(len(where[0]))\n",
    "        # print(len(where[0]), len(where[1]))\n",
    "\n",
    "        # print(where_all_agree)\n",
    "        errors.append(np.nanmean(err[where]))\n",
    "        errors_std.append(sem(err[where], nan_policy=\"omit\"))\n",
    "        # print(f\"{e*100:.02f}% err\")\n",
    "        \n",
    "    everything_errors = np.array(errors)\n",
    "    everything_errors_sem = np.array(errors_std)\n",
    "    everything_lengths = np.array(lengths)\n",
    "    \n",
    "    return all_errors, all_errors_std, all_lengths, everything_errors, everything_errors_sem, everything_lengths, jj_vals\n",
    "\n",
    "\n",
    "\n",
    "def get_error_statistics_CBA(test_truth, test_pred, n_functional_groups):\n",
    "    \n",
    "    \n",
    "    N_est = test_pred.shape[0]\n",
    "    pred_sum = test_pred.sum(axis=0)\n",
    "    pred_mu = test_pred.mean(axis=0).round()\n",
    "    \n",
    "    all_cba = []\n",
    "    all_lengths = []\n",
    "\n",
    "    for ii in range(n_functional_groups):\n",
    "        cba = []\n",
    "        lengths = []\n",
    "        for jj in jj_vals:\n",
    "            where = np.where((pred_sum[:, ii] == jj) | (pred_sum[:, ii] == N_est - jj))[0]\n",
    "            lengths.append(len(where))\n",
    "            # print(test_truth[where, ii].shape, pred_mu[where, ii].shape)\n",
    "            tmp = balanced_accuracy_score(\n",
    "                test_truth[where, ii],\n",
    "                pred_mu[where, ii]\n",
    "            )\n",
    "            cba.append(tmp)\n",
    "\n",
    "        all_cba.append(cba)\n",
    "        all_lengths.append(lengths)\n",
    "    \n",
    "    all_cba = np.array(all_cba)\n",
    "    all_lengths = np.array(all_lengths)\n",
    "    \n",
    "    \n",
    "    everything_cba = []\n",
    "    everything_lengths = []\n",
    "    for jj in jj_vals:\n",
    "        where = np.where((pred_sum == jj) | (pred_sum == N_est - jj))\n",
    "        everything_lengths.append(len(where[0]))\n",
    "        # print(test_truth[where, ii].shape, pred_mu[where, ii].shape)\n",
    "        tmp = balanced_accuracy_score(\n",
    "            test_truth[where].flatten(),\n",
    "            pred_mu[where].flatten()\n",
    "        )\n",
    "        everything_cba.append(tmp)\n",
    "    \n",
    "    everything_cba = np.array(everything_cba)\n",
    "    everything_lengths = np.array(everything_lengths)\n",
    "    \n",
    "    return all_cba, all_lengths, everything_cba, everything_lengths, jj_vals\n",
    "\n",
    "\n",
    "def get_everything(data, data_dir, ensemble_dir):\n",
    "    ensemble, functional_groups, smiles_test = load(data, data_dir, ensemble_dir)\n",
    "    err, std, correct, test_pred = err_std2(ensemble)\n",
    "    # all_errors, all_errors_std, all_lengths, everything_errors, everything_errors_sem, everything_lengths, jj_vals \\\n",
    "    #     = get_error_statistics(err, test_pred, len(functional_groups))\n",
    "    all_cba, all_lengths, everything_cba, everything_lengths, jj_vals \\\n",
    "        = get_error_statistics_CBA(ensemble.Y_test, test_pred, len(functional_groups))\n",
    "    where_little_data = np.where(all_lengths < 10)\n",
    "    all_cba[where_little_data] = np.nan\n",
    "    del where_little_data\n",
    "    clear_output()\n",
    "    return locals()  # Don't try this at home"
   ]
  },
  {
   "cell_type": "markdown",
   "id": "c0e670d2-147c-49a0-b36b-5666cb4931c2",
   "metadata": {},
   "source": [
    "# Plots"
   ]
  },
  {
   "cell_type": "code",
   "execution_count": null,
   "id": "bb27099e-1ad1-4cae-9edd-48832efd84c1",
   "metadata": {
    "tags": []
   },
   "outputs": [],
   "source": [
    "data_dir=\"/Users/mc/GitHub/AIMM/multimodal-molecules/data/23-04-26-ml-data\"\n",
    "ensemble_dir=\"/Users/mc/GitHub/AIMM/multimodal-molecules/data/23-05-05-ensembles\""
   ]
  },
  {
   "cell_type": "code",
   "execution_count": null,
   "id": "8f252a2c-b693-4c36-b388-cfb92cce04fb",
   "metadata": {
    "tags": []
   },
   "outputs": [],
   "source": [
    "results_C = get_everything(\"C-XANES\", data_dir, ensemble_dir)\n",
    "results_N = get_everything(\"N-XANES\", data_dir, ensemble_dir)\n",
    "results_O = get_everything(\"O-XANES\", data_dir, ensemble_dir)\n",
    "results_CNO = get_everything(\"C-XANES_N-XANES_O-XANES\", data_dir, ensemble_dir)"
   ]
  },
  {
   "cell_type": "code",
   "execution_count": null,
   "id": "f9473bf3-7f36-4216-b2a4-3b58895d6744",
   "metadata": {
    "tags": []
   },
   "outputs": [],
   "source": [
    "results = [results_C, results_N, results_O, results_CNO]\n",
    "colors = [\"black\", \"blue\", \"red\", \"grey\"]\n",
    "letters1 = [\"a\", \"b\", \"c\", \"d\"]\n",
    "letters2 = [\"e\", \"f\", \"g\", \"h\"]"
   ]
  },
  {
   "cell_type": "code",
   "execution_count": null,
   "id": "37916297-c3eb-4a20-81a2-89386a975020",
   "metadata": {
    "tags": []
   },
   "outputs": [],
   "source": [
    "fig, axs_arr = plt.subplots(2, 4, figsize=(4, 2), sharey=False, sharex=True, gridspec_kw={'height_ratios': [2, 1]})\n",
    "\n",
    "y_range_top = [0.4, 1.02]\n",
    "y_range_bottom = [1.7, 6.3]\n",
    "\n",
    "axs = axs_arr[0]\n",
    "for ii, (result, color, letter) in enumerate(zip(results, colors, letters1)):\n",
    "    ax = axs[ii]\n",
    "    for jj in range(len(result[\"functional_groups\"])):\n",
    "        ax.plot(result[\"jj_vals\"], result[\"all_cba\"][jj, :], color=color, linewidth=0.3, alpha=0.3)\n",
    "    ax.plot(result[\"jj_vals\"], result[\"everything_cba\"], color=color, marker=\"o\", markersize=2, linewidth=1)\n",
    "    ax.tick_params(which=\"both\", direction=\"in\")\n",
    "    ax.set_xticks([0, 5, 10])\n",
    "    ax.set_yticks([0.5, 1.0])\n",
    "    ax.set_ylim(*y_range_top)\n",
    "    if ii != 0:\n",
    "        ax.set_yticklabels([])\n",
    "    ax.text(0.95, 0.95, f\"({letter})\", ha=\"right\", va=\"top\", transform=ax.transAxes)\n",
    "axs[0].set_ylabel(\"CBA\")\n",
    "axs[0].text(0.1, 0.05, \"C\", ha=\"left\", va=\"bottom\", transform=axs[0].transAxes, color=\"black\")\n",
    "axs[1].text(0.1, 0.05, \"N\", ha=\"left\", va=\"bottom\", transform=axs[1].transAxes, color=\"blue\")\n",
    "axs[2].text(0.1, 0.05, \"O\", ha=\"left\", va=\"bottom\", transform=axs[2].transAxes, color=\"red\")\n",
    "axs[3].text(0.1, 0.05, \"CNO\", ha=\"left\", va=\"bottom\", transform=axs[3].transAxes, color=\"grey\")\n",
    "\n",
    "axs = axs_arr[1]\n",
    "for ii, (result, color, letter) in enumerate(zip(results, colors, letters2)):\n",
    "    ax = axs[ii]\n",
    "    ax.tick_params(which=\"both\", direction=\"in\")\n",
    "    ax.bar(jj_vals, np.log10(result[\"everything_lengths\"]), color=color)\n",
    "    ax.set_yticks([2, 4, 6])\n",
    "    ax.set_ylim(*y_range_bottom)\n",
    "    if ii != 0:\n",
    "        ax.set_yticklabels([])\n",
    "    ax.text(0.95, 0.95, f\"({letter})\", ha=\"right\", va=\"top\", transform=ax.transAxes)\n",
    "axs[0].set_ylabel(\"$\\log_{10} N$\")\n",
    "\n",
    "\n",
    "\n",
    "ax = fig.add_subplot(111, frameon=False)\n",
    "plt.tick_params(labelcolor='none', top='off', bottom='off', left='off', right='off')\n",
    "ax.set_xticks([])\n",
    "ax.set_yticks([])\n",
    "ax.set_xlabel(\"Deviating Estimators\", labelpad=20)\n",
    "\n",
    "plt.subplots_adjust(hspace=0.05, wspace=0.1)\n",
    "\n",
    "plt.show()\n",
    "# plt.savefig(\"figures/uq.pdf\", bbox_inches=\"tight\", dpi=300)"
   ]
  },
  {
   "cell_type": "code",
   "execution_count": null,
   "id": "995c3f27-fee2-41b3-b318-b9db81f2bda4",
   "metadata": {
    "tags": []
   },
   "outputs": [],
   "source": [
    "for ii in np.where(results_N[\"all_cba\"][:, 0] < 0.9)[0]:\n",
    "    print(results_N[\"functional_groups\"][ii].replace(\"_\", \"-\"))"
   ]
  },
  {
   "cell_type": "code",
   "execution_count": null,
   "id": "bc8d8846-beb7-448f-8ca2-4bcf4225ab17",
   "metadata": {
    "tags": []
   },
   "outputs": [],
   "source": [
    "for ii in np.where(results_O[\"all_cba\"][:, 0] < 0.9)[0]:\n",
    "    print(results_O[\"functional_groups\"][ii].replace(\"_\", \"-\"))"
   ]
  },
  {
   "cell_type": "markdown",
   "id": "b34b44dc-7367-4bb4-9b49-17c184a32880",
   "metadata": {},
   "source": [
    "# Plots CUTOFF8"
   ]
  },
  {
   "cell_type": "code",
   "execution_count": null,
   "id": "94dcbbe7-a96e-4dd1-bd09-15772a20adc1",
   "metadata": {
    "tags": []
   },
   "outputs": [],
   "source": [
    "data_dir=\"/Users/mc/GitHub/AIMM/multimodal-molecules/data/23-05-11-ml-data-CUTOFF8\"\n",
    "ensemble_dir=\"/Users/mc/GitHub/AIMM/multimodal-molecules/data/23-05-13-ensembles-CUTOFF8\""
   ]
  },
  {
   "cell_type": "code",
   "execution_count": null,
   "id": "13265050-9931-4c8d-8204-0edffe24827c",
   "metadata": {
    "tags": []
   },
   "outputs": [],
   "source": [
    "results_C = get_everything(\"C-XANES\", data_dir, ensemble_dir)\n",
    "results_N = get_everything(\"N-XANES\", data_dir, ensemble_dir)\n",
    "results_O = get_everything(\"O-XANES\", data_dir, ensemble_dir)\n",
    "results_CNO = get_everything(\"C-XANES_N-XANES_O-XANES\", data_dir, ensemble_dir)"
   ]
  },
  {
   "cell_type": "code",
   "execution_count": null,
   "id": "256d49ae-97b6-4bb5-b6ac-4cc229c22d32",
   "metadata": {
    "tags": []
   },
   "outputs": [],
   "source": [
    "results = [results_C, results_N, results_O, results_CNO]\n",
    "colors = [\"black\", \"blue\", \"red\", \"grey\"]\n",
    "letters1 = [\"a\", \"b\", \"c\", \"d\"]\n",
    "letters2 = [\"e\", \"f\", \"g\", \"h\"]"
   ]
  },
  {
   "cell_type": "code",
   "execution_count": null,
   "id": "da66e2ab-c2b9-474f-a92f-c77ca0918f2e",
   "metadata": {
    "tags": []
   },
   "outputs": [],
   "source": [
    "fig, axs_arr = plt.subplots(2, 4, figsize=(4, 2), sharey=False, sharex=True, gridspec_kw={'height_ratios': [2, 1]})\n",
    "\n",
    "y_range_top = [0.4, 1.02]\n",
    "y_range_bottom = [2.7, 7.3]\n",
    "\n",
    "axs = axs_arr[0]\n",
    "for ii, (result, color, letter) in enumerate(zip(results, colors, letters1)):\n",
    "    ax = axs[ii]\n",
    "    for jj in range(len(result[\"functional_groups\"])):\n",
    "        ax.plot(result[\"jj_vals\"], result[\"all_cba\"][jj, :], color=color, linewidth=0.3, alpha=0.3)\n",
    "    ax.plot(result[\"jj_vals\"], result[\"everything_cba\"], color=color, marker=\"o\", markersize=2, linewidth=1)\n",
    "    ax.tick_params(which=\"both\", direction=\"in\")\n",
    "    ax.set_xticks([0, 5, 10])\n",
    "    ax.set_yticks([0.5, 1.0])\n",
    "    ax.set_ylim(*y_range_top)\n",
    "    if ii != 0:\n",
    "        ax.set_yticklabels([])\n",
    "    ax.text(0.95, 0.95, f\"({letter})\", ha=\"right\", va=\"top\", transform=ax.transAxes)\n",
    "axs[0].set_ylabel(\"CBA\")\n",
    "axs[0].text(0.1, 0.05, \"C\", ha=\"left\", va=\"bottom\", transform=axs[0].transAxes, color=\"black\")\n",
    "axs[1].text(0.1, 0.05, \"N\", ha=\"left\", va=\"bottom\", transform=axs[1].transAxes, color=\"blue\")\n",
    "axs[2].text(0.1, 0.05, \"O\", ha=\"left\", va=\"bottom\", transform=axs[2].transAxes, color=\"red\")\n",
    "axs[3].text(0.1, 0.05, \"CNO\", ha=\"left\", va=\"bottom\", transform=axs[3].transAxes, color=\"grey\")\n",
    "\n",
    "axs = axs_arr[1]\n",
    "for ii, (result, color, letter) in enumerate(zip(results, colors, letters2)):\n",
    "    ax = axs[ii]\n",
    "    ax.tick_params(which=\"both\", direction=\"in\")\n",
    "    ax.bar(jj_vals, np.log10(result[\"everything_lengths\"]), color=color)\n",
    "    ax.set_yticks([3, 5, 7])\n",
    "    ax.set_ylim(*y_range_bottom)\n",
    "    if ii != 0:\n",
    "        ax.set_yticklabels([])\n",
    "    ax.text(0.95, 0.95, f\"({letter})\", ha=\"right\", va=\"top\", transform=ax.transAxes)\n",
    "axs[0].set_ylabel(\"$\\log_{10} N$\")\n",
    "\n",
    "\n",
    "\n",
    "ax = fig.add_subplot(111, frameon=False)\n",
    "plt.tick_params(labelcolor='none', top='off', bottom='off', left='off', right='off')\n",
    "ax.set_xticks([])\n",
    "ax.set_yticks([])\n",
    "ax.set_xlabel(\"Deviating Estimators\", labelpad=20)\n",
    "\n",
    "plt.subplots_adjust(hspace=0.05, wspace=0.1)\n",
    "\n",
    "# plt.show()\n",
    "plt.savefig(\"figures/uq_CUTOFF8.pdf\", bbox_inches=\"tight\", dpi=300)"
   ]
  },
  {
   "cell_type": "code",
   "execution_count": null,
   "id": "d3857898-9e0c-4bfa-bf51-65d0c8548f8e",
   "metadata": {
    "tags": []
   },
   "outputs": [],
   "source": [
    "for ii in np.where(results_N[\"all_cba\"][:, 0] < 0.9)[0]:\n",
    "    print(results_N[\"functional_groups\"][ii].replace(\"_\", \"-\"))"
   ]
  },
  {
   "cell_type": "code",
   "execution_count": null,
   "id": "6f7d0ec4-268a-4b93-846b-a602b6e43ce2",
   "metadata": {
    "tags": []
   },
   "outputs": [],
   "source": [
    "for ii in np.where(results_O[\"all_cba\"][:, 0] < 0.9)[0]:\n",
    "    print(results_O[\"functional_groups\"][ii].replace(\"_\", \"-\"))"
   ]
  }
 ],
 "metadata": {
  "kernelspec": {
   "display_name": "Python 3 (ipykernel)",
   "language": "python",
   "name": "python3"
  },
  "language_info": {
   "codemirror_mode": {
    "name": "ipython",
    "version": 3
   },
   "file_extension": ".py",
   "mimetype": "text/x-python",
   "name": "python",
   "nbconvert_exporter": "python",
   "pygments_lexer": "ipython3",
   "version": "3.9.16"
  }
 },
 "nbformat": 4,
 "nbformat_minor": 5
}
