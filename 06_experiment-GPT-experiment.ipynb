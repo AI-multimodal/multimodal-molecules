{
 "cells": [
  {
   "cell_type": "code",
   "execution_count": null,
   "id": "8e26ca90-97b6-4c51-854d-b4c6a025d6fd",
   "metadata": {},
   "outputs": [],
   "source": [
    "%load_ext autoreload\n",
    "%autoreload 2\n",
    "%config Completer.use_jedi = False"
   ]
  },
  {
   "cell_type": "code",
   "execution_count": null,
   "id": "9ad631a0-0b4d-4731-bdb1-fe084d2657ca",
   "metadata": {
    "tags": []
   },
   "outputs": [],
   "source": [
    "import matplotlib.pyplot as plt\n",
    "import matplotlib as mpl\n",
    "mpl.rcParams['mathtext.fontset'] = 'stix'\n",
    "mpl.rcParams['font.family'] = 'STIXGeneral'\n",
    "mpl.rcParams['text.usetex'] = False\n",
    "plt.rc('xtick', labelsize=12)\n",
    "plt.rc('ytick', labelsize=12)\n",
    "plt.rc('axes', labelsize=12)\n",
    "mpl.rcParams['figure.dpi'] = 300"
   ]
  },
  {
   "cell_type": "code",
   "execution_count": null,
   "id": "cff7d1bc-77be-447c-9bf8-4aa519035a1f",
   "metadata": {
    "tags": []
   },
   "outputs": [],
   "source": [
    "from pathlib import Path\n",
    "import numpy as np\n",
    "from rdkit import Chem\n",
    "import pubchempy as pcp"
   ]
  },
  {
   "cell_type": "code",
   "execution_count": null,
   "id": "bf313500-449a-4e0d-8012-84d175de3f59",
   "metadata": {
    "tags": []
   },
   "outputs": [],
   "source": [
    "from openai import OpenAI\n",
    "import os\n",
    "client = OpenAI(api_key=os.environ[\"CHAT_GPT3_API_KEY\"])"
   ]
  },
  {
   "cell_type": "code",
   "execution_count": null,
   "id": "e5782df7-69f1-4835-9b58-5708847383d3",
   "metadata": {
    "jupyter": {
     "outputs_hidden": true
    },
    "tags": []
   },
   "outputs": [],
   "source": [
    "# Initialize with the system prompt\n",
    "chat_completion = client.chat.completions.create(\n",
    "    messages=[\n",
    "        {\n",
    "            \"role\": \"system\",\n",
    "            \"content\": \"You are a chemist, knowledgable about converting chemical names into molecular smiles strings\",\n",
    "        }\n",
    "    ],\n",
    "    model=\"gpt-3.5-turbo\",\n",
    ")"
   ]
  },
  {
   "cell_type": "code",
   "execution_count": null,
   "id": "9ec69a87-9ba0-435c-94a9-cfaaf093fbcd",
   "metadata": {},
   "outputs": [],
   "source": [
    "chat_completion = client.chat.completions.create(\n",
    "    messages=[\n",
    "        {\n",
    "            \"role\": \"user\",\n",
    "            \"content\": \"Say this is a test\",\n",
    "        }\n",
    "    ],\n",
    "    model=\"gpt-3.5-turbo\",\n",
    ")"
   ]
  },
  {
   "cell_type": "code",
   "execution_count": null,
   "id": "8a0d83c9-a283-4cbd-8046-b4f48d56fb19",
   "metadata": {
    "tags": []
   },
   "outputs": [],
   "source": [
    "def get_completion(prompt, model=\"gpt-3.5-turbo\"):\n",
    "    messages = [{\"role\": \"user\", \"content\": prompt}]\n",
    "    response = openai.ChatCompletion.create(\n",
    "        model=model,\n",
    "        messages=messages,\n",
    "        temperature=0,\n",
    "    )\n",
    "    return response.choices[0].message[\"content\"]"
   ]
  },
  {
   "cell_type": "code",
   "execution_count": null,
   "id": "e78e9e80-edb9-4b96-9753-df796d6b4234",
   "metadata": {
    "jupyter": {
     "outputs_hidden": true
    },
    "tags": []
   },
   "outputs": [],
   "source": [
    "content = get_completion(\"What is the canonical smiles string for alpha formula C5H7Se and chemical name 3-Me-selenophene?\")"
   ]
  },
  {
   "cell_type": "code",
   "execution_count": null,
   "id": "bd1f00e6-52e5-4d80-8d86-ef81f0a75aaf",
   "metadata": {},
   "outputs": [],
   "source": []
  },
  {
   "cell_type": "code",
   "execution_count": null,
   "id": "0d0cc199-54be-407f-adec-8b898ac705b3",
   "metadata": {},
   "outputs": [],
   "source": []
  },
  {
   "cell_type": "code",
   "execution_count": null,
   "id": "e1e13f00-e978-4b4a-b441-285d2847cb94",
   "metadata": {},
   "outputs": [],
   "source": []
  },
  {
   "cell_type": "code",
   "execution_count": null,
   "id": "7aa0d3e8-4374-42bf-80fa-7c8790195548",
   "metadata": {
    "tags": []
   },
   "outputs": [],
   "source": [
    "s = pcp.get_compounds(\"CH3-C4H4Se\", 'formula')"
   ]
  },
  {
   "cell_type": "code",
   "execution_count": null,
   "id": "f2be4181-937c-4fc7-8e9a-934314b5b2d0",
   "metadata": {
    "tags": []
   },
   "outputs": [],
   "source": [
    "s2 = pcp.get_compounds(\"C5H7Se\", \"formula\")"
   ]
  },
  {
   "cell_type": "code",
   "execution_count": null,
   "id": "7ee24b35-469e-471f-b7e4-743c079c61a6",
   "metadata": {
    "tags": []
   },
   "outputs": [],
   "source": [
    "Chem.MolFromSmiles(s2[0].canonical_smiles)"
   ]
  },
  {
   "cell_type": "code",
   "execution_count": null,
   "id": "31e217ba-0f12-45dc-ad4e-03a463471e6d",
   "metadata": {
    "tags": []
   },
   "outputs": [],
   "source": [
    "Chem.MolFromSmiles(\"CC1=C[Se]C=C1\")"
   ]
  },
  {
   "cell_type": "code",
   "execution_count": null,
   "id": "155173eb-c511-4852-b01c-1ca7420605ae",
   "metadata": {
    "tags": []
   },
   "outputs": [],
   "source": [
    "Chem.MolFromSmiles(\"CC1=CSeC=C1\")"
   ]
  },
  {
   "cell_type": "code",
   "execution_count": null,
   "id": "d23904c0-01b2-461c-954a-97ca6bdff179",
   "metadata": {},
   "outputs": [],
   "source": []
  },
  {
   "cell_type": "code",
   "execution_count": null,
   "id": "4b371dd2-de2a-4368-a702-e4867170653a",
   "metadata": {
    "tags": []
   },
   "outputs": [],
   "source": [
    "Chem.MolFromSmiles(s[0].canonical_smiles)"
   ]
  },
  {
   "cell_type": "code",
   "execution_count": null,
   "id": "17acaa41-da48-4580-bfc8-3052dbdaea98",
   "metadata": {
    "tags": []
   },
   "outputs": [],
   "source": [
    "import sys\n",
    "sys.path.append(\"../NMC/NSLS-II-ISS-xview\")\n",
    "from xview.xasproject.xasproject import XASDataSet"
   ]
  },
  {
   "cell_type": "code",
   "execution_count": null,
   "id": "30035c34-79b7-4931-8116-1cb56f80a8d8",
   "metadata": {
    "tags": []
   },
   "outputs": [],
   "source": [
    "# Not super proud of this code but it does work\n",
    "def parse_file(fname):\n",
    "    \n",
    "    with open(fname, \"r\") as f:\n",
    "        lines = [xx.strip() for xx in f.readlines()]\n",
    "        \n",
    "    if len(lines) == 0:\n",
    "        return None, None\n",
    "\n",
    "    metadata = {\"total\": []}\n",
    "    data = []\n",
    "    for ii, line in enumerate(lines):\n",
    "        \n",
    "        if \"Edge\" in line:\n",
    "            if \"C \" not in line and \"N \" not in line and \"O \" not in line:\n",
    "                return None, None\n",
    "            if \"1s\" not in line:\n",
    "                return None, None\n",
    "            metadata[\"edge\"] = line\n",
    "\n",
    "            \n",
    "        if line == \"\":\n",
    "            ii += 1\n",
    "            break\n",
    "        if line[0] == \"*\":\n",
    "            metadata[\"total\"].append(line)\n",
    "            continue\n",
    "        break\n",
    "    \n",
    "    for jj in range(ii, len(lines)):\n",
    "        data.append(lines[jj])\n",
    "\n",
    "    # print([float(yy.strip()) for yy in data[0].split(\"\\t\")])\n",
    "    if \"\\t\" in data[0]:\n",
    "        data = [[float(yy.strip()) for yy in xx.split(\"\\t\")] for xx in data]\n",
    "    else:\n",
    "        data = [[float(yy.replace(\",\", \"\").replace(\"\\t\", \" \")) for yy in xx.split(\" \") if yy != \"\"] for xx in data]\n",
    "\n",
    "    L = len(data[0])\n",
    "    new_data = []\n",
    "    for line in data:\n",
    "        if len(line) < L:\n",
    "            line = line + [np.nan] * (L - len(line))\n",
    "        new_data.append(line)\n",
    "    \n",
    "    \n",
    "    return np.array(new_data), metadata"
   ]
  },
  {
   "cell_type": "code",
   "execution_count": null,
   "id": "559cd95a-2165-444d-aaff-9a266239dadd",
   "metadata": {
    "tags": []
   },
   "outputs": [],
   "source": [
    "files = Path(\"experiment/data\").glob(\"*.os\")\n",
    "data = {}\n",
    "metadata = {}\n",
    "for file in files:\n",
    "    if \"ab-0nokk\" in file.stem:\n",
    "        continue\n",
    "    d, m = parse_file(file)\n",
    "    if d is None:\n",
    "        continue\n",
    "    data[file.stem] = d\n",
    "    metadata[file.stem] = m"
   ]
  },
  {
   "cell_type": "markdown",
   "id": "66b6fae4-ad98-4ca4-b7f5-3f2daf05d8a5",
   "metadata": {},
   "source": [
    "# Look at the Carbon K-edge"
   ]
  },
  {
   "cell_type": "code",
   "execution_count": null,
   "id": "1eb022e6-823d-4d47-9b88-c9a898edb7e8",
   "metadata": {
    "tags": []
   },
   "outputs": [],
   "source": [
    "carbon_data = []"
   ]
  },
  {
   "cell_type": "code",
   "execution_count": null,
   "id": "76dd387f-d581-4994-b006-1b5a4851b0da",
   "metadata": {},
   "outputs": [],
   "source": []
  },
  {
   "cell_type": "code",
   "execution_count": null,
   "id": "c5fe94b7-e94a-4fcb-b802-a0f42eb1c3b2",
   "metadata": {
    "tags": []
   },
   "outputs": [],
   "source": [
    "for key, value in metadata.items():\n",
    "    if \" C \" in value[\"edge\"]:\n",
    "        carbon_data.append(data[key])"
   ]
  },
  {
   "cell_type": "code",
   "execution_count": null,
   "id": "0c6db79f-65de-4049-9068-00d339f45dbe",
   "metadata": {
    "tags": []
   },
   "outputs": [],
   "source": [
    "for key, value in metadata.items():\n",
    "    print(value[\"total\"])\n",
    "    break"
   ]
  },
  {
   "cell_type": "code",
   "execution_count": null,
   "id": "bd6c5b1e-974c-4254-b577-a81b77834316",
   "metadata": {
    "tags": []
   },
   "outputs": [],
   "source": [
    "a_norm1=50\n",
    "a_norm2=600"
   ]
  },
  {
   "cell_type": "code",
   "execution_count": null,
   "id": "9797d68f-c260-427d-aec3-5650cca705a9",
   "metadata": {
    "tags": []
   },
   "outputs": [],
   "source": [
    "fig, ax = plt.subplots(1, 1, figsize=(3, 2))\n",
    "\n",
    "for d in carbon_data[:10]:\n",
    "    \n",
    "    try:\n",
    "        a=XASDataSet(energy=d[:, 0], mu=d[:, 1])\n",
    "        a.norm1=a_norm1\n",
    "        a.norm2=a_norm2\n",
    "        a.normalize_force()\n",
    "    except ValueError:\n",
    "        print(\"problem\")\n",
    "        continue\n",
    "    norm_spectrum = {}\n",
    "    norm_spectrum['energy']=list(a.energy)\n",
    "    norm_spectrum['mu']=list(a.flat)\n",
    "    # norm_spectrum['metadata']=dict(data[i]['metadata'])\n",
    "    # norm_spectra.append(norm_spectrum)\n",
    "    \n",
    "    \n",
    "    # L = len(d[:, 1])\n",
    "    # m = d[-L//10:, 1]\n",
    "    # y = d[:, 1] / m.mean()\n",
    "    # if np.any(y > 5):\n",
    "    #     continue\n",
    "    # ax.plot(d[:, 0], y, alpha=0.5, color=\"black\")\n",
    "    \n",
    "    ax.plot(norm_spectrum[\"energy\"], norm_spectrum[\"mu\"], color=\"black\", alpha=0.5)\n",
    "    \n",
    "ax.set_xlim(280, 300)\n",
    "# ax.set_ylim(0, 6)\n",
    "plt.show()"
   ]
  },
  {
   "cell_type": "code",
   "execution_count": null,
   "id": "28b179f2-8b82-4a01-8444-2091a227dd6b",
   "metadata": {},
   "outputs": [],
   "source": []
  }
 ],
 "metadata": {
  "kernelspec": {
   "display_name": "Python 3 (ipykernel)",
   "language": "python",
   "name": "python3"
  },
  "language_info": {
   "codemirror_mode": {
    "name": "ipython",
    "version": 3
   },
   "file_extension": ".py",
   "mimetype": "text/x-python",
   "name": "python",
   "nbconvert_exporter": "python",
   "pygments_lexer": "ipython3",
   "version": "3.11.0"
  }
 },
 "nbformat": 4,
 "nbformat_minor": 5
}
