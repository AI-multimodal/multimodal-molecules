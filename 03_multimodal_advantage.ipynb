{
 "cells": [
  {
   "cell_type": "code",
   "execution_count": null,
   "id": "8e26ca90-97b6-4c51-854d-b4c6a025d6fd",
   "metadata": {},
   "outputs": [],
   "source": [
    "%load_ext autoreload\n",
    "%autoreload 2\n",
    "%config Completer.use_jedi = False"
   ]
  },
  {
   "cell_type": "code",
   "execution_count": null,
   "id": "9ad631a0-0b4d-4731-bdb1-fe084d2657ca",
   "metadata": {
    "tags": []
   },
   "outputs": [],
   "source": [
    "from copy import deepcopy\n",
    "from pathlib import Path\n",
    "from pprint import pprint\n",
    "\n",
    "import matplotlib.pyplot as plt\n",
    "import matplotlib as mpl\n",
    "from matplotlib.markers import MarkerStyle\n",
    "import pandas as pd\n",
    "import numpy as np\n",
    "from sklearn.metrics import balanced_accuracy_score, accuracy_score, f1_score\n",
    "from IPython.display import clear_output\n",
    "\n",
    "mpl.rcParams['mathtext.fontset'] = 'stix'\n",
    "mpl.rcParams['font.family'] = 'STIXGeneral'\n",
    "mpl.rcParams['text.usetex'] = False\n",
    "plt.rc('xtick', labelsize=12)\n",
    "plt.rc('ytick', labelsize=12)\n",
    "plt.rc('axes', labelsize=12)\n",
    "mpl.rcParams['figure.dpi'] = 300"
   ]
  },
  {
   "cell_type": "code",
   "execution_count": null,
   "id": "80def666-d7b0-4d4a-9755-16a613d04e31",
   "metadata": {
    "tags": []
   },
   "outputs": [],
   "source": [
    "single_modalities = [\"C-N-O_only_C\", \"C-N-O_only_N\", \"C-N-O_only_O\"]\n",
    "multi_modalities = [\"C-N-O\"]\n",
    "\n",
    "# Core data\n",
    "df = pd.read_csv(\"data/23-05-13-multimodal-single-estimator/C-XANES_N-XANES_O-XANES.csv\", index_col=0)\n",
    "df[\"Best SM\"] = df[[*single_modalities]].max(axis=1)\n",
    "df[\"Best MM\"] = df[[*multi_modalities]].max(axis=1)\n",
    "df[\"d\"] = df[\"Best MM\"] - df[\"Best SM\"]\n",
    "df = df.drop(columns=[\"Best SM\", \"Best MM\"])\n",
    "\n",
    "# CUTOFF8 data\n",
    "df_CUTOFF8 = pd.read_csv(\"data/23-05-13-multimodal-single-estimator/C-XANES_N-XANES_O-XANES-CUTOFF8.csv\", index_col=0)\n",
    "df_CUTOFF8[\"Best SM\"] = df_CUTOFF8[[*single_modalities]].max(axis=1)\n",
    "df_CUTOFF8[\"Best MM\"] = df_CUTOFF8[[*multi_modalities]].max(axis=1)\n",
    "df_CUTOFF8[\"d\"] = df_CUTOFF8[\"Best MM\"] - df_CUTOFF8[\"Best SM\"]\n",
    "df_CUTOFF8 = df_CUTOFF8.drop(columns=[\"Best SM\", \"Best MM\"])"
   ]
  },
  {
   "cell_type": "code",
   "execution_count": null,
   "id": "6f7e6669-9173-4738-a434-952963e14640",
   "metadata": {
    "tags": []
   },
   "outputs": [],
   "source": [
    "df = df.sort_values(by=[\"d\"], ascending=False)\n",
    "df_CUTOFF8 = df_CUTOFF8.sort_values(by=[\"d\"], ascending=False)"
   ]
  },
  {
   "cell_type": "code",
   "execution_count": null,
   "id": "3ad35a3b-4124-4624-9c54-91b81d395baa",
   "metadata": {
    "tags": []
   },
   "outputs": [],
   "source": [
    "# df_plot = df_CUTOFF8.style.background_gradient(cmap='viridis')\n",
    "# df_plot"
   ]
  },
  {
   "cell_type": "code",
   "execution_count": null,
   "id": "46b508b0-532b-4700-a028-b5395357efcc",
   "metadata": {
    "tags": []
   },
   "outputs": [],
   "source": [
    "N_containing_functional_groups = [\n",
    "    '1,2-Aminoalcohol',\n",
    "    'Lactam',\n",
    "    'Amide',\n",
    "    'Imidolactone',\n",
    "    'Heterocyclic',\n",
    "    'Hetero_N_basic_H',\n",
    "    'Amine',\n",
    "    'Hetero_N_nonbasic',\n",
    "    'Primary_arom_amine',\n",
    "    'Tertiary_aliph_amine',\n",
    "    'NH_aziridine',\n",
    "    'Heteroaromatic',\n",
    "    'Secondary_aliph_amine',\n",
    "    'Nitrile',\n",
    "]"
   ]
  },
  {
   "cell_type": "code",
   "execution_count": null,
   "id": "44dcbb55-5430-468d-ae2a-8ae629ea779a",
   "metadata": {
    "tags": []
   },
   "outputs": [],
   "source": [
    "O_containing_functional_groups = [\n",
    "    '1,2-Aminoalcohol',\n",
    "    'Secondary_alcohol',\n",
    "    'Carbonic_acid_derivatives',\n",
    "    'Tertiary_alcohol',\n",
    "    'Lactam',\n",
    "    'Primary_alcohol',\n",
    "    'Aldehyde',\n",
    "    'Ketone',\n",
    "    'Carboxylic_acid_derivative',\n",
    "    'Epoxide',\n",
    "    'Imidolactone',\n",
    "    'Heterocyclic',\n",
    "    'Dialkylether',\n",
    "    'Phenol',\n",
    "    'Heteroaromatic',\n",
    "    'Hetero_O',\n",
    "    'Alcohol',\n",
    "]"
   ]
  },
  {
   "cell_type": "code",
   "execution_count": null,
   "id": "5cfb3002-5765-43fb-b93c-b8dc91cdcb84",
   "metadata": {
    "tags": []
   },
   "outputs": [],
   "source": [
    "def make_plot(df):\n",
    "    \n",
    "    # fig, axs = plt.subplots(2, 1, figsize=(8, 2), gridspec_kw={'height_ratios': [1, 3]}, sharex=True)\n",
    "    fig, ax = plt.subplots(1, 1, figsize=(7, 1))\n",
    "\n",
    "    x = [ii for ii in range(len(df.index))]\n",
    "\n",
    "    ax.scatter(x, df[\"C-N-O\"], color=\"grey\", label=r\"$\\mathcal{D}_\\mathrm{CNO}$\")\n",
    "\n",
    "\n",
    "    s = 10\n",
    "    ax.scatter(x, df[\"C-N-O_only_C\"], color=\"black\", s=s, label=r\"$\\mathcal{D}_\\mathrm{CNO}^\\mathrm{[C]}$\", linewidth=0.5)\n",
    "\n",
    "    for ii, (fg, xx) in enumerate(zip(df[\"functional_group\"], x)):\n",
    "        ax.scatter(\n",
    "            xx, df[df[\"functional_group\"] == fg][\"C-N-O_only_N\"],\n",
    "            s=s, label=r\"$\\mathcal{D}_\\mathrm{CNO}^\\mathrm{[N]}$\" if ii == 0 else None, facecolors=\"white\" if fg not in N_containing_functional_groups else \"blue\", edgecolors=\"blue\",\n",
    "            linewidth=.5\n",
    "        )\n",
    "\n",
    "    for ii, (fg, xx) in enumerate(zip(df[\"functional_group\"], x)):\n",
    "        ax.scatter(\n",
    "            xx, df[df[\"functional_group\"] == fg][\"C-N-O_only_O\"],\n",
    "            s=s, label=r\"$\\mathcal{D}_\\mathrm{CNO}^\\mathrm{[O]}$\" if ii == 0 else None, facecolors=\"white\" if fg not in O_containing_functional_groups else \"red\", edgecolors=\"red\",\n",
    "            linewidth=.5\n",
    "        )\n",
    "\n",
    "\n",
    "    labels = [xx.replace(\"_\", \" \") for xx in df[\"functional_group\"]]\n",
    "    ax.set_xticks(x)\n",
    "    ax.set_xticklabels(labels, rotation=45, ha='right', fontsize=8)\n",
    "\n",
    "    ax.tick_params(which='both', direction='in', bottom=True, left=True, top=False, right=False)\n",
    "    for xx in x:\n",
    "        ax.axvline(xx, zorder=-1, linewidth=0.5, color=\"black\", alpha=0.2)\n",
    "\n",
    "    ax.set_ylabel(\"CBA\", fontsize=10)\n",
    "\n",
    "    ax.legend(frameon=True, ncol=4, fontsize=6, loc=\"lower center\", bbox_to_anchor=(1, -1))\n",
    "    \n",
    "    \n",
    "\n",
    "    \n",
    "    ax2 = ax.twinx() \n",
    "    \n",
    "    ax2.scatter(x, df[\"d\"] * 100, zorder=-1, marker=\"^\", color=\"green\", s=5)\n",
    "    # ax.axhline(df[\"d\"].mean() * 100, color=\"grey\", zorder=-1, linewidth=0.5)\n",
    "    # ax.bar(x, df[\"d8\"] * 100, color=\"purple\", width=0.5, alpha=1)\n",
    "    # ax.axhline(df[\"d8\"].mean() * 100, color=\"purple\", zorder=-1, linewidth=0.5)\n",
    "    ax2.set_ylabel(\"Adv (%)\", fontsize=10, color=\"green\")\n",
    "    ax2.tick_params(which='both', direction='in', bottom=False, left=False, top=True, right=True)\n",
    "    \n",
    "    return ax, ax2"
   ]
  },
  {
   "cell_type": "code",
   "execution_count": null,
   "id": "a5cbee10-5933-4a96-82e8-812f44f4a715",
   "metadata": {
    "tags": []
   },
   "outputs": [],
   "source": [
    "axs = make_plot(df)\n",
    "\n",
    "axs[0].set_yticks([0.7, 0.8, 0.9, 1.0])\n",
    "axs[0].set_ylim(0.68, 1.02)\n",
    "\n",
    "axs[1].set_yticks([0, 3, 6])\n",
    "\n",
    "# plt.show()\n",
    "plt.savefig(\"figures/multimodal_advantage.svg\", bbox_inches=\"tight\", dpi=300)"
   ]
  },
  {
   "cell_type": "code",
   "execution_count": null,
   "id": "9f629fca-7080-46f2-ade1-1b41d000a5ea",
   "metadata": {},
   "outputs": [],
   "source": [
    "axs = make_plot(df_CUTOFF8)\n",
    "\n",
    "axs[0].set_yticks([0.6, 0.8, 1.0])\n",
    "axs[0].set_ylim(0.53, 1.02)\n",
    "\n",
    "axs[1].set_yticks([0, 3, 6])\n",
    "\n",
    "plt.show()\n",
    "# plt.savefig(\"figures/multimodal_advantage_CUTOFF8.pdf\", bbox_inches=\"tight\", dpi=300)"
   ]
  },
  {
   "cell_type": "markdown",
   "id": "0e2c08a0-0cb2-4f7f-9b54-45a45d43f5a7",
   "metadata": {},
   "source": [
    "# SI"
   ]
  },
  {
   "cell_type": "code",
   "execution_count": null,
   "id": "55a299ec-70d6-4e4a-8fb4-871a28d92c62",
   "metadata": {
    "tags": []
   },
   "outputs": [],
   "source": [
    "# Core data doubles\n",
    "df_doubles = pd.read_csv(\"data/23-05-13-multimodal-single-estimator/C-XANES_N-XANES_O-XANES_doubles.csv\", index_col=0)\n",
    "df_doubles.drop(columns=[\"functional_group\"], inplace=True)\n",
    "df_with_doubles = pd.concat([df, df_doubles], axis=1)\n",
    "df_with_doubles.drop(columns=[\"d\"], inplace=True)\n",
    "df_with_doubles = df_with_doubles.sort_values('functional_group')\n",
    "# df[\"Best SM\"] = df[[*single_modalities]].max(axis=1)\n",
    "# df[\"Best MM\"] = df[[*multi_modalities]].max(axis=1)\n",
    "# df[\"d\"] = df[\"Best MM\"] - df[\"Best SM\"]\n",
    "# df = df.drop(columns=[\"Best SM\", \"Best MM\"])"
   ]
  },
  {
   "cell_type": "code",
   "execution_count": null,
   "id": "67d61ef9-a573-4afa-97b3-6ade181500b4",
   "metadata": {
    "tags": []
   },
   "outputs": [],
   "source": [
    "fig, ax = plt.subplots(1, 1, figsize=(7, 5))\n",
    "\n",
    "x = [ii for ii in range(len(df.index))]\n",
    "\n",
    "ax.scatter(x, df_with_doubles[\"C-N-O\"], color=\"grey\", label=r\"$\\mathcal{D}_\\mathrm{CNO}$\")\n",
    "\n",
    "key = \"C-N-O_only_C-N\"\n",
    "ax.scatter(x, df_with_doubles[key], color=\"black\", edgecolor=\"none\", marker=MarkerStyle(\"o\", fillstyle=\"left\"))\n",
    "ax.scatter(x, df_with_doubles[key], color=\"blue\", edgecolor=\"none\", label=r\"$\\mathcal{D}_\\mathrm{CNO}^\\mathrm{[CN]}$\", marker=MarkerStyle(\"o\", fillstyle=\"right\"))\n",
    "\n",
    "key = \"C-N-O_only_C-O\"\n",
    "ax.scatter(x, df_with_doubles[key], color=\"black\", edgecolor=\"none\", marker=MarkerStyle(\"o\", fillstyle=\"left\"))\n",
    "ax.scatter(x, df_with_doubles[key], color=\"red\", edgecolor=\"none\", label=r\"$\\mathcal{D}_\\mathrm{CNO}^\\mathrm{[CO]}$\", marker=MarkerStyle(\"o\", fillstyle=\"right\"))\n",
    "\n",
    "key = \"C-N-O_only_N-O\"\n",
    "ax.scatter(x, df_with_doubles[key], color=\"blue\", edgecolor=\"none\", marker=MarkerStyle(\"o\", fillstyle=\"left\"))\n",
    "ax.scatter(x, df_with_doubles[key], color=\"red\", edgecolor=\"none\", label=r\"$\\mathcal{D}_\\mathrm{CNO}^\\mathrm{[NO]}$\", marker=MarkerStyle(\"o\", fillstyle=\"right\"))\n",
    "\n",
    "key = \"C-N-O_only_C\"\n",
    "ax.scatter(x, df_with_doubles[key], label=r\"$\\mathcal{D}_\\mathrm{CNO}^\\mathrm{[C]}$\", color=\"black\", edgecolor=\"none\")\n",
    "\n",
    "key = \"C-N-O_only_N\"\n",
    "ax.scatter(x, df_with_doubles[key], label=r\"$\\mathcal{D}_\\mathrm{CNO}^\\mathrm{[N]}$\", color=\"blue\", edgecolor=\"none\")\n",
    "\n",
    "key = \"C-N-O_only_O\"\n",
    "ax.scatter(x, df_with_doubles[key], label=r\"$\\mathcal{D}_\\mathrm{CNO}^\\mathrm{[O]}$\", color=\"red\", edgecolor=\"none\")\n",
    "\n",
    "labels = [xx.replace(\"_\", \" \") for xx in df_with_doubles[\"functional_group\"]]\n",
    "ax.set_xticks(x)\n",
    "ax.set_xticklabels(labels, rotation=45, ha='right', fontsize=8)\n",
    "\n",
    "ax.tick_params(which='both', direction='in', bottom=True, left=True, top=False, right=False)\n",
    "for xx in x:\n",
    "    ax.axvline(xx, zorder=-1, linewidth=0.5, color=\"black\", alpha=0.2)\n",
    "\n",
    "ax.legend(ncol=2, framealpha=1)\n",
    "\n",
    "ax.set_ylabel(\"CBA\", fontsize=10)\n",
    "\n",
    "plt.savefig(\"figures/SI_multimodal_advantage-2.svg\", bbox_inches=\"tight\", dpi=300)"
   ]
  },
  {
   "cell_type": "code",
   "execution_count": null,
   "id": "9067d467-cad4-444b-981f-cdaa057185df",
   "metadata": {
    "tags": []
   },
   "outputs": [],
   "source": []
  },
  {
   "cell_type": "code",
   "execution_count": null,
   "id": "abaee36f-8437-414c-bac0-8b19d1e74c51",
   "metadata": {},
   "outputs": [],
   "source": []
  }
 ],
 "metadata": {
  "kernelspec": {
   "display_name": "Python 3 (ipykernel)",
   "language": "python",
   "name": "python3"
  },
  "language_info": {
   "codemirror_mode": {
    "name": "ipython",
    "version": 3
   },
   "file_extension": ".py",
   "mimetype": "text/x-python",
   "name": "python",
   "nbconvert_exporter": "python",
   "pygments_lexer": "ipython3",
   "version": "3.11.6"
  }
 },
 "nbformat": 4,
 "nbformat_minor": 5
}
