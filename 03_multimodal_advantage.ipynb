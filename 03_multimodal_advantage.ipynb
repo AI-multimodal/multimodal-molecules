{
 "cells": [
  {
   "cell_type": "code",
   "execution_count": null,
   "id": "8e26ca90-97b6-4c51-854d-b4c6a025d6fd",
   "metadata": {},
   "outputs": [],
   "source": [
    "%load_ext autoreload\n",
    "%autoreload 2\n",
    "%config Completer.use_jedi = False"
   ]
  },
  {
   "cell_type": "code",
   "execution_count": null,
   "id": "9ad631a0-0b4d-4731-bdb1-fe084d2657ca",
   "metadata": {
    "tags": []
   },
   "outputs": [],
   "source": [
    "from pathlib import Path\n",
    "from pprint import pprint\n",
    "\n",
    "import matplotlib.pyplot as plt\n",
    "import matplotlib as mpl\n",
    "import pandas as pd\n",
    "import numpy as np\n",
    "from sklearn.metrics import balanced_accuracy_score, accuracy_score\n",
    "from IPython.display import clear_output\n",
    "\n",
    "mpl.rcParams['mathtext.fontset'] = 'stix'\n",
    "mpl.rcParams['font.family'] = 'STIXGeneral'\n",
    "mpl.rcParams['text.usetex'] = False\n",
    "plt.rc('xtick', labelsize=12)\n",
    "plt.rc('ytick', labelsize=12)\n",
    "plt.rc('axes', labelsize=12)\n",
    "mpl.rcParams['figure.dpi'] = 300"
   ]
  },
  {
   "cell_type": "code",
   "execution_count": null,
   "id": "2edeb873-f49e-4b8b-9696-614595f9d8ea",
   "metadata": {
    "tags": []
   },
   "outputs": [],
   "source": [
    "!which python"
   ]
  },
  {
   "cell_type": "code",
   "execution_count": null,
   "id": "80def666-d7b0-4d4a-9755-16a613d04e31",
   "metadata": {
    "tags": []
   },
   "outputs": [],
   "source": [
    "single_modalities = [\"C-N-O_only_C\", \"C-N-O_only_N\", \"C-N-O_only_O\"]\n",
    "multi_modalities = [\"C-N-O\"]\n",
    "\n",
    "# Core data\n",
    "df = pd.read_csv(\"data/23-05-13-multimodal-single-estimator/C-XANES_N-XANES_O-XANES.csv\", index_col=0)\n",
    "df[\"Best SM\"] = df[[*single_modalities]].max(axis=1)\n",
    "df[\"Best MM\"] = df[[*multi_modalities]].max(axis=1)\n",
    "df[\"d\"] = df[\"Best MM\"] - df[\"Best SM\"]\n",
    "df = df.drop(columns=[\"Best SM\", \"Best MM\"])\n",
    "\n",
    "# CUTOFF8 data\n",
    "df_CUTOFF8 = pd.read_csv(\"data/23-05-13-multimodal-single-estimator/C-XANES_N-XANES_O-XANES-CUTOFF8.csv\", index_col=0)\n",
    "df_CUTOFF8[\"Best SM\"] = df_CUTOFF8[[*single_modalities]].max(axis=1)\n",
    "df_CUTOFF8[\"Best MM\"] = df_CUTOFF8[[*multi_modalities]].max(axis=1)\n",
    "df_CUTOFF8[\"d\"] = df_CUTOFF8[\"Best MM\"] - df_CUTOFF8[\"Best SM\"]\n",
    "df_CUTOFF8 = df_CUTOFF8.drop(columns=[\"Best SM\", \"Best MM\"])"
   ]
  },
  {
   "cell_type": "code",
   "execution_count": null,
   "id": "6f7e6669-9173-4738-a434-952963e14640",
   "metadata": {
    "tags": []
   },
   "outputs": [],
   "source": [
    "df = df.sort_values(by=[\"d\"], ascending=False)\n",
    "df_CUTOFF8 = df_CUTOFF8.sort_values(by=[\"d\"], ascending=False)"
   ]
  },
  {
   "cell_type": "code",
   "execution_count": null,
   "id": "3ad35a3b-4124-4624-9c54-91b81d395baa",
   "metadata": {
    "tags": []
   },
   "outputs": [],
   "source": [
    "df_plot = df_CUTOFF8.style.background_gradient(cmap='viridis')\n",
    "df_plot"
   ]
  },
  {
   "cell_type": "code",
   "execution_count": null,
   "id": "46b508b0-532b-4700-a028-b5395357efcc",
   "metadata": {
    "tags": []
   },
   "outputs": [],
   "source": [
    "N_containing_functional_groups = [\n",
    "    '1,2-Aminoalcohol',\n",
    "    'Lactam',\n",
    "    'Amide',\n",
    "    'Imidolactone',\n",
    "    'Heterocyclic',\n",
    "    'Hetero_N_basic_H',\n",
    "    'Amine',\n",
    "    'Hetero_N_nonbasic',\n",
    "    'Primary_arom_amine',\n",
    "    'Tertiary_aliph_amine',\n",
    "    'NH_aziridine',\n",
    "    'Heteroaromatic',\n",
    "    'Secondary_aliph_amine',\n",
    "    'Nitrile',\n",
    "]"
   ]
  },
  {
   "cell_type": "code",
   "execution_count": null,
   "id": "44dcbb55-5430-468d-ae2a-8ae629ea779a",
   "metadata": {
    "tags": []
   },
   "outputs": [],
   "source": [
    "O_containing_functional_groups = [\n",
    "    '1,2-Aminoalcohol',\n",
    "    'Secondary_alcohol',\n",
    "    'Carbonic_acid_derivatives',\n",
    "    'Tertiary_alcohol',\n",
    "    'Lactam',\n",
    "    'Primary_alcohol',\n",
    "    'Aldehyde',\n",
    "    'Ketone',\n",
    "    'Carboxylic_acid_derivative',\n",
    "    'Epoxide',\n",
    "    'Imidolactone',\n",
    "    'Heterocyclic',\n",
    "    'Dialkylether',\n",
    "    'Phenol',\n",
    "    'Heteroaromatic',\n",
    "    'Hetero_O',\n",
    "    'Alcohol',\n",
    "]"
   ]
  },
  {
   "cell_type": "code",
   "execution_count": null,
   "id": "5cfb3002-5765-43fb-b93c-b8dc91cdcb84",
   "metadata": {
    "tags": []
   },
   "outputs": [],
   "source": [
    "def make_plot(df):\n",
    "    \n",
    "    fig, axs = plt.subplots(2, 1, figsize=(8, 2), gridspec_kw={'height_ratios': [1, 3]}, sharex=True)\n",
    "\n",
    "    x = [ii for ii in range(len(df.index))]\n",
    "\n",
    "    ax = axs[0]\n",
    "\n",
    "    ax.bar(x, df[\"d\"] * 100, color=\"grey\")\n",
    "    # ax.axhline(df[\"d\"].mean() * 100, color=\"grey\", zorder=-1, linewidth=0.5)\n",
    "    # ax.bar(x, df[\"d8\"] * 100, color=\"purple\", width=0.5, alpha=1)\n",
    "    # ax.axhline(df[\"d8\"].mean() * 100, color=\"purple\", zorder=-1, linewidth=0.5)\n",
    "    ax.set_ylabel(\"Adv (%)\", fontsize=10)\n",
    "    ax.tick_params(which='both', direction='in', bottom=False, left=True, top=True, right=True)\n",
    "    for xx in x:\n",
    "        ax.axvline(xx, zorder=-1, linewidth=0.5, color=\"black\", alpha=0.2)\n",
    "\n",
    "    ax = axs[1]\n",
    "\n",
    "    ax.scatter(x, df[\"C-N-O\"], color=\"grey\", label=\"C$+$N$+$O\")\n",
    "\n",
    "\n",
    "    s = 10\n",
    "    ax.scatter(x, df[\"C-N-O_only_C\"], color=\"black\", s=s, label=\"C\")\n",
    "\n",
    "    for ii, (fg, xx) in enumerate(zip(df[\"functional_group\"], x)):\n",
    "        ax.scatter(\n",
    "            xx, df[df[\"functional_group\"] == fg][\"C-N-O_only_N\"],\n",
    "            s=s, label=\"N\" if ii == 0 else None, facecolors=\"white\" if fg not in N_containing_functional_groups else \"blue\", edgecolors=\"blue\", linewidth=.5\n",
    "        )\n",
    "\n",
    "    for ii, (fg, xx) in enumerate(zip(df[\"functional_group\"], x)):\n",
    "        ax.scatter(\n",
    "            xx, df[df[\"functional_group\"] == fg][\"C-N-O_only_O\"],\n",
    "            s=s, label=\"O\" if ii == 0 else None, facecolors=\"white\" if fg not in O_containing_functional_groups else \"red\", edgecolors=\"red\", linewidth=.5\n",
    "        )\n",
    "\n",
    "\n",
    "    labels = [xx.replace(\"_\", \" \") for xx in df[\"functional_group\"]]\n",
    "    ax.set_xticks(x)\n",
    "    ax.set_xticklabels(labels, rotation=45, ha='right', fontsize=8)\n",
    "\n",
    "    ax.tick_params(which='both', direction='in', bottom=True, left=True, top=False, right=True)\n",
    "    for xx in x:\n",
    "        ax.axvline(xx, zorder=-1, linewidth=0.5, color=\"black\", alpha=0.2)\n",
    "\n",
    "    ax.set_ylabel(\"CBA\", fontsize=10)\n",
    "\n",
    "    ax.legend(frameon=True, ncol=4, fontsize=6, loc=\"lower center\")\n",
    "    \n",
    "    return axs"
   ]
  },
  {
   "cell_type": "code",
   "execution_count": null,
   "id": "a5cbee10-5933-4a96-82e8-812f44f4a715",
   "metadata": {
    "tags": []
   },
   "outputs": [],
   "source": [
    "axs = make_plot(df)\n",
    "\n",
    "axs[1].set_yticks([0.7, 0.8, 0.9, 1.0])\n",
    "axs[1].set_ylim(0.68, 1.02)\n",
    "\n",
    "# plt.show()\n",
    "plt.savefig(\"figures/multimodal_advantage.pdf\", bbox_inches=\"tight\", dpi=300)"
   ]
  },
  {
   "cell_type": "code",
   "execution_count": null,
   "id": "9067d467-cad4-444b-981f-cdaa057185df",
   "metadata": {
    "tags": []
   },
   "outputs": [],
   "source": [
    "axs = make_plot(df_CUTOFF8)\n",
    "\n",
    "axs[1].set_yticks([0.6, 0.8, 1.0])\n",
    "axs[1].set_ylim(0.53, 1.02)\n",
    "\n",
    "# plt.show()\n",
    "plt.savefig(\"figures/multimodal_advantage_CUTOFF8.pdf\", bbox_inches=\"tight\", dpi=300)"
   ]
  },
  {
   "cell_type": "code",
   "execution_count": null,
   "id": "f3ae055b-3b57-4e70-b9a8-1217d057e227",
   "metadata": {
    "tags": []
   },
   "outputs": [],
   "source": [
    "df[\"d\"].mean() * 100"
   ]
  },
  {
   "cell_type": "code",
   "execution_count": null,
   "id": "506ac5fb-f87a-41e2-867a-7f8eef96d45b",
   "metadata": {
    "tags": []
   },
   "outputs": [],
   "source": [
    "df[\"d8\"].mean() * 100"
   ]
  },
  {
   "cell_type": "code",
   "execution_count": null,
   "id": "1e7db326-7c6c-439d-a694-d5bf4a621492",
   "metadata": {
    "tags": []
   },
   "outputs": [],
   "source": [
    "mu = df[\"C-N-O\"].mean()\n",
    "sd = df[\"C-N-O\"].std()\n",
    "print(f\"{mu:.02f} +/- {sd:.02f}\")"
   ]
  },
  {
   "cell_type": "code",
   "execution_count": null,
   "id": "8cf7394e-491c-42bd-ab5a-bec378a09991",
   "metadata": {
    "tags": []
   },
   "outputs": [],
   "source": [
    "mu = df_CUTOFF8[\"C-N-O\"].mean()\n",
    "sd = df_CUTOFF8[\"C-N-O\"].std()\n",
    "print(f\"{mu:.02f} +/- {sd:.02f}\")"
   ]
  }
 ],
 "metadata": {
  "kernelspec": {
   "display_name": "Python 3 (ipykernel)",
   "language": "python",
   "name": "python3"
  },
  "language_info": {
   "codemirror_mode": {
    "name": "ipython",
    "version": 3
   },
   "file_extension": ".py",
   "mimetype": "text/x-python",
   "name": "python",
   "nbconvert_exporter": "python",
   "pygments_lexer": "ipython3",
   "version": "3.9.16"
  }
 },
 "nbformat": 4,
 "nbformat_minor": 5
}
